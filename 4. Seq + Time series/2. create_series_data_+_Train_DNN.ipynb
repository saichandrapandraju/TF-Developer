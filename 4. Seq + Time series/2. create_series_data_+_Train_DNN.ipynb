{
  "nbformat": 4,
  "nbformat_minor": 0,
  "metadata": {
    "colab": {
      "name": "create_series_data + Train_DNN.ipynb",
      "provenance": [],
      "collapsed_sections": [],
      "authorship_tag": "ABX9TyNjN/sABerLgSB5HjJpwsVE",
      "include_colab_link": true
    },
    "kernelspec": {
      "name": "python3",
      "display_name": "Python 3"
    },
    "language_info": {
      "name": "python"
    },
    "widgets": {
      "application/vnd.jupyter.widget-state+json": {
        "914678f125594e7cad79efd424c8ba45": {
          "model_module": "@jupyter-widgets/controls",
          "model_name": "HBoxModel",
          "state": {
            "_view_name": "HBoxView",
            "_dom_classes": [],
            "_model_name": "HBoxModel",
            "_view_module": "@jupyter-widgets/controls",
            "_model_module_version": "1.5.0",
            "_view_count": null,
            "_view_module_version": "1.5.0",
            "box_style": "",
            "layout": "IPY_MODEL_23195712f8014fa282b414f48319b472",
            "_model_module": "@jupyter-widgets/controls",
            "children": [
              "IPY_MODEL_9c2775f4e85944cdbd161af889f441fe",
              "IPY_MODEL_e77efeea15ea452faef8478cd4b5a122"
            ]
          }
        },
        "23195712f8014fa282b414f48319b472": {
          "model_module": "@jupyter-widgets/base",
          "model_name": "LayoutModel",
          "state": {
            "_view_name": "LayoutView",
            "grid_template_rows": null,
            "right": null,
            "justify_content": null,
            "_view_module": "@jupyter-widgets/base",
            "overflow": null,
            "_model_module_version": "1.2.0",
            "_view_count": null,
            "flex_flow": null,
            "width": null,
            "min_width": null,
            "border": null,
            "align_items": null,
            "bottom": null,
            "_model_module": "@jupyter-widgets/base",
            "top": null,
            "grid_column": null,
            "overflow_y": null,
            "overflow_x": null,
            "grid_auto_flow": null,
            "grid_area": null,
            "grid_template_columns": null,
            "flex": null,
            "_model_name": "LayoutModel",
            "justify_items": null,
            "grid_row": null,
            "max_height": null,
            "align_content": null,
            "visibility": null,
            "align_self": null,
            "height": null,
            "min_height": null,
            "padding": null,
            "grid_auto_rows": null,
            "grid_gap": null,
            "max_width": null,
            "order": null,
            "_view_module_version": "1.2.0",
            "grid_template_areas": null,
            "object_position": null,
            "object_fit": null,
            "grid_auto_columns": null,
            "margin": null,
            "display": null,
            "left": null
          }
        },
        "9c2775f4e85944cdbd161af889f441fe": {
          "model_module": "@jupyter-widgets/controls",
          "model_name": "FloatProgressModel",
          "state": {
            "_view_name": "ProgressView",
            "style": "IPY_MODEL_3aa7b1b037004efaafcc66ed43b34efc",
            "_dom_classes": [],
            "description": "100%",
            "_model_name": "FloatProgressModel",
            "bar_style": "success",
            "max": 3631,
            "_view_module": "@jupyter-widgets/controls",
            "_model_module_version": "1.5.0",
            "value": 3631,
            "_view_count": null,
            "_view_module_version": "1.5.0",
            "orientation": "horizontal",
            "min": 0,
            "description_tooltip": null,
            "_model_module": "@jupyter-widgets/controls",
            "layout": "IPY_MODEL_01c16e5cb58d40aa87ba108a8d9099de"
          }
        },
        "e77efeea15ea452faef8478cd4b5a122": {
          "model_module": "@jupyter-widgets/controls",
          "model_name": "HTMLModel",
          "state": {
            "_view_name": "HTMLView",
            "style": "IPY_MODEL_78fa6a667fd44d6b8ef381bd9d73489c",
            "_dom_classes": [],
            "description": "",
            "_model_name": "HTMLModel",
            "placeholder": "​",
            "_view_module": "@jupyter-widgets/controls",
            "_model_module_version": "1.5.0",
            "value": " 3631/3631 [03:46&lt;00:00, 16.01it/s]",
            "_view_count": null,
            "_view_module_version": "1.5.0",
            "description_tooltip": null,
            "_model_module": "@jupyter-widgets/controls",
            "layout": "IPY_MODEL_67700a0e499a46b4a1e0267e569dc456"
          }
        },
        "3aa7b1b037004efaafcc66ed43b34efc": {
          "model_module": "@jupyter-widgets/controls",
          "model_name": "ProgressStyleModel",
          "state": {
            "_view_name": "StyleView",
            "_model_name": "ProgressStyleModel",
            "description_width": "initial",
            "_view_module": "@jupyter-widgets/base",
            "_model_module_version": "1.5.0",
            "_view_count": null,
            "_view_module_version": "1.2.0",
            "bar_color": null,
            "_model_module": "@jupyter-widgets/controls"
          }
        },
        "01c16e5cb58d40aa87ba108a8d9099de": {
          "model_module": "@jupyter-widgets/base",
          "model_name": "LayoutModel",
          "state": {
            "_view_name": "LayoutView",
            "grid_template_rows": null,
            "right": null,
            "justify_content": null,
            "_view_module": "@jupyter-widgets/base",
            "overflow": null,
            "_model_module_version": "1.2.0",
            "_view_count": null,
            "flex_flow": null,
            "width": null,
            "min_width": null,
            "border": null,
            "align_items": null,
            "bottom": null,
            "_model_module": "@jupyter-widgets/base",
            "top": null,
            "grid_column": null,
            "overflow_y": null,
            "overflow_x": null,
            "grid_auto_flow": null,
            "grid_area": null,
            "grid_template_columns": null,
            "flex": null,
            "_model_name": "LayoutModel",
            "justify_items": null,
            "grid_row": null,
            "max_height": null,
            "align_content": null,
            "visibility": null,
            "align_self": null,
            "height": null,
            "min_height": null,
            "padding": null,
            "grid_auto_rows": null,
            "grid_gap": null,
            "max_width": null,
            "order": null,
            "_view_module_version": "1.2.0",
            "grid_template_areas": null,
            "object_position": null,
            "object_fit": null,
            "grid_auto_columns": null,
            "margin": null,
            "display": null,
            "left": null
          }
        },
        "78fa6a667fd44d6b8ef381bd9d73489c": {
          "model_module": "@jupyter-widgets/controls",
          "model_name": "DescriptionStyleModel",
          "state": {
            "_view_name": "StyleView",
            "_model_name": "DescriptionStyleModel",
            "description_width": "",
            "_view_module": "@jupyter-widgets/base",
            "_model_module_version": "1.5.0",
            "_view_count": null,
            "_view_module_version": "1.2.0",
            "_model_module": "@jupyter-widgets/controls"
          }
        },
        "67700a0e499a46b4a1e0267e569dc456": {
          "model_module": "@jupyter-widgets/base",
          "model_name": "LayoutModel",
          "state": {
            "_view_name": "LayoutView",
            "grid_template_rows": null,
            "right": null,
            "justify_content": null,
            "_view_module": "@jupyter-widgets/base",
            "overflow": null,
            "_model_module_version": "1.2.0",
            "_view_count": null,
            "flex_flow": null,
            "width": null,
            "min_width": null,
            "border": null,
            "align_items": null,
            "bottom": null,
            "_model_module": "@jupyter-widgets/base",
            "top": null,
            "grid_column": null,
            "overflow_y": null,
            "overflow_x": null,
            "grid_auto_flow": null,
            "grid_area": null,
            "grid_template_columns": null,
            "flex": null,
            "_model_name": "LayoutModel",
            "justify_items": null,
            "grid_row": null,
            "max_height": null,
            "align_content": null,
            "visibility": null,
            "align_self": null,
            "height": null,
            "min_height": null,
            "padding": null,
            "grid_auto_rows": null,
            "grid_gap": null,
            "max_width": null,
            "order": null,
            "_view_module_version": "1.2.0",
            "grid_template_areas": null,
            "object_position": null,
            "object_fit": null,
            "grid_auto_columns": null,
            "margin": null,
            "display": null,
            "left": null
          }
        },
        "370b564d261e442fb39c7cad3b1c785c": {
          "model_module": "@jupyter-widgets/controls",
          "model_name": "HBoxModel",
          "state": {
            "_view_name": "HBoxView",
            "_dom_classes": [],
            "_model_name": "HBoxModel",
            "_view_module": "@jupyter-widgets/controls",
            "_model_module_version": "1.5.0",
            "_view_count": null,
            "_view_module_version": "1.5.0",
            "box_style": "",
            "layout": "IPY_MODEL_0a5f3a7a256f4d7fa86dfa7b2a9580f3",
            "_model_module": "@jupyter-widgets/controls",
            "children": [
              "IPY_MODEL_42b257a3177f41ec9c94c0c5432b91be",
              "IPY_MODEL_e314095bc290458bacd29c83ebf974a1"
            ]
          }
        },
        "0a5f3a7a256f4d7fa86dfa7b2a9580f3": {
          "model_module": "@jupyter-widgets/base",
          "model_name": "LayoutModel",
          "state": {
            "_view_name": "LayoutView",
            "grid_template_rows": null,
            "right": null,
            "justify_content": null,
            "_view_module": "@jupyter-widgets/base",
            "overflow": null,
            "_model_module_version": "1.2.0",
            "_view_count": null,
            "flex_flow": null,
            "width": null,
            "min_width": null,
            "border": null,
            "align_items": null,
            "bottom": null,
            "_model_module": "@jupyter-widgets/base",
            "top": null,
            "grid_column": null,
            "overflow_y": null,
            "overflow_x": null,
            "grid_auto_flow": null,
            "grid_area": null,
            "grid_template_columns": null,
            "flex": null,
            "_model_name": "LayoutModel",
            "justify_items": null,
            "grid_row": null,
            "max_height": null,
            "align_content": null,
            "visibility": null,
            "align_self": null,
            "height": null,
            "min_height": null,
            "padding": null,
            "grid_auto_rows": null,
            "grid_gap": null,
            "max_width": null,
            "order": null,
            "_view_module_version": "1.2.0",
            "grid_template_areas": null,
            "object_position": null,
            "object_fit": null,
            "grid_auto_columns": null,
            "margin": null,
            "display": null,
            "left": null
          }
        },
        "42b257a3177f41ec9c94c0c5432b91be": {
          "model_module": "@jupyter-widgets/controls",
          "model_name": "FloatProgressModel",
          "state": {
            "_view_name": "ProgressView",
            "style": "IPY_MODEL_8062aecac91c457988e045bb2970923f",
            "_dom_classes": [],
            "description": "100%",
            "_model_name": "FloatProgressModel",
            "bar_style": "success",
            "max": 3631,
            "_view_module": "@jupyter-widgets/controls",
            "_model_module_version": "1.5.0",
            "value": 3631,
            "_view_count": null,
            "_view_module_version": "1.5.0",
            "orientation": "horizontal",
            "min": 0,
            "description_tooltip": null,
            "_model_module": "@jupyter-widgets/controls",
            "layout": "IPY_MODEL_344c427726514bebaab9a7c2615c71ef"
          }
        },
        "e314095bc290458bacd29c83ebf974a1": {
          "model_module": "@jupyter-widgets/controls",
          "model_name": "HTMLModel",
          "state": {
            "_view_name": "HTMLView",
            "style": "IPY_MODEL_fa30a977fb7946118109eb51375ccc5c",
            "_dom_classes": [],
            "description": "",
            "_model_name": "HTMLModel",
            "placeholder": "​",
            "_view_module": "@jupyter-widgets/controls",
            "_model_module_version": "1.5.0",
            "value": " 3631/3631 [02:46&lt;00:00, 21.86it/s]",
            "_view_count": null,
            "_view_module_version": "1.5.0",
            "description_tooltip": null,
            "_model_module": "@jupyter-widgets/controls",
            "layout": "IPY_MODEL_e17c50dd064b439197aaa9e7dcfe36df"
          }
        },
        "8062aecac91c457988e045bb2970923f": {
          "model_module": "@jupyter-widgets/controls",
          "model_name": "ProgressStyleModel",
          "state": {
            "_view_name": "StyleView",
            "_model_name": "ProgressStyleModel",
            "description_width": "initial",
            "_view_module": "@jupyter-widgets/base",
            "_model_module_version": "1.5.0",
            "_view_count": null,
            "_view_module_version": "1.2.0",
            "bar_color": null,
            "_model_module": "@jupyter-widgets/controls"
          }
        },
        "344c427726514bebaab9a7c2615c71ef": {
          "model_module": "@jupyter-widgets/base",
          "model_name": "LayoutModel",
          "state": {
            "_view_name": "LayoutView",
            "grid_template_rows": null,
            "right": null,
            "justify_content": null,
            "_view_module": "@jupyter-widgets/base",
            "overflow": null,
            "_model_module_version": "1.2.0",
            "_view_count": null,
            "flex_flow": null,
            "width": null,
            "min_width": null,
            "border": null,
            "align_items": null,
            "bottom": null,
            "_model_module": "@jupyter-widgets/base",
            "top": null,
            "grid_column": null,
            "overflow_y": null,
            "overflow_x": null,
            "grid_auto_flow": null,
            "grid_area": null,
            "grid_template_columns": null,
            "flex": null,
            "_model_name": "LayoutModel",
            "justify_items": null,
            "grid_row": null,
            "max_height": null,
            "align_content": null,
            "visibility": null,
            "align_self": null,
            "height": null,
            "min_height": null,
            "padding": null,
            "grid_auto_rows": null,
            "grid_gap": null,
            "max_width": null,
            "order": null,
            "_view_module_version": "1.2.0",
            "grid_template_areas": null,
            "object_position": null,
            "object_fit": null,
            "grid_auto_columns": null,
            "margin": null,
            "display": null,
            "left": null
          }
        },
        "fa30a977fb7946118109eb51375ccc5c": {
          "model_module": "@jupyter-widgets/controls",
          "model_name": "DescriptionStyleModel",
          "state": {
            "_view_name": "StyleView",
            "_model_name": "DescriptionStyleModel",
            "description_width": "",
            "_view_module": "@jupyter-widgets/base",
            "_model_module_version": "1.5.0",
            "_view_count": null,
            "_view_module_version": "1.2.0",
            "_model_module": "@jupyter-widgets/controls"
          }
        },
        "e17c50dd064b439197aaa9e7dcfe36df": {
          "model_module": "@jupyter-widgets/base",
          "model_name": "LayoutModel",
          "state": {
            "_view_name": "LayoutView",
            "grid_template_rows": null,
            "right": null,
            "justify_content": null,
            "_view_module": "@jupyter-widgets/base",
            "overflow": null,
            "_model_module_version": "1.2.0",
            "_view_count": null,
            "flex_flow": null,
            "width": null,
            "min_width": null,
            "border": null,
            "align_items": null,
            "bottom": null,
            "_model_module": "@jupyter-widgets/base",
            "top": null,
            "grid_column": null,
            "overflow_y": null,
            "overflow_x": null,
            "grid_auto_flow": null,
            "grid_area": null,
            "grid_template_columns": null,
            "flex": null,
            "_model_name": "LayoutModel",
            "justify_items": null,
            "grid_row": null,
            "max_height": null,
            "align_content": null,
            "visibility": null,
            "align_self": null,
            "height": null,
            "min_height": null,
            "padding": null,
            "grid_auto_rows": null,
            "grid_gap": null,
            "max_width": null,
            "order": null,
            "_view_module_version": "1.2.0",
            "grid_template_areas": null,
            "object_position": null,
            "object_fit": null,
            "grid_auto_columns": null,
            "margin": null,
            "display": null,
            "left": null
          }
        }
      }
    }
  },
  "cells": [
    {
      "cell_type": "markdown",
      "metadata": {
        "id": "view-in-github",
        "colab_type": "text"
      },
      "source": [
        "<a href=\"https://colab.research.google.com/github/saichandrapandraju/TF-Developer/blob/main/4.%20Seq%20%2B%20Time%20series/2.%20create_series_data_%2B_Train_DNN.ipynb\" target=\"_parent\"><img src=\"https://colab.research.google.com/assets/colab-badge.svg\" alt=\"Open In Colab\"/></a>"
      ]
    },
    {
      "cell_type": "code",
      "metadata": {
        "colab": {
          "base_uri": "https://localhost:8080/"
        },
        "id": "_x2xJfha5qUX",
        "outputId": "3e97af83-a6c4-4d3f-a9d1-5c949eb3fce9"
      },
      "source": [
        "import tensorflow as tf\n",
        "import numpy as np\n",
        "import matplotlib.pyplot as plt\n",
        "print(tf.__version__)"
      ],
      "execution_count": 1,
      "outputs": [
        {
          "output_type": "stream",
          "text": [
            "2.4.1\n"
          ],
          "name": "stdout"
        }
      ]
    },
    {
      "cell_type": "code",
      "metadata": {
        "id": "jhT5lllQAxBH"
      },
      "source": [
        "from tqdm.notebook import tqdm"
      ],
      "execution_count": 39,
      "outputs": []
    },
    {
      "cell_type": "code",
      "metadata": {
        "colab": {
          "base_uri": "https://localhost:8080/",
          "height": 279
        },
        "id": "Usx7JexU54aE",
        "outputId": "51b1b303-d8d5-4d76-c634-88b3e8646d3c"
      },
      "source": [
        "def plot_series(time, series, format=\"-\", start=0, end=None):\n",
        "    plt.plot(time[start:end], series[start:end], format)\n",
        "    plt.xlabel(\"Time\")\n",
        "    plt.ylabel(\"Value\")\n",
        "    plt.grid(False)\n",
        "\n",
        "def trend(time, slope=0):\n",
        "    return slope * time\n",
        "\n",
        "def seasonal_pattern(season_time):\n",
        "    \"\"\"Just an arbitrary pattern, you can change it if you wish\"\"\"\n",
        "    return np.where(season_time < 0.1,\n",
        "                    np.cos(season_time * 6 * np.pi),\n",
        "                    2 / np.exp(9 * season_time))\n",
        "\n",
        "def seasonality(time, period, amplitude=1, phase=0):\n",
        "    \"\"\"Repeats the same pattern at each period\"\"\"\n",
        "    season_time = ((time + phase) % period) / period\n",
        "    return amplitude * seasonal_pattern(season_time)\n",
        "\n",
        "def noise(time, noise_level=1, seed=None):\n",
        "    rnd = np.random.RandomState(seed)\n",
        "    return rnd.randn(len(time)) * noise_level\n",
        "\n",
        "time = np.arange(10 * 365 + 1, dtype=\"float32\")\n",
        "baseline = 10\n",
        "series = trend(time, 0.1)  \n",
        "baseline = 10\n",
        "amplitude = 40\n",
        "slope = 0.005\n",
        "noise_level = 3\n",
        "\n",
        "# Create the series\n",
        "series = baseline + trend(time, slope) + seasonality(time, period=365, amplitude=amplitude)\n",
        "# Update with noise\n",
        "series += noise(time, noise_level, seed=51)\n",
        "\n",
        "split_time = 3000\n",
        "time_train = time[:split_time]\n",
        "x_train = series[:split_time]\n",
        "time_valid = time[split_time:]\n",
        "x_valid = series[split_time:]\n",
        "\n",
        "window_size = 20\n",
        "batch_size = 32\n",
        "shuffle_buffer_size = 1000\n",
        "\n",
        "plot_series(time, series)"
      ],
      "execution_count": 2,
      "outputs": [
        {
          "output_type": "display_data",
          "data": {
            "image/png": "[encoded data removed]",
            "text/plain": [
              "<Figure size 432x288 with 1 Axes>"
            ]
          },
          "metadata": {
            "tags": [],
            "needs_background": "light"
          }
        }
      ]
    },
    {
      "cell_type": "markdown",
      "metadata": {
        "id": "I3oOpAQa7Rrh"
      },
      "source": [
        "create features and labels for model"
      ]
    },
    {
      "cell_type": "code",
      "metadata": {
        "colab": {
          "base_uri": "https://localhost:8080/"
        },
        "id": "jdihnvXN7FS0",
        "outputId": "4a1449c6-ebbc-45d7-ada8-d4befa92a214"
      },
      "source": [
        "ds = tf.data.Dataset.range(10)\n",
        "for item in ds:\n",
        "  print(item, item.numpy())"
      ],
      "execution_count": 18,
      "outputs": [
        {
          "output_type": "stream",
          "text": [
            "tf.Tensor(0, shape=(), dtype=int64) 0\n",
            "tf.Tensor(1, shape=(), dtype=int64) 1\n",
            "tf.Tensor(2, shape=(), dtype=int64) 2\n",
            "tf.Tensor(3, shape=(), dtype=int64) 3\n",
            "tf.Tensor(4, shape=(), dtype=int64) 4\n",
            "tf.Tensor(5, shape=(), dtype=int64) 5\n",
            "tf.Tensor(6, shape=(), dtype=int64) 6\n",
            "tf.Tensor(7, shape=(), dtype=int64) 7\n",
            "tf.Tensor(8, shape=(), dtype=int64) 8\n",
            "tf.Tensor(9, shape=(), dtype=int64) 9\n"
          ],
          "name": "stdout"
        }
      ]
    },
    {
      "cell_type": "code",
      "metadata": {
        "colab": {
          "base_uri": "https://localhost:8080/"
        },
        "id": "82WR9XVQ7dPP",
        "outputId": "66271f08-da5d-4a3f-f982-917d88488d5b"
      },
      "source": [
        "win_ds = ds.window(5, shift=1)  ## creating a window of 5 (actually 4 as we'll see below)\n",
        "for item in win_ds:\n",
        "  for sample in item:\n",
        "    print(sample.numpy(), end=' ')\n",
        "  print()"
      ],
      "execution_count": 19,
      "outputs": [
        {
          "output_type": "stream",
          "text": [
            "0 1 2 3 4 \n",
            "1 2 3 4 5 \n",
            "2 3 4 5 6 \n",
            "3 4 5 6 7 \n",
            "4 5 6 7 8 \n",
            "5 6 7 8 9 \n",
            "6 7 8 9 \n",
            "7 8 9 \n",
            "8 9 \n",
            "9 \n"
          ],
          "name": "stdout"
        }
      ]
    },
    {
      "cell_type": "code",
      "metadata": {
        "colab": {
          "base_uri": "https://localhost:8080/"
        },
        "id": "YJ747MBI8f0D",
        "outputId": "7f910f6a-fa03-4cf2-aa7c-ea9f14278f39"
      },
      "source": [
        "win_ds = ds.window(5, shift=1, drop_remainder=True) ## dropping remaining values\n",
        "for item in win_ds:\n",
        "  for sample in item:\n",
        "    print(sample.numpy(), end=' ')\n",
        "  print()"
      ],
      "execution_count": 20,
      "outputs": [
        {
          "output_type": "stream",
          "text": [
            "0 1 2 3 4 \n",
            "1 2 3 4 5 \n",
            "2 3 4 5 6 \n",
            "3 4 5 6 7 \n",
            "4 5 6 7 8 \n",
            "5 6 7 8 9 \n"
          ],
          "name": "stdout"
        }
      ]
    },
    {
      "cell_type": "code",
      "metadata": {
        "colab": {
          "base_uri": "https://localhost:8080/"
        },
        "id": "bfgYC7mT82Pg",
        "outputId": "3bc83d30-c485-4def-e7f8-39f311f95fb4"
      },
      "source": [
        "flat_ds = win_ds.flat_map(lambda window: window.batch(5)) ## flattening to form a list\n",
        "for window in flat_ds:\n",
        "  print(window.numpy())"
      ],
      "execution_count": 21,
      "outputs": [
        {
          "output_type": "stream",
          "text": [
            "[0 1 2 3 4]\n",
            "[1 2 3 4 5]\n",
            "[2 3 4 5 6]\n",
            "[3 4 5 6 7]\n",
            "[4 5 6 7 8]\n",
            "[5 6 7 8 9]\n"
          ],
          "name": "stdout"
        }
      ]
    },
    {
      "cell_type": "code",
      "metadata": {
        "colab": {
          "base_uri": "https://localhost:8080/"
        },
        "id": "T2hwc66g9EOl",
        "outputId": "cfc66c16-5f8a-420b-bc4d-28355f517fe7"
      },
      "source": [
        "xs_ys = flat_ds.map(lambda window: (window[:-1], window[-1:])) ## creating features and labels\n",
        "for x,y in xs_ys:\n",
        "  print(x.numpy(), y.numpy())"
      ],
      "execution_count": 22,
      "outputs": [
        {
          "output_type": "stream",
          "text": [
            "[0 1 2 3] [4]\n",
            "[1 2 3 4] [5]\n",
            "[2 3 4 5] [6]\n",
            "[3 4 5 6] [7]\n",
            "[4 5 6 7] [8]\n",
            "[5 6 7 8] [9]\n"
          ],
          "name": "stdout"
        }
      ]
    },
    {
      "cell_type": "code",
      "metadata": {
        "colab": {
          "base_uri": "https://localhost:8080/"
        },
        "id": "XqcBbcpS9Oqa",
        "outputId": "0417d1c6-81bb-4e68-b0f6-1108654d27df"
      },
      "source": [
        "%%time\n",
        "xs_ys = flat_ds.map(lambda window: (window[:-1], window[-1:]))  ## shuffling to remove sequence bias\n",
        "xs_ys = xs_ys.shuffle(buffer_size=10)\n",
        "for x,y in xs_ys:\n",
        "  print(x.numpy(), y.numpy())"
      ],
      "execution_count": 27,
      "outputs": [
        {
          "output_type": "stream",
          "text": [
            "[5 6 7 8] [9]\n",
            "[4 5 6 7] [8]\n",
            "[2 3 4 5] [6]\n",
            "[0 1 2 3] [4]\n",
            "[1 2 3 4] [5]\n",
            "[3 4 5 6] [7]\n",
            "CPU times: user 48.1 ms, sys: 1.09 ms, total: 49.2 ms\n",
            "Wall time: 46.4 ms\n"
          ],
          "name": "stdout"
        }
      ]
    },
    {
      "cell_type": "code",
      "metadata": {
        "colab": {
          "base_uri": "https://localhost:8080/"
        },
        "id": "K0SGPuH29aMZ",
        "outputId": "949eaeed-3fec-4e82-cfca-b256be3a3627"
      },
      "source": [
        "%%time\n",
        "xs_ys = flat_ds.map(lambda window: (window[:-1], window[-1:]))\n",
        "xs_ys = xs_ys.shuffle(buffer_size=10)\n",
        "xs_ys = xs_ys.batch(2).prefetch(1)  ## creating batches and prefetching for efficient loading\n",
        "for x,y in xs_ys:\n",
        "  print(\"x = \", x.numpy())\n",
        "  print(\"y = \", y.numpy())"
      ],
      "execution_count": 26,
      "outputs": [
        {
          "output_type": "stream",
          "text": [
            "x =  [[2 3 4 5]\n",
            " [3 4 5 6]]\n",
            "y =  [[6]\n",
            " [7]]\n",
            "x =  [[4 5 6 7]\n",
            " [5 6 7 8]]\n",
            "y =  [[8]\n",
            " [9]]\n",
            "x =  [[0 1 2 3]\n",
            " [1 2 3 4]]\n",
            "y =  [[4]\n",
            " [5]]\n",
            "CPU times: user 37.5 ms, sys: 2.04 ms, total: 39.5 ms\n",
            "Wall time: 40.2 ms\n"
          ],
          "name": "stdout"
        }
      ]
    },
    {
      "cell_type": "code",
      "metadata": {
        "colab": {
          "base_uri": "https://localhost:8080/"
        },
        "id": "bnSbVbzq9s39",
        "outputId": "f658838f-1c8d-4c7c-9a6b-4992ad9ce4ff"
      },
      "source": [
        "## putting everything together\n",
        "dataset = tf.data.Dataset.range(10)\n",
        "dataset = dataset.window(5, shift=1, drop_remainder=True)\n",
        "dataset = dataset.flat_map(lambda window: window.batch(5))\n",
        "dataset = dataset.map(lambda window: (window[:-1], window[-1:]))\n",
        "dataset = dataset.shuffle(buffer_size=10)\n",
        "dataset = dataset.batch(2).prefetch(1)\n",
        "for x,y in dataset:\n",
        "  print(\"x = \", x.numpy())\n",
        "  print(\"y = \", y.numpy())\n"
      ],
      "execution_count": 28,
      "outputs": [
        {
          "output_type": "stream",
          "text": [
            "x =  [[2 3 4 5]\n",
            " [5 6 7 8]]\n",
            "y =  [[6]\n",
            " [9]]\n",
            "x =  [[0 1 2 3]\n",
            " [1 2 3 4]]\n",
            "y =  [[4]\n",
            " [5]]\n",
            "x =  [[4 5 6 7]\n",
            " [3 4 5 6]]\n",
            "y =  [[8]\n",
            " [7]]\n"
          ],
          "name": "stdout"
        }
      ]
    },
    {
      "cell_type": "markdown",
      "metadata": {
        "id": "Mfz0XY9o-iV1"
      },
      "source": [
        "applying above stuff to prev time series data"
      ]
    },
    {
      "cell_type": "code",
      "metadata": {
        "id": "MyNjzU9h-a59"
      },
      "source": [
        "def windowed_dataset(series, window_size, batch_size, shuffle_buffer):\n",
        "  dataset = tf.data.Dataset.from_tensor_slices(series)\n",
        "  dataset = dataset.window(window_size + 1, shift=1, drop_remainder=True)\n",
        "  dataset = dataset.flat_map(lambda window: window.batch(window_size + 1))\n",
        "  dataset = dataset.shuffle(shuffle_buffer).map(lambda window: (window[:-1], window[-1]))\n",
        "  dataset = dataset.batch(batch_size).prefetch(1)\n",
        "  return dataset"
      ],
      "execution_count": 29,
      "outputs": []
    },
    {
      "cell_type": "markdown",
      "metadata": {
        "id": "oQEcxnkb_DGy"
      },
      "source": [
        "build and train model"
      ]
    },
    {
      "cell_type": "code",
      "metadata": {
        "colab": {
          "base_uri": "https://localhost:8080/"
        },
        "id": "hFINNYdY--ue",
        "outputId": "aa42015b-8ff9-478c-8ec2-931dc9f29e7f"
      },
      "source": [
        "dataset = windowed_dataset(x_train, window_size, batch_size, shuffle_buffer_size)\n",
        "\n",
        "for i in dataset:\n",
        "  print(i[0].shape, i[1].shape)\n",
        "  break"
      ],
      "execution_count": 34,
      "outputs": [
        {
          "output_type": "stream",
          "text": [
            "(32, 20) (32,)\n"
          ],
          "name": "stdout"
        }
      ]
    },
    {
      "cell_type": "code",
      "metadata": {
        "colab": {
          "base_uri": "https://localhost:8080/"
        },
        "id": "d96eVpmx_m4T",
        "outputId": "933e2d13-5151-4ff7-ee22-9a53ae5b57c7"
      },
      "source": [
        "model = tf.keras.models.Sequential([\n",
        "    tf.keras.layers.Dense(16, activation='relu', input_shape=[window_size]),\n",
        "    tf.keras.layers.Dense(8, activation=\"relu\"), \n",
        "    tf.keras.layers.Dense(1)\n",
        "])\n",
        "\n",
        "model.compile(loss='mse', optimizer=tf.keras.optimizers.SGD(learning_rate=1e-6, momentum=0.9))\n",
        "model.fit(dataset,epochs=100,verbose=2)"
      ],
      "execution_count": 35,
      "outputs": [
        {
          "output_type": "stream",
          "text": [
            "Epoch 1/100\n",
            "94/94 - 1s - loss: 96.7658\n",
            "Epoch 2/100\n",
            "94/94 - 0s - loss: 65.3267\n",
            "Epoch 3/100\n",
            "94/94 - 0s - loss: 52.6150\n",
            "Epoch 4/100\n",
            "94/94 - 0s - loss: 45.4698\n",
            "Epoch 5/100\n",
            "94/94 - 0s - loss: 40.6942\n",
            "Epoch 6/100\n",
            "94/94 - 0s - loss: 37.2717\n",
            "Epoch 7/100\n",
            "94/94 - 0s - loss: 34.8000\n",
            "Epoch 8/100\n",
            "94/94 - 0s - loss: 33.1549\n",
            "Epoch 9/100\n",
            "94/94 - 0s - loss: 31.8777\n",
            "Epoch 10/100\n",
            "94/94 - 0s - loss: 31.0474\n",
            "Epoch 11/100\n",
            "94/94 - 0s - loss: 30.1475\n",
            "Epoch 12/100\n",
            "94/94 - 0s - loss: 29.5893\n",
            "Epoch 13/100\n",
            "94/94 - 0s - loss: 29.0433\n",
            "Epoch 14/100\n",
            "94/94 - 0s - loss: 28.7185\n",
            "Epoch 15/100\n",
            "94/94 - 0s - loss: 28.2857\n",
            "Epoch 16/100\n",
            "94/94 - 0s - loss: 28.0193\n",
            "Epoch 17/100\n",
            "94/94 - 0s - loss: 27.7278\n",
            "Epoch 18/100\n",
            "94/94 - 0s - loss: 27.4955\n",
            "Epoch 19/100\n",
            "94/94 - 0s - loss: 27.3471\n",
            "Epoch 20/100\n",
            "94/94 - 0s - loss: 27.1726\n",
            "Epoch 21/100\n",
            "94/94 - 0s - loss: 26.9383\n",
            "Epoch 22/100\n",
            "94/94 - 0s - loss: 26.7808\n",
            "Epoch 23/100\n",
            "94/94 - 0s - loss: 26.6994\n",
            "Epoch 24/100\n",
            "94/94 - 0s - loss: 26.4194\n",
            "Epoch 25/100\n",
            "94/94 - 0s - loss: 26.3773\n",
            "Epoch 26/100\n",
            "94/94 - 0s - loss: 26.2471\n",
            "Epoch 27/100\n",
            "94/94 - 0s - loss: 26.1938\n",
            "Epoch 28/100\n",
            "94/94 - 0s - loss: 26.0476\n",
            "Epoch 29/100\n",
            "94/94 - 0s - loss: 25.8851\n",
            "Epoch 30/100\n",
            "94/94 - 0s - loss: 25.8048\n",
            "Epoch 31/100\n",
            "94/94 - 0s - loss: 25.7622\n",
            "Epoch 32/100\n",
            "94/94 - 0s - loss: 25.5821\n",
            "Epoch 33/100\n",
            "94/94 - 0s - loss: 25.5184\n",
            "Epoch 34/100\n",
            "94/94 - 0s - loss: 25.3768\n",
            "Epoch 35/100\n",
            "94/94 - 0s - loss: 25.3213\n",
            "Epoch 36/100\n",
            "94/94 - 0s - loss: 25.2240\n",
            "Epoch 37/100\n",
            "94/94 - 0s - loss: 25.1549\n",
            "Epoch 38/100\n",
            "94/94 - 0s - loss: 25.1472\n",
            "Epoch 39/100\n",
            "94/94 - 0s - loss: 24.9628\n",
            "Epoch 40/100\n",
            "94/94 - 0s - loss: 25.0470\n",
            "Epoch 41/100\n",
            "94/94 - 0s - loss: 24.8743\n",
            "Epoch 42/100\n",
            "94/94 - 0s - loss: 24.7943\n",
            "Epoch 43/100\n",
            "94/94 - 0s - loss: 24.7490\n",
            "Epoch 44/100\n",
            "94/94 - 0s - loss: 24.6961\n",
            "Epoch 45/100\n",
            "94/94 - 0s - loss: 24.6098\n",
            "Epoch 46/100\n",
            "94/94 - 0s - loss: 24.5133\n",
            "Epoch 47/100\n",
            "94/94 - 0s - loss: 24.4867\n",
            "Epoch 48/100\n",
            "94/94 - 0s - loss: 24.3973\n",
            "Epoch 49/100\n",
            "94/94 - 0s - loss: 24.5213\n",
            "Epoch 50/100\n",
            "94/94 - 0s - loss: 24.3555\n",
            "Epoch 51/100\n",
            "94/94 - 0s - loss: 24.3267\n",
            "Epoch 52/100\n",
            "94/94 - 0s - loss: 24.1700\n",
            "Epoch 53/100\n",
            "94/94 - 0s - loss: 24.2065\n",
            "Epoch 54/100\n",
            "94/94 - 0s - loss: 24.1069\n",
            "Epoch 55/100\n",
            "94/94 - 0s - loss: 24.1119\n",
            "Epoch 56/100\n",
            "94/94 - 0s - loss: 24.0450\n",
            "Epoch 57/100\n",
            "94/94 - 0s - loss: 23.9828\n",
            "Epoch 58/100\n",
            "94/94 - 0s - loss: 23.9301\n",
            "Epoch 59/100\n",
            "94/94 - 0s - loss: 23.7256\n",
            "Epoch 60/100\n",
            "94/94 - 0s - loss: 24.0290\n",
            "Epoch 61/100\n",
            "94/94 - 0s - loss: 23.7531\n",
            "Epoch 62/100\n",
            "94/94 - 0s - loss: 23.7434\n",
            "Epoch 63/100\n",
            "94/94 - 0s - loss: 23.7171\n",
            "Epoch 64/100\n",
            "94/94 - 0s - loss: 23.6835\n",
            "Epoch 65/100\n",
            "94/94 - 0s - loss: 23.6151\n",
            "Epoch 66/100\n",
            "94/94 - 0s - loss: 23.5273\n",
            "Epoch 67/100\n",
            "94/94 - 0s - loss: 23.4855\n",
            "Epoch 68/100\n",
            "94/94 - 0s - loss: 23.4708\n",
            "Epoch 69/100\n",
            "94/94 - 0s - loss: 23.5187\n",
            "Epoch 70/100\n",
            "94/94 - 0s - loss: 23.3734\n",
            "Epoch 71/100\n",
            "94/94 - 0s - loss: 23.2963\n",
            "Epoch 72/100\n",
            "94/94 - 0s - loss: 23.3651\n",
            "Epoch 73/100\n",
            "94/94 - 0s - loss: 23.2632\n",
            "Epoch 74/100\n",
            "94/94 - 0s - loss: 23.3058\n",
            "Epoch 75/100\n",
            "94/94 - 0s - loss: 23.1778\n",
            "Epoch 76/100\n",
            "94/94 - 0s - loss: 23.2157\n",
            "Epoch 77/100\n",
            "94/94 - 0s - loss: 23.1408\n",
            "Epoch 78/100\n",
            "94/94 - 0s - loss: 23.0400\n",
            "Epoch 79/100\n",
            "94/94 - 0s - loss: 23.1749\n",
            "Epoch 80/100\n",
            "94/94 - 0s - loss: 23.0430\n",
            "Epoch 81/100\n",
            "94/94 - 0s - loss: 23.0397\n",
            "Epoch 82/100\n",
            "94/94 - 0s - loss: 23.0253\n",
            "Epoch 83/100\n",
            "94/94 - 0s - loss: 22.9787\n",
            "Epoch 84/100\n",
            "94/94 - 0s - loss: 22.9343\n",
            "Epoch 85/100\n",
            "94/94 - 0s - loss: 22.8592\n",
            "Epoch 86/100\n",
            "94/94 - 0s - loss: 22.8965\n",
            "Epoch 87/100\n",
            "94/94 - 0s - loss: 22.8158\n",
            "Epoch 88/100\n",
            "94/94 - 1s - loss: 22.8244\n",
            "Epoch 89/100\n",
            "94/94 - 0s - loss: 22.8152\n",
            "Epoch 90/100\n",
            "94/94 - 0s - loss: 22.7259\n",
            "Epoch 91/100\n",
            "94/94 - 0s - loss: 22.6409\n",
            "Epoch 92/100\n",
            "94/94 - 0s - loss: 22.7726\n",
            "Epoch 93/100\n",
            "94/94 - 0s - loss: 22.6488\n",
            "Epoch 94/100\n",
            "94/94 - 0s - loss: 22.6406\n",
            "Epoch 95/100\n",
            "94/94 - 0s - loss: 22.6561\n",
            "Epoch 96/100\n",
            "94/94 - 0s - loss: 22.6712\n",
            "Epoch 97/100\n",
            "94/94 - 0s - loss: 22.6278\n",
            "Epoch 98/100\n",
            "94/94 - 0s - loss: 22.5081\n",
            "Epoch 99/100\n",
            "94/94 - 0s - loss: 22.5017\n",
            "Epoch 100/100\n",
            "94/94 - 0s - loss: 22.6000\n"
          ],
          "name": "stdout"
        },
        {
          "output_type": "execute_result",
          "data": {
            "text/plain": [
              "<tensorflow.python.keras.callbacks.History at 0x7fb7b188cc50>"
            ]
          },
          "metadata": {
            "tags": []
          },
          "execution_count": 35
        }
      ]
    },
    {
      "cell_type": "code",
      "metadata": {
        "colab": {
          "base_uri": "https://localhost:8080/",
          "height": 437,
          "referenced_widgets": [
            "914678f125594e7cad79efd424c8ba45",
            "23195712f8014fa282b414f48319b472",
            "9c2775f4e85944cdbd161af889f441fe",
            "e77efeea15ea452faef8478cd4b5a122",
            "3aa7b1b037004efaafcc66ed43b34efc",
            "01c16e5cb58d40aa87ba108a8d9099de",
            "78fa6a667fd44d6b8ef381bd9d73489c",
            "67700a0e499a46b4a1e0267e569dc456"
          ]
        },
        "id": "PnATi5t-ACqV",
        "outputId": "e05c5737-9770-46a9-9fa2-2bfdfe5c76c4"
      },
      "source": [
        "forecast = []\n",
        "for time in tqdm(range(len(series) - window_size)):\n",
        "  forecast.append(model.predict(series[time:time + window_size][np.newaxis]))\n",
        "\n",
        "forecast = forecast[split_time-window_size:]\n",
        "results = np.array(forecast)[:, 0, 0]\n",
        "\n",
        "\n",
        "plt.figure(figsize=(15, 6))\n",
        "\n",
        "plot_series(time_valid, x_valid)\n",
        "plot_series(time_valid, results)"
      ],
      "execution_count": 40,
      "outputs": [
        {
          "output_type": "display_data",
          "data": {
            "application/vnd.jupyter.widget-view+json": {
              "model_id": "914678f125594e7cad79efd424c8ba45",
              "version_minor": 0,
              "version_major": 2
            },
            "text/plain": [
              "HBox(children=(FloatProgress(value=0.0, max=3631.0), HTML(value='')))"
            ]
          },
          "metadata": {
            "tags": []
          }
        },
        {
          "output_type": "stream",
          "text": [
            "\n"
          ],
          "name": "stdout"
        },
        {
          "output_type": "display_data",
          "data": {
            "image/png": "[encoded data removed]",
            "text/plain": [
              "<Figure size 1080x432 with 1 Axes>"
            ]
          },
          "metadata": {
            "tags": [],
            "needs_background": "light"
          }
        }
      ]
    },
    {
      "cell_type": "code",
      "metadata": {
        "colab": {
          "base_uri": "https://localhost:8080/"
        },
        "id": "4T7KBH8KAgPz",
        "outputId": "ece52c3b-5aa6-4339-a0df-750676c72234"
      },
      "source": [
        "tf.keras.metrics.mean_absolute_error(x_valid, results).numpy()"
      ],
      "execution_count": 41,
      "outputs": [
        {
          "output_type": "execute_result",
          "data": {
            "text/plain": [
              "3.0313096"
            ]
          },
          "metadata": {
            "tags": []
          },
          "execution_count": 41
        }
      ]
    },
    {
      "cell_type": "code",
      "metadata": {
        "colab": {
          "base_uri": "https://localhost:8080/"
        },
        "id": "AsbTHQu-ApAs",
        "outputId": "a42c9a66-3335-4150-f045-9480bbe6b772"
      },
      "source": [
        "model = tf.keras.models.Sequential([\n",
        "    tf.keras.layers.Dense(128, activation='relu', input_shape=[window_size]),\n",
        "    tf.keras.layers.Dense(16, activation=\"relu\"), \n",
        "    tf.keras.layers.Dense(1)\n",
        "])\n",
        "\n",
        "model.compile(loss='mse', optimizer=tf.keras.optimizers.SGD(learning_rate=1e-6, momentum=0.9))\n",
        "model.fit(dataset,epochs=100,verbose=2)"
      ],
      "execution_count": 42,
      "outputs": [
        {
          "output_type": "stream",
          "text": [
            "Epoch 1/100\n",
            "94/94 - 1s - loss: 73.6940\n",
            "Epoch 2/100\n",
            "94/94 - 0s - loss: 34.6982\n",
            "Epoch 3/100\n",
            "94/94 - 0s - loss: 31.6886\n",
            "Epoch 4/100\n",
            "94/94 - 0s - loss: 29.8161\n",
            "Epoch 5/100\n",
            "94/94 - 0s - loss: 28.7102\n",
            "Epoch 6/100\n",
            "94/94 - 0s - loss: 27.9126\n",
            "Epoch 7/100\n",
            "94/94 - 0s - loss: 27.3130\n",
            "Epoch 8/100\n",
            "94/94 - 0s - loss: 26.8230\n",
            "Epoch 9/100\n",
            "94/94 - 0s - loss: 26.2054\n",
            "Epoch 10/100\n",
            "94/94 - 0s - loss: 25.9049\n",
            "Epoch 11/100\n",
            "94/94 - 0s - loss: 25.5417\n",
            "Epoch 12/100\n",
            "94/94 - 0s - loss: 25.3623\n",
            "Epoch 13/100\n",
            "94/94 - 0s - loss: 25.2019\n",
            "Epoch 14/100\n",
            "94/94 - 0s - loss: 24.9074\n",
            "Epoch 15/100\n",
            "94/94 - 0s - loss: 24.5923\n",
            "Epoch 16/100\n",
            "94/94 - 0s - loss: 24.5104\n",
            "Epoch 17/100\n",
            "94/94 - 0s - loss: 24.4169\n",
            "Epoch 18/100\n",
            "94/94 - 0s - loss: 24.2405\n",
            "Epoch 19/100\n",
            "94/94 - 0s - loss: 24.1358\n",
            "Epoch 20/100\n",
            "94/94 - 0s - loss: 24.0716\n",
            "Epoch 21/100\n",
            "94/94 - 1s - loss: 23.9100\n",
            "Epoch 22/100\n",
            "94/94 - 0s - loss: 23.8439\n",
            "Epoch 23/100\n",
            "94/94 - 0s - loss: 23.8265\n",
            "Epoch 24/100\n",
            "94/94 - 0s - loss: 23.5994\n",
            "Epoch 25/100\n",
            "94/94 - 0s - loss: 23.6037\n",
            "Epoch 26/100\n",
            "94/94 - 0s - loss: 23.4375\n",
            "Epoch 27/100\n",
            "94/94 - 0s - loss: 23.3362\n",
            "Epoch 28/100\n",
            "94/94 - 0s - loss: 23.2466\n",
            "Epoch 29/100\n",
            "94/94 - 0s - loss: 23.1549\n",
            "Epoch 30/100\n",
            "94/94 - 0s - loss: 23.0733\n",
            "Epoch 31/100\n",
            "94/94 - 0s - loss: 22.9695\n",
            "Epoch 32/100\n",
            "94/94 - 1s - loss: 22.8596\n",
            "Epoch 33/100\n",
            "94/94 - 0s - loss: 22.8470\n",
            "Epoch 34/100\n",
            "94/94 - 0s - loss: 22.8130\n",
            "Epoch 35/100\n",
            "94/94 - 0s - loss: 22.6074\n",
            "Epoch 36/100\n",
            "94/94 - 0s - loss: 22.7327\n",
            "Epoch 37/100\n",
            "94/94 - 0s - loss: 22.5967\n",
            "Epoch 38/100\n",
            "94/94 - 0s - loss: 22.4954\n",
            "Epoch 39/100\n",
            "94/94 - 0s - loss: 22.5277\n",
            "Epoch 40/100\n",
            "94/94 - 0s - loss: 22.4593\n",
            "Epoch 41/100\n",
            "94/94 - 0s - loss: 22.4838\n",
            "Epoch 42/100\n",
            "94/94 - 0s - loss: 22.4068\n",
            "Epoch 43/100\n",
            "94/94 - 0s - loss: 22.4446\n",
            "Epoch 44/100\n",
            "94/94 - 0s - loss: 22.3805\n",
            "Epoch 45/100\n",
            "94/94 - 0s - loss: 22.2488\n",
            "Epoch 46/100\n",
            "94/94 - 0s - loss: 22.1820\n",
            "Epoch 47/100\n",
            "94/94 - 0s - loss: 22.2276\n",
            "Epoch 48/100\n",
            "94/94 - 0s - loss: 22.1868\n",
            "Epoch 49/100\n",
            "94/94 - 0s - loss: 22.1765\n",
            "Epoch 50/100\n",
            "94/94 - 0s - loss: 22.1390\n",
            "Epoch 51/100\n",
            "94/94 - 0s - loss: 22.1331\n",
            "Epoch 52/100\n",
            "94/94 - 0s - loss: 22.1163\n",
            "Epoch 53/100\n",
            "94/94 - 0s - loss: 22.1601\n",
            "Epoch 54/100\n",
            "94/94 - 0s - loss: 22.1505\n",
            "Epoch 55/100\n",
            "94/94 - 0s - loss: 22.0976\n",
            "Epoch 56/100\n",
            "94/94 - 0s - loss: 21.9378\n",
            "Epoch 57/100\n",
            "94/94 - 0s - loss: 21.9323\n",
            "Epoch 58/100\n",
            "94/94 - 0s - loss: 21.9409\n",
            "Epoch 59/100\n",
            "94/94 - 0s - loss: 21.8206\n",
            "Epoch 60/100\n",
            "94/94 - 0s - loss: 21.9180\n",
            "Epoch 61/100\n",
            "94/94 - 0s - loss: 21.9255\n",
            "Epoch 62/100\n",
            "94/94 - 0s - loss: 21.9023\n",
            "Epoch 63/100\n",
            "94/94 - 0s - loss: 21.8974\n",
            "Epoch 64/100\n",
            "94/94 - 0s - loss: 21.7801\n",
            "Epoch 65/100\n",
            "94/94 - 0s - loss: 21.6882\n",
            "Epoch 66/100\n",
            "94/94 - 0s - loss: 21.6893\n",
            "Epoch 67/100\n",
            "94/94 - 0s - loss: 21.7184\n",
            "Epoch 68/100\n",
            "94/94 - 0s - loss: 21.6239\n",
            "Epoch 69/100\n",
            "94/94 - 0s - loss: 21.5953\n",
            "Epoch 70/100\n",
            "94/94 - 0s - loss: 21.5860\n",
            "Epoch 71/100\n",
            "94/94 - 0s - loss: 21.6324\n",
            "Epoch 72/100\n",
            "94/94 - 0s - loss: 21.5366\n",
            "Epoch 73/100\n",
            "94/94 - 0s - loss: 21.5545\n",
            "Epoch 74/100\n",
            "94/94 - 0s - loss: 21.4619\n",
            "Epoch 75/100\n",
            "94/94 - 0s - loss: 21.4972\n",
            "Epoch 76/100\n",
            "94/94 - 0s - loss: 21.4973\n",
            "Epoch 77/100\n",
            "94/94 - 0s - loss: 21.4332\n",
            "Epoch 78/100\n",
            "94/94 - 0s - loss: 21.4384\n",
            "Epoch 79/100\n",
            "94/94 - 0s - loss: 21.4109\n",
            "Epoch 80/100\n",
            "94/94 - 0s - loss: 21.3107\n",
            "Epoch 81/100\n",
            "94/94 - 0s - loss: 21.3597\n",
            "Epoch 82/100\n",
            "94/94 - 0s - loss: 21.3598\n",
            "Epoch 83/100\n",
            "94/94 - 0s - loss: 21.3443\n",
            "Epoch 84/100\n",
            "94/94 - 0s - loss: 21.2501\n",
            "Epoch 85/100\n",
            "94/94 - 0s - loss: 21.3085\n",
            "Epoch 86/100\n",
            "94/94 - 0s - loss: 21.2879\n",
            "Epoch 87/100\n",
            "94/94 - 0s - loss: 21.3781\n",
            "Epoch 88/100\n",
            "94/94 - 0s - loss: 21.2786\n",
            "Epoch 89/100\n",
            "94/94 - 0s - loss: 21.2554\n",
            "Epoch 90/100\n",
            "94/94 - 0s - loss: 21.2079\n",
            "Epoch 91/100\n",
            "94/94 - 0s - loss: 21.1598\n",
            "Epoch 92/100\n",
            "94/94 - 0s - loss: 21.1923\n",
            "Epoch 93/100\n",
            "94/94 - 0s - loss: 21.2778\n",
            "Epoch 94/100\n",
            "94/94 - 0s - loss: 21.2355\n",
            "Epoch 95/100\n",
            "94/94 - 0s - loss: 21.0531\n",
            "Epoch 96/100\n",
            "94/94 - 0s - loss: 21.3107\n",
            "Epoch 97/100\n",
            "94/94 - 0s - loss: 21.1042\n",
            "Epoch 98/100\n",
            "94/94 - 0s - loss: 21.0535\n",
            "Epoch 99/100\n",
            "94/94 - 0s - loss: 21.1815\n",
            "Epoch 100/100\n",
            "94/94 - 0s - loss: 20.9855\n"
          ],
          "name": "stdout"
        },
        {
          "output_type": "execute_result",
          "data": {
            "text/plain": [
              "<tensorflow.python.keras.callbacks.History at 0x7fb7af4f0690>"
            ]
          },
          "metadata": {
            "tags": []
          },
          "execution_count": 42
        }
      ]
    },
    {
      "cell_type": "code",
      "metadata": {
        "colab": {
          "base_uri": "https://localhost:8080/",
          "height": 437,
          "referenced_widgets": [
            "370b564d261e442fb39c7cad3b1c785c",
            "0a5f3a7a256f4d7fa86dfa7b2a9580f3",
            "42b257a3177f41ec9c94c0c5432b91be",
            "e314095bc290458bacd29c83ebf974a1",
            "8062aecac91c457988e045bb2970923f",
            "344c427726514bebaab9a7c2615c71ef",
            "fa30a977fb7946118109eb51375ccc5c",
            "e17c50dd064b439197aaa9e7dcfe36df"
          ]
        },
        "id": "e-MQXJ8oBFI2",
        "outputId": "daf1be2a-42c9-4412-91da-8d41bec07572"
      },
      "source": [
        "forecast = []\n",
        "for time in tqdm(range(len(series) - window_size)):\n",
        "  forecast.append(model.predict(series[time:time + window_size][np.newaxis]))\n",
        "\n",
        "forecast = forecast[split_time-window_size:]\n",
        "results = np.array(forecast)[:, 0, 0]\n",
        "\n",
        "\n",
        "plt.figure(figsize=(15, 6))\n",
        "\n",
        "plot_series(time_valid, x_valid)\n",
        "plot_series(time_valid, results)"
      ],
      "execution_count": 43,
      "outputs": [
        {
          "output_type": "display_data",
          "data": {
            "application/vnd.jupyter.widget-view+json": {
              "model_id": "370b564d261e442fb39c7cad3b1c785c",
              "version_minor": 0,
              "version_major": 2
            },
            "text/plain": [
              "HBox(children=(FloatProgress(value=0.0, max=3631.0), HTML(value='')))"
            ]
          },
          "metadata": {
            "tags": []
          }
        },
        {
          "output_type": "stream",
          "text": [
            "\n"
          ],
          "name": "stdout"
        },
        {
          "output_type": "display_data",
          "data": {
            "image/png": "[encoded data removed]",
            "text/plain": [
              "<Figure size 1080x432 with 1 Axes>"
            ]
          },
          "metadata": {
            "tags": [],
            "needs_background": "light"
          }
        }
      ]
    },
    {
      "cell_type": "code",
      "metadata": {
        "colab": {
          "base_uri": "https://localhost:8080/"
        },
        "id": "9dsa3tMhBHQZ",
        "outputId": "f88a3b77-b6da-4333-ceea-e502e9afbdd6"
      },
      "source": [
        "tf.keras.metrics.mean_absolute_error(x_valid, results).numpy()"
      ],
      "execution_count": 44,
      "outputs": [
        {
          "output_type": "execute_result",
          "data": {
            "text/plain": [
              "3.025513"
            ]
          },
          "metadata": {
            "tags": []
          },
          "execution_count": 44
        }
      ]
    },
    {
      "cell_type": "markdown",
      "metadata": {
        "id": "6wpd-rsZCdaX"
      },
      "source": [
        "fine but not great. Next we'll choose good LR with dynamically changing it and also apply RNN's as we're dealing with sequences ;->"
      ]
    },
    {
      "cell_type": "code",
      "metadata": {
        "id": "k1cEuVrDBI4a"
      },
      "source": [
        ""
      ],
      "execution_count": null,
      "outputs": []
    }
  ]
}