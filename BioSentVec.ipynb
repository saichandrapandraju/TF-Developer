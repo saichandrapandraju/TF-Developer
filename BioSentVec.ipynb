{
  "nbformat": 4,
  "nbformat_minor": 0,
  "metadata": {
    "colab": {
      "name": "BioSentVec.ipynb",
      "provenance": [],
      "collapsed_sections": [],
      "machine_shape": "hm",
      "include_colab_link": true
    },
    "kernelspec": {
      "name": "python3",
      "display_name": "Python 3"
    }
  },
  "cells": [
    {
      "cell_type": "markdown",
      "metadata": {
        "id": "view-in-github",
        "colab_type": "text"
      },
      "source": [
        "<a href=\"https://colab.research.google.com/github/saichandrapandraju/TF-Developer/blob/main/BioSentVec.ipynb\" target=\"_parent\"><img src=\"https://colab.research.google.com/assets/colab-badge.svg\" alt=\"Open In Colab\"/></a>"
      ]
    },
    {
      "cell_type": "code",
      "metadata": {
        "colab": {
          "base_uri": "https://localhost:8080/"
        },
        "id": "Vb-7C0KOEzKu",
        "outputId": "b7bc6824-43cb-4b36-ec05-7b4d2ad9f268"
      },
      "source": [
        "!git clone https://github.com/epfml/sent2vec.git"
      ],
      "execution_count": null,
      "outputs": [
        {
          "output_type": "stream",
          "text": [
            "Cloning into 'sent2vec'...\n",
            "remote: Enumerating objects: 3, done.\u001b[K\n",
            "remote: Counting objects: 100% (3/3), done.\u001b[K\n",
            "remote: Compressing objects: 100% (3/3), done.\u001b[K\n",
            "remote: Total 396 (delta 0), reused 1 (delta 0), pack-reused 393\u001b[K\n",
            "Receiving objects: 100% (396/396), 439.62 KiB | 9.77 MiB/s, done.\n",
            "Resolving deltas: 100% (247/247), done.\n"
          ],
          "name": "stdout"
        }
      ]
    },
    {
      "cell_type": "code",
      "metadata": {
        "colab": {
          "base_uri": "https://localhost:8080/"
        },
        "id": "r40_xh_iFOQV",
        "outputId": "75fb41fe-b848-45f0-d765-09c467be4e00"
      },
      "source": [
        "%cd sent2vec/"
      ],
      "execution_count": null,
      "outputs": [
        {
          "output_type": "stream",
          "text": [
            "/content/sent2vec\n"
          ],
          "name": "stdout"
        }
      ]
    },
    {
      "cell_type": "code",
      "metadata": {
        "colab": {
          "base_uri": "https://localhost:8080/"
        },
        "id": "EU4jQeDIFSCW",
        "outputId": "907f1c45-cf41-4a59-db83-8f98df36e52e"
      },
      "source": [
        "pip install ."
      ],
      "execution_count": null,
      "outputs": [
        {
          "output_type": "stream",
          "text": [
            "Processing /content/sent2vec\n",
            "Building wheels for collected packages: sent2vec\n",
            "  Building wheel for sent2vec (setup.py) ... \u001b[?25l\u001b[?25hdone\n",
            "  Created wheel for sent2vec: filename=sent2vec-0.0.0-cp37-cp37m-linux_x86_64.whl size=1130592 sha256=350fd93d2f0eae2e2e556949529f9c0b9aca107fcc5346454cbf35b7b6b33ced\n",
            "  Stored in directory: /tmp/pip-ephem-wheel-cache-s3j9voui/wheels/b1/65/d7/f2c679e0086741bea69f0c4478303b6506bbf4c78dea82f565\n",
            "Successfully built sent2vec\n",
            "Installing collected packages: sent2vec\n",
            "Successfully installed sent2vec-0.0.0\n"
          ],
          "name": "stdout"
        }
      ]
    },
    {
      "cell_type": "code",
      "metadata": {
        "id": "WcrNyPa5FUjC"
      },
      "source": [
        "import sent2vec\n",
        "from nltk import word_tokenize\n",
        "from nltk.corpus import stopwords\n",
        "from string import punctuation\n",
        "from scipy.spatial import distance\n",
        "from sentence_transformers import util"
      ],
      "execution_count": null,
      "outputs": []
    },
    {
      "cell_type": "code",
      "metadata": {
        "colab": {
          "base_uri": "https://localhost:8080/"
        },
        "id": "Dyd4xFlNF08F",
        "outputId": "02d90c96-2697-42a7-bda9-df7eaa27eb93"
      },
      "source": [
        "!wget https://ftp.ncbi.nlm.nih.gov/pub/lu/Suppl/BioSentVec/BioSentVec_PubMed_MIMICIII-bigram_d700.bin"
      ],
      "execution_count": null,
      "outputs": [
        {
          "output_type": "stream",
          "text": [
            "--2021-04-09 10:04:50--  https://ftp.ncbi.nlm.nih.gov/pub/lu/Suppl/BioSentVec/BioSentVec_PubMed_MIMICIII-bigram_d700.bin\n",
            "Resolving ftp.ncbi.nlm.nih.gov (ftp.ncbi.nlm.nih.gov)... 165.112.9.229, 130.14.250.7, 2607:f220:41f:250::230, ...\n",
            "Connecting to ftp.ncbi.nlm.nih.gov (ftp.ncbi.nlm.nih.gov)|165.112.9.229|:443... connected.\n",
            "HTTP request sent, awaiting response... 200 OK\n",
            "Length: 22475736490 (21G) [application/octet-stream]\n",
            "Saving to: ‘BioSentVec_PubMed_MIMICIII-bigram_d700.bin’\n",
            "\n",
            "BioSentVec_PubMed_M  25%[====>               ]   5.38G  30.2MB/s    in 79s     \n",
            "\n",
            "2021-04-09 10:06:09 (69.9 MB/s) - Connection closed at byte 5781635072. Retrying.\n",
            "\n",
            "--2021-04-09 10:06:10--  (try: 2)  https://ftp.ncbi.nlm.nih.gov/pub/lu/Suppl/BioSentVec/BioSentVec_PubMed_MIMICIII-bigram_d700.bin\n",
            "Connecting to ftp.ncbi.nlm.nih.gov (ftp.ncbi.nlm.nih.gov)|165.112.9.229|:443... connected.\n",
            "HTTP request sent, awaiting response... 206 Partial Content\n",
            "Length: 22475736490 (21G), 16694101418 (16G) remaining [application/octet-stream]\n",
            "Saving to: ‘BioSentVec_PubMed_MIMICIII-bigram_d700.bin’\n",
            "\n",
            "BioSentVec_PubMed_M  56%[+++++=====>         ]  11.92G  75.6MB/s    in 1m 50s  \n",
            "\n",
            "2021-04-09 10:08:01 (60.8 MB/s) - Connection closed at byte 12802424832. Retrying.\n",
            "\n",
            "--2021-04-09 10:08:03--  (try: 3)  https://ftp.ncbi.nlm.nih.gov/pub/lu/Suppl/BioSentVec/BioSentVec_PubMed_MIMICIII-bigram_d700.bin\n",
            "Connecting to ftp.ncbi.nlm.nih.gov (ftp.ncbi.nlm.nih.gov)|165.112.9.229|:443... connected.\n",
            "HTTP request sent, awaiting response... 206 Partial Content\n",
            "Length: 22475736490 (21G), 9673311658 (9.0G) remaining [application/octet-stream]\n",
            "Saving to: ‘BioSentVec_PubMed_MIMICIII-bigram_d700.bin’\n",
            "\n",
            "BioSentVec_PubMed_M  58%[+++++++++++         ]  12.27G  71.4MB/s    in 4.3s    \n",
            "\n",
            "2021-04-09 10:08:07 (81.9 MB/s) - Connection closed at byte 13174898688. Retrying.\n",
            "\n",
            "--2021-04-09 10:08:10--  (try: 4)  https://ftp.ncbi.nlm.nih.gov/pub/lu/Suppl/BioSentVec/BioSentVec_PubMed_MIMICIII-bigram_d700.bin\n",
            "Connecting to ftp.ncbi.nlm.nih.gov (ftp.ncbi.nlm.nih.gov)|165.112.9.229|:443... connected.\n",
            "HTTP request sent, awaiting response... 206 Partial Content\n",
            "Length: 22475736490 (21G), 9300837802 (8.7G) remaining [application/octet-stream]\n",
            "Saving to: ‘BioSentVec_PubMed_MIMICIII-bigram_d700.bin’\n",
            "\n",
            "BioSentVec_PubMed_M  60%[+++++++++++>        ]  12.59G  55.8MB/s    in 5.8s    \n",
            "\n",
            "2021-04-09 10:08:16 (55.8 MB/s) - Connection closed at byte 13515620352. Retrying.\n",
            "\n",
            "--2021-04-09 10:08:20--  (try: 5)  https://ftp.ncbi.nlm.nih.gov/pub/lu/Suppl/BioSentVec/BioSentVec_PubMed_MIMICIII-bigram_d700.bin\n",
            "Connecting to ftp.ncbi.nlm.nih.gov (ftp.ncbi.nlm.nih.gov)|165.112.9.229|:443... connected.\n",
            "HTTP request sent, awaiting response... 206 Partial Content\n",
            "Length: 22475736490 (21G), 8960116138 (8.3G) remaining [application/octet-stream]\n",
            "Saving to: ‘BioSentVec_PubMed_MIMICIII-bigram_d700.bin’\n",
            "\n",
            "BioSentVec_PubMed_M  63%[++++++++++++        ]  13.19G   107MB/s    in 5.7s    \n",
            "\n",
            "2021-04-09 10:08:26 (109 MB/s) - Connection closed at byte 14164508672. Retrying.\n",
            "\n",
            "--2021-04-09 10:08:31--  (try: 6)  https://ftp.ncbi.nlm.nih.gov/pub/lu/Suppl/BioSentVec/BioSentVec_PubMed_MIMICIII-bigram_d700.bin\n",
            "Connecting to ftp.ncbi.nlm.nih.gov (ftp.ncbi.nlm.nih.gov)|165.112.9.229|:443... connected.\n",
            "HTTP request sent, awaiting response... 206 Partial Content\n",
            "Length: 22475736490 (21G), 8311227818 (7.7G) remaining [application/octet-stream]\n",
            "Saving to: ‘BioSentVec_PubMed_MIMICIII-bigram_d700.bin’\n",
            "\n",
            "BioSentVec_PubMed_M  83%[++++++++++++===>    ]  17.45G  30.3MB/s    in 71s     \n",
            "\n",
            "2021-04-09 10:09:41 (61.7 MB/s) - Connection closed at byte 18735071232. Retrying.\n",
            "\n",
            "--2021-04-09 10:09:47--  (try: 7)  https://ftp.ncbi.nlm.nih.gov/pub/lu/Suppl/BioSentVec/BioSentVec_PubMed_MIMICIII-bigram_d700.bin\n",
            "Connecting to ftp.ncbi.nlm.nih.gov (ftp.ncbi.nlm.nih.gov)|165.112.9.229|:443... connected.\n",
            "HTTP request sent, awaiting response... 206 Partial Content\n",
            "Length: 22475736490 (21G), 3740665258 (3.5G) remaining [application/octet-stream]\n",
            "Saving to: ‘BioSentVec_PubMed_MIMICIII-bigram_d700.bin’\n",
            "\n",
            "BioSentVec_PubMed_M  84%[++++++++++++++++    ]  17.66G  80.9MB/s    in 2.7s    \n",
            "\n",
            "2021-04-09 10:09:50 (80.9 MB/s) - Connection closed at byte 18965692416. Retrying.\n",
            "\n",
            "--2021-04-09 10:09:57--  (try: 8)  https://ftp.ncbi.nlm.nih.gov/pub/lu/Suppl/BioSentVec/BioSentVec_PubMed_MIMICIII-bigram_d700.bin\n",
            "Connecting to ftp.ncbi.nlm.nih.gov (ftp.ncbi.nlm.nih.gov)|165.112.9.229|:443... connected.\n",
            "HTTP request sent, awaiting response... 206 Partial Content\n",
            "Length: 22475736490 (21G), 3510044074 (3.3G) remaining [application/octet-stream]\n",
            "Saving to: ‘BioSentVec_PubMed_MIMICIII-bigram_d700.bin’\n",
            "\n",
            "BioSentVec_PubMed_M  85%[++++++++++++++++>   ]  17.93G  77.4MB/s    in 3.7s    \n",
            "\n",
            "2021-04-09 10:10:01 (73.9 MB/s) - Connection closed at byte 19250675712. Retrying.\n",
            "\n",
            "--2021-04-09 10:10:09--  (try: 9)  https://ftp.ncbi.nlm.nih.gov/pub/lu/Suppl/BioSentVec/BioSentVec_PubMed_MIMICIII-bigram_d700.bin\n",
            "Connecting to ftp.ncbi.nlm.nih.gov (ftp.ncbi.nlm.nih.gov)|165.112.9.229|:443... connected.\n",
            "HTTP request sent, awaiting response... 206 Partial Content\n",
            "Length: 22475736490 (21G), 3225060778 (3.0G) remaining [application/octet-stream]\n",
            "Saving to: ‘BioSentVec_PubMed_MIMICIII-bigram_d700.bin’\n",
            "\n",
            "BioSentVec_PubMed_M  94%[+++++++++++++++++>  ]  19.86G  82.8MB/s    in 25s     \n",
            "\n",
            "2021-04-09 10:10:34 (77.8 MB/s) - Connection closed at byte 21324070912. Retrying.\n",
            "\n",
            "--2021-04-09 10:10:43--  (try:10)  https://ftp.ncbi.nlm.nih.gov/pub/lu/Suppl/BioSentVec/BioSentVec_PubMed_MIMICIII-bigram_d700.bin\n",
            "Connecting to ftp.ncbi.nlm.nih.gov (ftp.ncbi.nlm.nih.gov)|165.112.9.229|:443... connected.\n",
            "HTTP request sent, awaiting response... 206 Partial Content\n",
            "Length: 22475736490 (21G), 1151665578 (1.1G) remaining [application/octet-stream]\n",
            "Saving to: ‘BioSentVec_PubMed_MIMICIII-bigram_d700.bin’\n",
            "\n",
            "BioSentVec_PubMed_M  95%[++++++++++++++++++> ]  20.03G  75.9MB/s    in 2.3s    \n",
            "\n",
            "2021-04-09 10:10:46 (75.9 MB/s) - Connection closed at byte 21507833856. Retrying.\n",
            "\n",
            "--2021-04-09 10:10:56--  (try:11)  https://ftp.ncbi.nlm.nih.gov/pub/lu/Suppl/BioSentVec/BioSentVec_PubMed_MIMICIII-bigram_d700.bin\n",
            "Connecting to ftp.ncbi.nlm.nih.gov (ftp.ncbi.nlm.nih.gov)|165.112.9.229|:443... connected.\n",
            "HTTP request sent, awaiting response... 206 Partial Content\n",
            "Length: 22475736490 (21G), 967902634 (923M) remaining [application/octet-stream]\n",
            "Saving to: ‘BioSentVec_PubMed_MIMICIII-bigram_d700.bin’\n",
            "\n",
            "BioSentVec_PubMed_M  96%[+++++++++++++++++++ ]  20.10G  64.1MB/s    in 1.0s    \n",
            "\n",
            "2021-04-09 10:10:57 (64.1 MB/s) - Connection closed at byte 21577973760. Retrying.\n",
            "\n",
            "--2021-04-09 10:11:07--  (try:12)  https://ftp.ncbi.nlm.nih.gov/pub/lu/Suppl/BioSentVec/BioSentVec_PubMed_MIMICIII-bigram_d700.bin\n",
            "Connecting to ftp.ncbi.nlm.nih.gov (ftp.ncbi.nlm.nih.gov)|165.112.9.229|:443... connected.\n",
            "HTTP request sent, awaiting response... 206 Partial Content\n",
            "Length: 22475736490 (21G), 897762730 (856M) remaining [application/octet-stream]\n",
            "Saving to: ‘BioSentVec_PubMed_MIMICIII-bigram_d700.bin’\n",
            "\n",
            "BioSentVec_PubMed_M 100%[+++++++++++++++++++>]  20.93G   112MB/s    in 8.5s    \n",
            "\n",
            "2021-04-09 10:11:15 (101 MB/s) - ‘BioSentVec_PubMed_MIMICIII-bigram_d700.bin’ saved [22475736490/22475736490]\n",
            "\n"
          ],
          "name": "stdout"
        }
      ]
    },
    {
      "cell_type": "code",
      "metadata": {
        "colab": {
          "base_uri": "https://localhost:8080/"
        },
        "id": "1_7FADXSFfQQ",
        "outputId": "b7de5e64-41da-4996-9a01-d097870409e9"
      },
      "source": [
        "model_path = './BioSentVec_PubMed_MIMICIII-bigram_d700.bin'\n",
        "model = sent2vec.Sent2vecModel()\n",
        "try:\n",
        "    model.load_model(model_path)\n",
        "except Exception as e:\n",
        "    print(e)\n",
        "print('model successfully loaded')"
      ],
      "execution_count": null,
      "outputs": [
        {
          "output_type": "stream",
          "text": [
            "model successfully loaded\n"
          ],
          "name": "stdout"
        }
      ]
    },
    {
      "cell_type": "code",
      "metadata": {
        "id": "AaDVqfCIFvN0"
      },
      "source": [
        "sentence_vector1 = model.embed_sentence('approval of the')\n",
        "sentence_vector2 = model.embed_sentence('allowed by')"
      ],
      "execution_count": null,
      "outputs": []
    },
    {
      "cell_type": "code",
      "metadata": {
        "colab": {
          "base_uri": "https://localhost:8080/"
        },
        "id": "r2q-2ItJKCuC",
        "outputId": "895ed06b-dbd2-44fe-f4e5-6cdeb6b573a3"
      },
      "source": [
        "dist = distance.cosine(sentence_vector1, sentence_vector2)\n",
        "print('cosine distance:', dist)"
      ],
      "execution_count": null,
      "outputs": [
        {
          "output_type": "stream",
          "text": [
            "cosine distance: 0.9013603702187538\n"
          ],
          "name": "stdout"
        }
      ]
    },
    {
      "cell_type": "code",
      "metadata": {
        "colab": {
          "base_uri": "https://localhost:8080/"
        },
        "id": "1eWMzhE5J6Cp",
        "outputId": "7a7fddc7-b201-4c9b-e49f-762e77df91a4"
      },
      "source": [
        "cosine_scores_t = util.pytorch_cos_sim(sentence_vector1, sentence_vector2)\n",
        "1-cosine_scores_t[0][0]"
      ],
      "execution_count": null,
      "outputs": [
        {
          "output_type": "execute_result",
          "data": {
            "text/plain": [
              "tensor(0.9014)"
            ]
          },
          "metadata": {
            "tags": []
          },
          "execution_count": 19
        }
      ]
    },
    {
      "cell_type": "code",
      "metadata": {
        "id": "803OZWm7KhJR"
      },
      "source": [
        "phrase_list =['approval of the',\n",
        "  'of action of',\n",
        "  'are detected because of',\n",
        "  'severe forms of',\n",
        "  'in 100% of  was capable to',\n",
        "  'in the acute treatment of',\n",
        "  'the successes of',\n",
        "  'to prevent dissemited',\n",
        "  'concluded that the',\n",
        "  '(summary last modified',\n",
        "  'The diagnosis of',\n",
        "  'effect of activated',\n",
        "  'involved in chemotherapy',\n",
        "  'or other serious',\n",
        "  'CONCLUSIONS:',\n",
        "  'is superior to',\n",
        "  'to onset of',\n",
        "  'in combition with',\n",
        "  'in patients with',\n",
        "  'in patients who',\n",
        "  'is recommended with',\n",
        "  '+ , particularly',\n",
        "  'fevers, weight loss,',\n",
        "  'after cessation of',\n",
        "  'In patients with',\n",
        "  'Treatment, emergency.',\n",
        "  'active in the in',\n",
        "  'was assessed with',\n",
        "  'of the remaining',\n",
        "  'prior to treatment,',\n",
        "  'vaccines prevent persistent',\n",
        "  'illustrate the key role of',\n",
        "  'and correct use of',\n",
        "  'large number of',\n",
        "  'have shown that',\n",
        "  'studied chronic pain:',\n",
        "  'were evaluated in 30 patients with',\n",
        "  ': a controlled',\n",
        "  '; consider',\n",
        "  'mortality in severe']\n",
        "mapped_list = ['allowed by',\n",
        "  'actuate',\n",
        "  'prevented by',\n",
        "  'high risk of',\n",
        "  'confirmed',\n",
        "  'symptoms',\n",
        "  'encouraged by',\n",
        "  'preventing',\n",
        "  'resulting in',\n",
        "  'results from',\n",
        "  'symptoms',\n",
        "  'actuate',\n",
        "  'symptoms',\n",
        "  'confirmed',\n",
        "  'results from',\n",
        "  'lead',\n",
        "  'impose',\n",
        "  'associated with',\n",
        "  'symptoms',\n",
        "  'symptoms',\n",
        "  'promoted by',\n",
        "  'because of',\n",
        "  'decreased by',\n",
        "  'reduce risk of',\n",
        "  'therapy with',\n",
        "  'symptoms',\n",
        "  'actuate',\n",
        "  'confirmed',\n",
        "  'prevents',\n",
        "  'instigate',\n",
        "  'preventing',\n",
        "  'inspire',\n",
        "  'because of',\n",
        "  'increased by',\n",
        "  'presented by',\n",
        "  'symptoms',\n",
        "  'treatment with',\n",
        "  'confirmed',\n",
        "  'decide',\n",
        "  'high risk of']\n",
        "score_list = [0.252712355,\n",
        "  0.274786871,\n",
        "  0.278728523,\n",
        "  0.288139184,\n",
        "  0.298116817,\n",
        "  0.307864458,\n",
        "  0.316422923,\n",
        "  0.318347344,\n",
        "  0.323418107,\n",
        "  0.325701044,\n",
        "  0.326886127,\n",
        "  0.329138781,\n",
        "  0.329630338,\n",
        "  0.334765593,\n",
        "  0.340955867,\n",
        "  0.341312466,\n",
        "  0.345221822,\n",
        "  0.349533808,\n",
        "  0.349788379,\n",
        "  0.349788379,\n",
        "  0.358796228,\n",
        "  0.360865459,\n",
        "  0.363420494,\n",
        "  0.365085005,\n",
        "  0.367321543,\n",
        "  0.372313104,\n",
        "  0.375378209,\n",
        "  0.378427875,\n",
        "  0.380169899,\n",
        "  0.386616138,\n",
        "  0.389193017,\n",
        "  0.390550574,\n",
        "  0.39471231,\n",
        "  0.394724975,\n",
        "  0.395007168,\n",
        "  0.395750093,\n",
        "  0.398803928,\n",
        "  0.405292049,\n",
        "  0.405413197,\n",
        "  0.406181506]"
      ],
      "execution_count": null,
      "outputs": []
    },
    {
      "cell_type": "code",
      "metadata": {
        "colab": {
          "base_uri": "https://localhost:8080/"
        },
        "id": "IqZZIVUCMdX2",
        "outputId": "1c9c227b-b06c-42a5-828d-20fefb9c8915"
      },
      "source": [
        "print('{:50s} {:30s} {:15s} {}\\n'.format('Phrase','mapped','used','pred with '+model_path)) \n",
        "\n",
        "csv_name = model_path.split('/')[-1]+'.csv'\n",
        "with open(csv_name,'w') as f:\n",
        "  f.write('{}, {}, {}, {}\\n'.format('Phrase','mapped','used','pred with '+model_path)) \n",
        "\n",
        "for i in range(len(phrase_list)):\n",
        "  dist = distance.cosine(model.embed_sentence(phrase_list[i]), model.embed_sentence(mapped_list[i]))\n",
        "  print(\"{:50s} {:30s} {:15s} {}\\n\".format(phrase_list[i], mapped_list[i], str(score_list[i]), str(dist)))\n",
        "  with open(csv_name,'w') as f:\n",
        "    f.write(\"{}, {}, {}, {}\\n\".format(phrase_list[i], mapped_list[i], str(score_list[i]), str(dist)))"
      ],
      "execution_count": null,
      "outputs": [
        {
          "output_type": "stream",
          "text": [
            "Phrase                                             mapped                         used            pred with ./BioSentVec_PubMed_MIMICIII-bigram_d700.bin\n",
            "\n",
            "approval of the                                    allowed by                     0.252712355     0.9013603702187538\n",
            "\n",
            "of action of                                       actuate                        0.274786871     0.9779552146792412\n",
            "\n",
            "are detected because of                            prevented by                   0.278728523     0.8797644674777985\n",
            "\n",
            "severe forms of                                    high risk of                   0.288139184     0.8175999820232391\n",
            "\n",
            "in 100% of  was capable to                         confirmed                      0.298116817     0.8666470944881439\n",
            "\n",
            "in the acute treatment of                          symptoms                       0.307864458     0.9470416828989983\n",
            "\n",
            "the successes of                                   encouraged by                  0.316422923     0.9124972075223923\n",
            "\n",
            "to prevent dissemited                              preventing                     0.318347344     0.3252031207084656\n",
            "\n",
            "concluded that the                                 resulting in                   0.323418107     0.9121933057904243\n",
            "\n",
            "(summary last modified                             results from                   0.325701044     0.9816628452390432\n",
            "\n",
            "The diagnosis of                                   symptoms                       0.326886127     0.9282061904668808\n",
            "\n",
            "effect of activated                                actuate                        0.329138781     0.906277135014534\n",
            "\n",
            "involved in chemotherapy                           symptoms                       0.329630338     0.9982624386902899\n",
            "\n",
            "or other serious                                   confirmed                      0.334765593     0.9953994369134307\n",
            "\n",
            "CONCLUSIONS:                                       results from                   0.340955867     nan\n",
            "\n",
            "is superior to                                     lead                           0.341312466     0.9307768270373344\n",
            "\n",
            "to onset of                                        impose                         0.345221822     1.0618782564997673\n",
            "\n",
            "in combition with                                  associated with                0.349533808     0.8845421448349953\n",
            "\n",
            "in patients with                                   symptoms                       0.349788379     0.9836521837860346\n",
            "\n",
            "in patients who                                    symptoms                       0.349788379     0.9247416257858276\n",
            "\n",
            "is recommended with                                promoted by                    0.358796228     0.8924210146069527\n",
            "\n",
            "+ , particularly                                   because of                     0.360865459     0.9009699746966362\n",
            "\n",
            "fevers, weight loss,                               decreased by                   0.363420494     1.0195139162242413\n",
            "\n",
            "after cessation of                                 reduce risk of                 0.365085005     0.9533159136772156\n",
            "\n",
            "In patients with                                   therapy with                   0.367321543     0.8383222967386246\n",
            "\n",
            "Treatment, emergency.                              symptoms                       0.372313104     0.9031989425420761\n",
            "\n",
            "active in the in                                   actuate                        0.375378209     0.9931290908716619\n",
            "\n",
            "was assessed with                                  confirmed                      0.378427875     0.7192706167697906\n",
            "\n",
            "of the remaining                                   prevents                       0.380169899     1.0153693342581391\n",
            "\n",
            "prior to treatment,                                instigate                      0.386616138     0.9816656187176704\n",
            "\n",
            "vaccines prevent persistent                        preventing                     0.389193017     0.6623605787754059\n",
            "\n",
            "illustrate the key role of                         inspire                        0.390550574     0.786230206489563\n",
            "\n",
            "and correct use of                                 because of                     0.39471231      0.8820418640971184\n",
            "\n",
            "large number of                                    increased by                   0.394724975     1.0185819435864687\n",
            "\n",
            "have shown that                                    presented by                   0.395007168     0.8126120716333389\n",
            "\n",
            "studied chronic pain:                              symptoms                       0.395750093     1.0301687456667423\n",
            "\n",
            "were evaluated in 30 patients with                 treatment with                 0.398803928     0.8695644736289978\n",
            "\n",
            ": a controlled                                     confirmed                      0.405292049     0.9781969096511602\n",
            "\n",
            "; consider                                         decide                         0.405413197     0.8507373183965683\n",
            "\n",
            "mortality in severe                                high risk of                   0.406181506     0.8176593631505966\n",
            "\n"
          ],
          "name": "stdout"
        },
        {
          "output_type": "stream",
          "text": [
            "/usr/local/lib/python3.7/dist-packages/scipy/spatial/distance.py:720: RuntimeWarning: invalid value encountered in float_scalars\n",
            "  dist = 1.0 - uv / np.sqrt(uu * vv)\n"
          ],
          "name": "stderr"
        }
      ]
    },
    {
      "cell_type": "code",
      "metadata": {
        "id": "z1kiSDmtNaSQ"
      },
      "source": [
        ""
      ],
      "execution_count": null,
      "outputs": []
    }
  ]
}