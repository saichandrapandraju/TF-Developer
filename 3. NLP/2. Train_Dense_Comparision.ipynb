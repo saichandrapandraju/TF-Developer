{
  "nbformat": 4,
  "nbformat_minor": 0,
  "metadata": {
    "colab": {
      "name": "basic_train-Dense.ipynb",
      "provenance": [],
      "collapsed_sections": [],
      "authorship_tag": "ABX9TyMd3tLctVfDPB0PP/LpC2gz",
      "include_colab_link": true
    },
    "kernelspec": {
      "name": "python3",
      "display_name": "Python 3"
    },
    "language_info": {
      "name": "python"
    },
    "accelerator": "GPU",
    "widgets": {
      "application/vnd.jupyter.widget-state+json": {
        "8af0475f51cf45f88f87b4dfc21da921": {
          "model_module": "@jupyter-widgets/controls",
          "model_name": "HBoxModel",
          "state": {
            "_view_name": "HBoxView",
            "_dom_classes": [],
            "_model_name": "HBoxModel",
            "_view_module": "@jupyter-widgets/controls",
            "_model_module_version": "1.5.0",
            "_view_count": null,
            "_view_module_version": "1.5.0",
            "box_style": "",
            "layout": "IPY_MODEL_2a01a4a1a04744ef87474126e4fbd951",
            "_model_module": "@jupyter-widgets/controls",
            "children": [
              "IPY_MODEL_a054ef762cc0406b90ef0e49c25dca2d",
              "IPY_MODEL_b3b5bdf121ac4209838d95a894563de2"
            ]
          }
        },
        "2a01a4a1a04744ef87474126e4fbd951": {
          "model_module": "@jupyter-widgets/base",
          "model_name": "LayoutModel",
          "state": {
            "_view_name": "LayoutView",
            "grid_template_rows": null,
            "right": null,
            "justify_content": null,
            "_view_module": "@jupyter-widgets/base",
            "overflow": null,
            "_model_module_version": "1.2.0",
            "_view_count": null,
            "flex_flow": null,
            "width": null,
            "min_width": null,
            "border": null,
            "align_items": null,
            "bottom": null,
            "_model_module": "@jupyter-widgets/base",
            "top": null,
            "grid_column": null,
            "overflow_y": null,
            "overflow_x": null,
            "grid_auto_flow": null,
            "grid_area": null,
            "grid_template_columns": null,
            "flex": null,
            "_model_name": "LayoutModel",
            "justify_items": null,
            "grid_row": null,
            "max_height": null,
            "align_content": null,
            "visibility": null,
            "align_self": null,
            "height": null,
            "min_height": null,
            "padding": null,
            "grid_auto_rows": null,
            "grid_gap": null,
            "max_width": null,
            "order": null,
            "_view_module_version": "1.2.0",
            "grid_template_areas": null,
            "object_position": null,
            "object_fit": null,
            "grid_auto_columns": null,
            "margin": null,
            "display": null,
            "left": null
          }
        },
        "a054ef762cc0406b90ef0e49c25dca2d": {
          "model_module": "@jupyter-widgets/controls",
          "model_name": "FloatProgressModel",
          "state": {
            "_view_name": "ProgressView",
            "style": "IPY_MODEL_5fc53cbfb83e426181ecb53d48c2620d",
            "_dom_classes": [],
            "description": "",
            "_model_name": "FloatProgressModel",
            "bar_style": "success",
            "max": 1,
            "_view_module": "@jupyter-widgets/controls",
            "_model_module_version": "1.5.0",
            "value": 1,
            "_view_count": null,
            "_view_module_version": "1.5.0",
            "orientation": "horizontal",
            "min": 0,
            "description_tooltip": null,
            "_model_module": "@jupyter-widgets/controls",
            "layout": "IPY_MODEL_6991b36b65ef438fa5a94c360320891e"
          }
        },
        "b3b5bdf121ac4209838d95a894563de2": {
          "model_module": "@jupyter-widgets/controls",
          "model_name": "HTMLModel",
          "state": {
            "_view_name": "HTMLView",
            "style": "IPY_MODEL_324e11ae47c54e03b3d0ccfced5bb4a9",
            "_dom_classes": [],
            "description": "",
            "_model_name": "HTMLModel",
            "placeholder": "​",
            "_view_module": "@jupyter-widgets/controls",
            "_model_module_version": "1.5.0",
            "value": " 2225/? [01:33&lt;00:00, 23.69it/s]",
            "_view_count": null,
            "_view_module_version": "1.5.0",
            "description_tooltip": null,
            "_model_module": "@jupyter-widgets/controls",
            "layout": "IPY_MODEL_180ca511d3a44872a35739e435d45ca3"
          }
        },
        "5fc53cbfb83e426181ecb53d48c2620d": {
          "model_module": "@jupyter-widgets/controls",
          "model_name": "ProgressStyleModel",
          "state": {
            "_view_name": "StyleView",
            "_model_name": "ProgressStyleModel",
            "description_width": "initial",
            "_view_module": "@jupyter-widgets/base",
            "_model_module_version": "1.5.0",
            "_view_count": null,
            "_view_module_version": "1.2.0",
            "bar_color": null,
            "_model_module": "@jupyter-widgets/controls"
          }
        },
        "6991b36b65ef438fa5a94c360320891e": {
          "model_module": "@jupyter-widgets/base",
          "model_name": "LayoutModel",
          "state": {
            "_view_name": "LayoutView",
            "grid_template_rows": null,
            "right": null,
            "justify_content": null,
            "_view_module": "@jupyter-widgets/base",
            "overflow": null,
            "_model_module_version": "1.2.0",
            "_view_count": null,
            "flex_flow": null,
            "width": null,
            "min_width": null,
            "border": null,
            "align_items": null,
            "bottom": null,
            "_model_module": "@jupyter-widgets/base",
            "top": null,
            "grid_column": null,
            "overflow_y": null,
            "overflow_x": null,
            "grid_auto_flow": null,
            "grid_area": null,
            "grid_template_columns": null,
            "flex": null,
            "_model_name": "LayoutModel",
            "justify_items": null,
            "grid_row": null,
            "max_height": null,
            "align_content": null,
            "visibility": null,
            "align_self": null,
            "height": null,
            "min_height": null,
            "padding": null,
            "grid_auto_rows": null,
            "grid_gap": null,
            "max_width": null,
            "order": null,
            "_view_module_version": "1.2.0",
            "grid_template_areas": null,
            "object_position": null,
            "object_fit": null,
            "grid_auto_columns": null,
            "margin": null,
            "display": null,
            "left": null
          }
        },
        "324e11ae47c54e03b3d0ccfced5bb4a9": {
          "model_module": "@jupyter-widgets/controls",
          "model_name": "DescriptionStyleModel",
          "state": {
            "_view_name": "StyleView",
            "_model_name": "DescriptionStyleModel",
            "description_width": "",
            "_view_module": "@jupyter-widgets/base",
            "_model_module_version": "1.5.0",
            "_view_count": null,
            "_view_module_version": "1.2.0",
            "_model_module": "@jupyter-widgets/controls"
          }
        },
        "180ca511d3a44872a35739e435d45ca3": {
          "model_module": "@jupyter-widgets/base",
          "model_name": "LayoutModel",
          "state": {
            "_view_name": "LayoutView",
            "grid_template_rows": null,
            "right": null,
            "justify_content": null,
            "_view_module": "@jupyter-widgets/base",
            "overflow": null,
            "_model_module_version": "1.2.0",
            "_view_count": null,
            "flex_flow": null,
            "width": null,
            "min_width": null,
            "border": null,
            "align_items": null,
            "bottom": null,
            "_model_module": "@jupyter-widgets/base",
            "top": null,
            "grid_column": null,
            "overflow_y": null,
            "overflow_x": null,
            "grid_auto_flow": null,
            "grid_area": null,
            "grid_template_columns": null,
            "flex": null,
            "_model_name": "LayoutModel",
            "justify_items": null,
            "grid_row": null,
            "max_height": null,
            "align_content": null,
            "visibility": null,
            "align_self": null,
            "height": null,
            "min_height": null,
            "padding": null,
            "grid_auto_rows": null,
            "grid_gap": null,
            "max_width": null,
            "order": null,
            "_view_module_version": "1.2.0",
            "grid_template_areas": null,
            "object_position": null,
            "object_fit": null,
            "grid_auto_columns": null,
            "margin": null,
            "display": null,
            "left": null
          }
        }
      }
    }
  },
  "cells": [
    {
      "cell_type": "markdown",
      "metadata": {
        "id": "view-in-github",
        "colab_type": "text"
      },
      "source": [
        "<a href=\"https://colab.research.google.com/github/saichandrapandraju/TF-Developer/blob/main/3.%20NLP/basic_train_Dense.ipynb\" target=\"_parent\"><img src=\"https://colab.research.google.com/assets/colab-badge.svg\" alt=\"Open In Colab\"/></a>"
      ]
    },
    {
      "cell_type": "code",
      "metadata": {
        "colab": {
          "base_uri": "https://localhost:8080/"
        },
        "id": "MytGwaTLEeTh",
        "outputId": "c856f4af-5838-41a5-a4d3-3fceb2a88dc0"
      },
      "source": [
        "!nvidia-smi"
      ],
      "execution_count": 1,
      "outputs": [
        {
          "output_type": "stream",
          "text": [
            "Tue Apr 13 02:31:43 2021       \n",
            "+-----------------------------------------------------------------------------+\n",
            "| NVIDIA-SMI 460.67       Driver Version: 460.32.03    CUDA Version: 11.2     |\n",
            "|-------------------------------+----------------------+----------------------+\n",
            "| GPU  Name        Persistence-M| Bus-Id        Disp.A | Volatile Uncorr. ECC |\n",
            "| Fan  Temp  Perf  Pwr:Usage/Cap|         Memory-Usage | GPU-Util  Compute M. |\n",
            "|                               |                      |               MIG M. |\n",
            "|===============================+======================+======================|\n",
            "|   0  Tesla T4            Off  | 00000000:00:04.0 Off |                    0 |\n",
            "| N/A   57C    P8    11W /  70W |      0MiB / 15109MiB |      0%      Default |\n",
            "|                               |                      |                  N/A |\n",
            "+-------------------------------+----------------------+----------------------+\n",
            "                                                                               \n",
            "+-----------------------------------------------------------------------------+\n",
            "| Processes:                                                                  |\n",
            "|  GPU   GI   CI        PID   Type   Process name                  GPU Memory |\n",
            "|        ID   ID                                                   Usage      |\n",
            "|=============================================================================|\n",
            "|  No running processes found                                                 |\n",
            "+-----------------------------------------------------------------------------+\n"
          ],
          "name": "stdout"
        }
      ]
    },
    {
      "cell_type": "code",
      "metadata": {
        "id": "l-mRcm6X8FEC"
      },
      "source": [
        "import csv\n",
        "from tqdm.notebook import tqdm"
      ],
      "execution_count": 4,
      "outputs": []
    },
    {
      "cell_type": "code",
      "metadata": {
        "colab": {
          "base_uri": "https://localhost:8080/",
          "height": 35
        },
        "id": "rjjszlRm90Z6",
        "outputId": "7f019dc4-0159-4402-aad4-b1c21f192d9e"
      },
      "source": [
        "import tensorflow as tf\n",
        "tf.random.set_seed(333)\n",
        "tf.__version__"
      ],
      "execution_count": 12,
      "outputs": [
        {
          "output_type": "execute_result",
          "data": {
            "application/vnd.google.colaboratory.intrinsic+json": {
              "type": "string"
            },
            "text/plain": [
              "'2.4.1'"
            ]
          },
          "metadata": {
            "tags": []
          },
          "execution_count": 12
        }
      ]
    },
    {
      "cell_type": "code",
      "metadata": {
        "id": "DbKSTnumAfgD"
      },
      "source": [
        "import numpy as np\n",
        "np.random.seed(333)"
      ],
      "execution_count": 21,
      "outputs": []
    },
    {
      "cell_type": "code",
      "metadata": {
        "id": "TUY51shaHzTJ"
      },
      "source": [
        "import matplotlib.pyplot as plt"
      ],
      "execution_count": 36,
      "outputs": []
    },
    {
      "cell_type": "markdown",
      "metadata": {
        "id": "enj6InMl7p_G"
      },
      "source": [
        "**Download and process dataset**"
      ]
    },
    {
      "cell_type": "code",
      "metadata": {
        "colab": {
          "base_uri": "https://localhost:8080/"
        },
        "id": "-YNoS2JS6qlf",
        "outputId": "037a6586-4ad2-4f3d-b205-a09c85e21560"
      },
      "source": [
        "!wget --no-check-certificate \\\n",
        "    https://storage.googleapis.com/laurencemoroney-blog.appspot.com/bbc-text.csv \\\n",
        "    -O /tmp/bbc-text.csv"
      ],
      "execution_count": 2,
      "outputs": [
        {
          "output_type": "stream",
          "text": [
            "--2021-04-13 02:31:50--  https://storage.googleapis.com/laurencemoroney-blog.appspot.com/bbc-text.csv\n",
            "Resolving storage.googleapis.com (storage.googleapis.com)... 172.217.164.144, 172.253.62.128, 142.250.31.128, ...\n",
            "Connecting to storage.googleapis.com (storage.googleapis.com)|172.217.164.144|:443... connected.\n",
            "HTTP request sent, awaiting response... 200 OK\n",
            "Length: 5057493 (4.8M) [application/octet-stream]\n",
            "Saving to: ‘/tmp/bbc-text.csv’\n",
            "\n",
            "\r/tmp/bbc-text.csv     0%[                    ]       0  --.-KB/s               \r/tmp/bbc-text.csv   100%[===================>]   4.82M  --.-KB/s    in 0.05s   \n",
            "\n",
            "2021-04-13 02:31:50 (107 MB/s) - ‘/tmp/bbc-text.csv’ saved [5057493/5057493]\n",
            "\n"
          ],
          "name": "stdout"
        }
      ]
    },
    {
      "cell_type": "code",
      "metadata": {
        "id": "Z8wbBq0U8Bn-"
      },
      "source": [
        "stop_words =  [ \"a\", \"about\", \"above\", \"after\", \"again\", \"against\", \"all\", \"am\", \"an\", \"and\", \"any\", \"are\", \"as\", \"at\", \"be\", \"because\", \"been\", \"before\", \"being\", \"below\", \"between\", \"both\", \"but\", \"by\", \"could\", \"did\", \"do\", \"does\", \"doing\", \"down\", \"during\", \"each\", \"few\", \"for\", \"from\", \"further\", \"had\", \"has\", \"have\", \"having\", \"he\", \"he'd\", \"he'll\", \"he's\", \"her\", \"here\", \"here's\", \"hers\", \"herself\", \"him\", \"himself\", \"his\", \"how\", \"how's\", \"i\", \"i'd\", \"i'll\", \"i'm\", \"i've\", \"if\", \"in\", \"into\", \"is\", \"it\", \"it's\", \"its\", \"itself\", \"let's\", \"me\", \"more\", \"most\", \"my\", \"myself\", \"nor\", \"of\", \"on\", \"once\", \"only\", \"or\", \"other\", \"ought\", \"our\", \"ours\", \"ourselves\", \"out\", \"over\", \"own\", \"same\", \"she\", \"she'd\", \"she'll\", \"she's\", \"should\", \"so\", \"some\", \"such\", \"than\", \"that\", \"that's\", \"the\", \"their\", \"theirs\", \"them\", \"themselves\", \"then\", \"there\", \"there's\", \"these\", \"they\", \"they'd\", \"they'll\", \"they're\", \"they've\", \"this\", \"those\", \"through\", \"to\", \"too\", \"under\", \"until\", \"up\", \"very\", \"was\", \"we\", \"we'd\", \"we'll\", \"we're\", \"we've\", \"were\", \"what\", \"what's\", \"when\", \"when's\", \"where\", \"where's\", \"which\", \"while\", \"who\", \"who's\", \"whom\", \"why\", \"why's\", \"with\", \"would\", \"you\", \"you'd\", \"you'll\", \"you're\", \"you've\", \"your\", \"yours\", \"yourself\", \"yourselves\" ]"
      ],
      "execution_count": 3,
      "outputs": []
    },
    {
      "cell_type": "code",
      "metadata": {
        "id": "eaYgCAEO8IiR"
      },
      "source": [
        "sentences, labels = [], []"
      ],
      "execution_count": 5,
      "outputs": []
    },
    {
      "cell_type": "code",
      "metadata": {
        "colab": {
          "base_uri": "https://localhost:8080/",
          "height": 66,
          "referenced_widgets": [
            "8af0475f51cf45f88f87b4dfc21da921",
            "2a01a4a1a04744ef87474126e4fbd951",
            "a054ef762cc0406b90ef0e49c25dca2d",
            "b3b5bdf121ac4209838d95a894563de2",
            "5fc53cbfb83e426181ecb53d48c2620d",
            "6991b36b65ef438fa5a94c360320891e",
            "324e11ae47c54e03b3d0ccfced5bb4a9",
            "180ca511d3a44872a35739e435d45ca3"
          ]
        },
        "id": "UjX0k6Lz7nTQ",
        "outputId": "e0ee8715-e15f-46e9-9bfb-5ca80d214e57"
      },
      "source": [
        "with open('/tmp/bbc-text.csv', 'r') as bbc_file:\n",
        "  csv_reader = csv.reader(bbc_file, delimiter=',')  ## makes things easier\n",
        "  next(csv_reader)  ## ignores header\n",
        "  for row in tqdm(csv_reader):\n",
        "    labels.append(row[0])\n",
        "    sentence = row[1]\n",
        "    for word in stop_words:   ## remove stop words from sentence before appending\n",
        "      token = ' '+word+' '\n",
        "      sentence = sentence.replace(token, ' ')    ## replace stop word with space\n",
        "      sentence = sentence.replace('  ', ' ')     ## remove extra space\n",
        "    sentences.append(sentence)"
      ],
      "execution_count": 6,
      "outputs": [
        {
          "output_type": "display_data",
          "data": {
            "application/vnd.jupyter.widget-view+json": {
              "model_id": "8af0475f51cf45f88f87b4dfc21da921",
              "version_minor": 0,
              "version_major": 2
            },
            "text/plain": [
              "HBox(children=(FloatProgress(value=1.0, bar_style='info', max=1.0), HTML(value='')))"
            ]
          },
          "metadata": {
            "tags": []
          }
        },
        {
          "output_type": "stream",
          "text": [
            "\n"
          ],
          "name": "stdout"
        }
      ]
    },
    {
      "cell_type": "code",
      "metadata": {
        "colab": {
          "base_uri": "https://localhost:8080/"
        },
        "id": "M1z_aqrM8L11",
        "outputId": "80478e9d-e27e-476b-a910-b7eed2e71b6b"
      },
      "source": [
        "assert len(sentences) == len(labels)\n",
        "print(len(sentences))"
      ],
      "execution_count": 7,
      "outputs": [
        {
          "output_type": "stream",
          "text": [
            "2225\n"
          ],
          "name": "stdout"
        }
      ]
    },
    {
      "cell_type": "markdown",
      "metadata": {
        "id": "UBvCNird8WOG"
      },
      "source": [
        "**Pre-process the dataset**"
      ]
    },
    {
      "cell_type": "code",
      "metadata": {
        "id": "3A0hZuxW8Poj"
      },
      "source": [
        "## create tunable variables so that it'll be easy to change any of them later\n",
        "\n",
        "vocab_size = 1000\n",
        "embedding_dim = 16\n",
        "max_length = 120\n",
        "trunc_type='post'\n",
        "padding_type='post'\n",
        "oov_tok = \"<OOV>\"\n",
        "training_portion = .8\n",
        "lr = 0.01\n",
        "num_epochs = 30"
      ],
      "execution_count": 33,
      "outputs": []
    },
    {
      "cell_type": "code",
      "metadata": {
        "colab": {
          "base_uri": "https://localhost:8080/"
        },
        "id": "cQuagt4X8rd_",
        "outputId": "5f246794-564d-4235-be31-55c1af596127"
      },
      "source": [
        "## split data into train and validation sets\n",
        "\n",
        "train_size = int(len(sentences) * training_portion)      \n",
        "\n",
        "train_sentences = sentences[:train_size]\n",
        "train_labels = labels[:train_size]\n",
        "\n",
        "validation_sentences = sentences[train_size:]\n",
        "validation_labels = labels[train_size:]\n",
        "\n",
        "\n",
        "print(f\"Train samples count : {train_size}\\nValidation samples count : {len(sentences)-train_size}\")\n",
        "assert len(train_sentences) == len(train_labels)\n",
        "assert len(validation_sentences) == len(validation_labels)"
      ],
      "execution_count": 10,
      "outputs": [
        {
          "output_type": "stream",
          "text": [
            "Train samples count : 1780\n",
            "Validation samples count : 445\n"
          ],
          "name": "stdout"
        }
      ]
    },
    {
      "cell_type": "code",
      "metadata": {
        "id": "iLNyunuz9j2y"
      },
      "source": [
        "tokenizer = tf.keras.preprocessing.text.Tokenizer(num_words=vocab_size, oov_token=oov_tok)"
      ],
      "execution_count": 13,
      "outputs": []
    },
    {
      "cell_type": "code",
      "metadata": {
        "id": "Fz8HGZFC-FYa"
      },
      "source": [
        "tokenizer.fit_on_texts(train_sentences)  ## have to fit on train data only so that it'll learn to deal with unseen words (OOV) in validation datset."
      ],
      "execution_count": 14,
      "outputs": []
    },
    {
      "cell_type": "code",
      "metadata": {
        "colab": {
          "base_uri": "https://localhost:8080/"
        },
        "id": "FG9dQQsn-fl3",
        "outputId": "8483e212-2718-4a79-d686-90ea6ca9d83d"
      },
      "source": [
        "word_index = tokenizer.word_index\n",
        "len(word_index)   ## it'll have all words present in train data but only use top `vocab_size` words while encoding sentences. So don't think that `num_words` is not working in `Tokenizer` :-)."
      ],
      "execution_count": 15,
      "outputs": [
        {
          "output_type": "execute_result",
          "data": {
            "text/plain": [
              "27285"
            ]
          },
          "metadata": {
            "tags": []
          },
          "execution_count": 15
        }
      ]
    },
    {
      "cell_type": "code",
      "metadata": {
        "id": "_Hv_HCAd-nlz"
      },
      "source": [
        "## as we're giving `max_length` for padding, we have to take care of truncating strategy as well . Default will be `pre`\n",
        "train_sequences = tokenizer.texts_to_sequences(train_sentences)\n",
        "train_pad_trunc = tf.keras.preprocessing.sequence.pad_sequences(train_sequences, maxlen=max_length, padding=padding_type, truncating=trunc_type)"
      ],
      "execution_count": 16,
      "outputs": []
    },
    {
      "cell_type": "code",
      "metadata": {
        "colab": {
          "base_uri": "https://localhost:8080/"
        },
        "id": "Jv2oZsOz_8fS",
        "outputId": "ad8b6690-d2df-43aa-dde1-9490af2721a9"
      },
      "source": [
        "train_pad_trunc.shape"
      ],
      "execution_count": 17,
      "outputs": [
        {
          "output_type": "execute_result",
          "data": {
            "text/plain": [
              "(1780, 120)"
            ]
          },
          "metadata": {
            "tags": []
          },
          "execution_count": 17
        }
      ]
    },
    {
      "cell_type": "code",
      "metadata": {
        "id": "bq08M5XP_-52"
      },
      "source": [
        "validation_sequences = tokenizer.texts_to_sequences(validation_sentences)\n",
        "validation_pad_trunc = tf.keras.preprocessing.sequence.pad_sequences(validation_sequences, maxlen=max_length, padding=padding_type, truncating=trunc_type)"
      ],
      "execution_count": 18,
      "outputs": []
    },
    {
      "cell_type": "code",
      "metadata": {
        "colab": {
          "base_uri": "https://localhost:8080/"
        },
        "id": "cCOqIU_UAWhC",
        "outputId": "e5138052-6919-48bf-ec9f-2571c3df38fc"
      },
      "source": [
        "validation_pad_trunc.shape"
      ],
      "execution_count": 19,
      "outputs": [
        {
          "output_type": "execute_result",
          "data": {
            "text/plain": [
              "(445, 120)"
            ]
          },
          "metadata": {
            "tags": []
          },
          "execution_count": 19
        }
      ]
    },
    {
      "cell_type": "code",
      "metadata": {
        "id": "G25NzzhLAYz1"
      },
      "source": [
        "label_tokenizer = tf.keras.preprocessing.text.Tokenizer()\n",
        "label_tokenizer.fit_on_texts(labels)    ## fit on all labels so that no label is missed.\n",
        "label_word_index = label_tokenizer.word_index\n",
        "\n",
        "training_label_seq = np.array(label_tokenizer.texts_to_sequences(train_labels))\n",
        "validation_label_seq = np.array(label_tokenizer.texts_to_sequences(validation_labels))"
      ],
      "execution_count": 22,
      "outputs": []
    },
    {
      "cell_type": "code",
      "metadata": {
        "colab": {
          "base_uri": "https://localhost:8080/"
        },
        "id": "_8YiI-l_yUxE",
        "outputId": "22721708-901d-4817-caec-e202498d7fb2"
      },
      "source": [
        "np.unique(np.array(labels))"
      ],
      "execution_count": 25,
      "outputs": [
        {
          "output_type": "execute_result",
          "data": {
            "text/plain": [
              "array(['business', 'entertainment', 'politics', 'sport', 'tech'],\n",
              "      dtype='<U13')"
            ]
          },
          "metadata": {
            "tags": []
          },
          "execution_count": 25
        }
      ]
    },
    {
      "cell_type": "code",
      "metadata": {
        "colab": {
          "base_uri": "https://localhost:8080/"
        },
        "id": "zRmRxWvpyj3I",
        "outputId": "40a1a094-e487-4648-b48d-76b3be17a78e"
      },
      "source": [
        "label_word_index"
      ],
      "execution_count": 26,
      "outputs": [
        {
          "output_type": "execute_result",
          "data": {
            "text/plain": [
              "{'business': 2, 'entertainment': 5, 'politics': 3, 'sport': 1, 'tech': 4}"
            ]
          },
          "metadata": {
            "tags": []
          },
          "execution_count": 26
        }
      ]
    },
    {
      "cell_type": "code",
      "metadata": {
        "colab": {
          "base_uri": "https://localhost:8080/"
        },
        "id": "8OQJ9yDyvDYy",
        "outputId": "ea257996-f4c6-4de1-a9b6-712f9004d4fb"
      },
      "source": [
        "len(label_word_index)"
      ],
      "execution_count": 27,
      "outputs": [
        {
          "output_type": "execute_result",
          "data": {
            "text/plain": [
              "5"
            ]
          },
          "metadata": {
            "tags": []
          },
          "execution_count": 27
        }
      ]
    },
    {
      "cell_type": "code",
      "metadata": {
        "colab": {
          "base_uri": "https://localhost:8080/"
        },
        "id": "R9oze8AqApGI",
        "outputId": "b02fc6f3-a6d9-4779-e385-7039637f0ff1"
      },
      "source": [
        "training_label_seq.shape, validation_label_seq.shape"
      ],
      "execution_count": 28,
      "outputs": [
        {
          "output_type": "execute_result",
          "data": {
            "text/plain": [
              "((1780, 1), (445, 1))"
            ]
          },
          "metadata": {
            "tags": []
          },
          "execution_count": 28
        }
      ]
    },
    {
      "cell_type": "markdown",
      "metadata": {
        "id": "n5s5buIkAxgY"
      },
      "source": [
        "**Train on basic model**"
      ]
    },
    {
      "cell_type": "code",
      "metadata": {
        "id": "ZO-UIj7jy5oI"
      },
      "source": [
        "tf.keras.backend.clear_session()"
      ],
      "execution_count": 29,
      "outputs": []
    },
    {
      "cell_type": "code",
      "metadata": {
        "id": "ZMPoT-fvAw0o"
      },
      "source": [
        "model1 = tf.keras.Sequential([\n",
        "                              tf.keras.layers.Embedding(input_dim=vocab_size, output_dim=embedding_dim, input_length=max_length),\n",
        "                              tf.keras.layers.GlobalAveragePooling1D(),\n",
        "                              tf.keras.layers.Dense(24, activation='relu'),\n",
        "                              tf.keras.layers.Dense(6, activation='softmax')\n",
        "])"
      ],
      "execution_count": 30,
      "outputs": []
    },
    {
      "cell_type": "code",
      "metadata": {
        "id": "hxmidjRjveKc"
      },
      "source": [
        "model1.compile(loss='sparse_categorical_crossentropy', optimizer='adam', metrics=['accuracy'])"
      ],
      "execution_count": 31,
      "outputs": []
    },
    {
      "cell_type": "code",
      "metadata": {
        "colab": {
          "base_uri": "https://localhost:8080/"
        },
        "id": "mzqhANzOAszJ",
        "outputId": "804829ce-baa6-456a-b1ea-5a6f5b9c2c0d"
      },
      "source": [
        "model1.summary()"
      ],
      "execution_count": 32,
      "outputs": [
        {
          "output_type": "stream",
          "text": [
            "Model: \"sequential\"\n",
            "_________________________________________________________________\n",
            "Layer (type)                 Output Shape              Param #   \n",
            "=================================================================\n",
            "embedding (Embedding)        (None, 120, 16)           16000     \n",
            "_________________________________________________________________\n",
            "global_average_pooling1d (Gl (None, 16)                0         \n",
            "_________________________________________________________________\n",
            "dense (Dense)                (None, 24)                408       \n",
            "_________________________________________________________________\n",
            "dense_1 (Dense)              (None, 6)                 150       \n",
            "=================================================================\n",
            "Total params: 16,558\n",
            "Trainable params: 16,558\n",
            "Non-trainable params: 0\n",
            "_________________________________________________________________\n"
          ],
          "name": "stdout"
        }
      ]
    },
    {
      "cell_type": "code",
      "metadata": {
        "colab": {
          "base_uri": "https://localhost:8080/"
        },
        "id": "jUGkIhIcv0tR",
        "outputId": "71b4de53-5f92-41e4-afee-97d7114c1b59"
      },
      "source": [
        "history = model1.fit(train_pad_trunc, training_label_seq, epochs=num_epochs, validation_data=(validation_pad_trunc, validation_label_seq), verbose=2)"
      ],
      "execution_count": 34,
      "outputs": [
        {
          "output_type": "stream",
          "text": [
            "Epoch 1/30\n",
            "56/56 - 3s - loss: 1.7618 - accuracy: 0.2534 - val_loss: 1.7218 - val_accuracy: 0.3034\n",
            "Epoch 2/30\n",
            "56/56 - 0s - loss: 1.6856 - accuracy: 0.2680 - val_loss: 1.6296 - val_accuracy: 0.2494\n",
            "Epoch 3/30\n",
            "56/56 - 0s - loss: 1.5876 - accuracy: 0.3292 - val_loss: 1.5241 - val_accuracy: 0.4382\n",
            "Epoch 4/30\n",
            "56/56 - 0s - loss: 1.4544 - accuracy: 0.5169 - val_loss: 1.3667 - val_accuracy: 0.5708\n",
            "Epoch 5/30\n",
            "56/56 - 0s - loss: 1.2578 - accuracy: 0.6854 - val_loss: 1.1629 - val_accuracy: 0.6809\n",
            "Epoch 6/30\n",
            "56/56 - 0s - loss: 1.0340 - accuracy: 0.7798 - val_loss: 0.9610 - val_accuracy: 0.8270\n",
            "Epoch 7/30\n",
            "56/56 - 0s - loss: 0.8287 - accuracy: 0.8657 - val_loss: 0.7848 - val_accuracy: 0.9146\n",
            "Epoch 8/30\n",
            "56/56 - 0s - loss: 0.6463 - accuracy: 0.9393 - val_loss: 0.6299 - val_accuracy: 0.9169\n",
            "Epoch 9/30\n",
            "56/56 - 0s - loss: 0.4982 - accuracy: 0.9522 - val_loss: 0.5126 - val_accuracy: 0.9258\n",
            "Epoch 10/30\n",
            "56/56 - 0s - loss: 0.3875 - accuracy: 0.9607 - val_loss: 0.4259 - val_accuracy: 0.9371\n",
            "Epoch 11/30\n",
            "56/56 - 0s - loss: 0.3064 - accuracy: 0.9691 - val_loss: 0.3626 - val_accuracy: 0.9393\n",
            "Epoch 12/30\n",
            "56/56 - 0s - loss: 0.2480 - accuracy: 0.9702 - val_loss: 0.3182 - val_accuracy: 0.9393\n",
            "Epoch 13/30\n",
            "56/56 - 0s - loss: 0.2053 - accuracy: 0.9753 - val_loss: 0.2840 - val_accuracy: 0.9416\n",
            "Epoch 14/30\n",
            "56/56 - 0s - loss: 0.1740 - accuracy: 0.9775 - val_loss: 0.2621 - val_accuracy: 0.9438\n",
            "Epoch 15/30\n",
            "56/56 - 0s - loss: 0.1496 - accuracy: 0.9775 - val_loss: 0.2457 - val_accuracy: 0.9438\n",
            "Epoch 16/30\n",
            "56/56 - 0s - loss: 0.1298 - accuracy: 0.9826 - val_loss: 0.2307 - val_accuracy: 0.9461\n",
            "Epoch 17/30\n",
            "56/56 - 0s - loss: 0.1144 - accuracy: 0.9848 - val_loss: 0.2241 - val_accuracy: 0.9416\n",
            "Epoch 18/30\n",
            "56/56 - 0s - loss: 0.1011 - accuracy: 0.9865 - val_loss: 0.2090 - val_accuracy: 0.9483\n",
            "Epoch 19/30\n",
            "56/56 - 0s - loss: 0.0898 - accuracy: 0.9871 - val_loss: 0.2031 - val_accuracy: 0.9483\n",
            "Epoch 20/30\n",
            "56/56 - 0s - loss: 0.0801 - accuracy: 0.9888 - val_loss: 0.1974 - val_accuracy: 0.9461\n",
            "Epoch 21/30\n",
            "56/56 - 0s - loss: 0.0718 - accuracy: 0.9899 - val_loss: 0.1913 - val_accuracy: 0.9506\n",
            "Epoch 22/30\n",
            "56/56 - 0s - loss: 0.0643 - accuracy: 0.9938 - val_loss: 0.1892 - val_accuracy: 0.9506\n",
            "Epoch 23/30\n",
            "56/56 - 0s - loss: 0.0577 - accuracy: 0.9955 - val_loss: 0.1845 - val_accuracy: 0.9461\n",
            "Epoch 24/30\n",
            "56/56 - 0s - loss: 0.0523 - accuracy: 0.9972 - val_loss: 0.1829 - val_accuracy: 0.9483\n",
            "Epoch 25/30\n",
            "56/56 - 0s - loss: 0.0469 - accuracy: 0.9983 - val_loss: 0.1777 - val_accuracy: 0.9506\n",
            "Epoch 26/30\n",
            "56/56 - 0s - loss: 0.0424 - accuracy: 0.9983 - val_loss: 0.1775 - val_accuracy: 0.9506\n",
            "Epoch 27/30\n",
            "56/56 - 0s - loss: 0.0386 - accuracy: 0.9989 - val_loss: 0.1769 - val_accuracy: 0.9483\n",
            "Epoch 28/30\n",
            "56/56 - 0s - loss: 0.0348 - accuracy: 0.9989 - val_loss: 0.1752 - val_accuracy: 0.9528\n",
            "Epoch 29/30\n",
            "56/56 - 0s - loss: 0.0317 - accuracy: 0.9994 - val_loss: 0.1737 - val_accuracy: 0.9528\n",
            "Epoch 30/30\n",
            "56/56 - 0s - loss: 0.0287 - accuracy: 1.0000 - val_loss: 0.1723 - val_accuracy: 0.9528\n"
          ],
          "name": "stdout"
        }
      ]
    },
    {
      "cell_type": "code",
      "metadata": {
        "id": "s87GMrJHwcS5"
      },
      "source": [
        "def plot_graphs(history, string):\n",
        "  plt.plot(history.history[string])\n",
        "  plt.plot(history.history['val_'+string])\n",
        "  plt.xlabel(\"Epochs\")\n",
        "  plt.ylabel(string)\n",
        "  plt.legend([string, 'val_'+string])\n",
        "  plt.show()"
      ],
      "execution_count": 35,
      "outputs": []
    },
    {
      "cell_type": "code",
      "metadata": {
        "colab": {
          "base_uri": "https://localhost:8080/",
          "height": 279
        },
        "id": "ge1H1y0mzL2r",
        "outputId": "1418aa00-e6cc-48f1-94a2-b3ea98a426b5"
      },
      "source": [
        "plot_graphs(history, \"accuracy\")"
      ],
      "execution_count": 37,
      "outputs": [
        {
          "output_type": "display_data",
          "data": {
            "image/png": "[encoded data removed]",
            "text/plain": [
              "<Figure size 432x288 with 1 Axes>"
            ]
          },
          "metadata": {
            "tags": [],
            "needs_background": "light"
          }
        }
      ]
    },
    {
      "cell_type": "code",
      "metadata": {
        "colab": {
          "base_uri": "https://localhost:8080/",
          "height": 279
        },
        "id": "gq1mzWa9zNib",
        "outputId": "5cc91896-222d-4b8f-f072-18063c35292e"
      },
      "source": [
        "plot_graphs(history, \"loss\")"
      ],
      "execution_count": 38,
      "outputs": [
        {
          "output_type": "display_data",
          "data": {
            "image/png": "[encoded data removed]",
            "text/plain": [
              "<Figure size 432x288 with 1 Axes>"
            ]
          },
          "metadata": {
            "tags": [],
            "needs_background": "light"
          }
        }
      ]
    },
    {
      "cell_type": "markdown",
      "metadata": {
        "id": "gCMVF3FCH3dC"
      },
      "source": [
        "**Wrap everything in a function as it'll be easy to experiment with**"
      ]
    },
    {
      "cell_type": "code",
      "metadata": {
        "id": "WcJyFJrQH3Ii"
      },
      "source": [
        "def pre_processing(sentences, labels, vocab_size, embed_dim, max_length, oov_tok, train_portion, trunc_type = 'pre', pad_type = 'pre'):\n",
        "  \n",
        "  train_size = int(len(sentences) * training_portion) \n",
        "  train_sentences = sentences[:train_size]\n",
        "  train_labels = labels[:train_size]\n",
        "\n",
        "  validation_sentences = sentences[train_size:]\n",
        "  validation_labels = labels[train_size:]\n",
        "  \n",
        "  assert len(train_sentences) == len(train_labels)\n",
        "  assert len(validation_sentences) == len(validation_labels)\n",
        "  print(f\"Train samples count : {train_size}\\nValidation samples count : {len(sentences)-train_size}\")\n",
        "\n",
        "  tokenizer = tf.keras.preprocessing.text.Tokenizer(num_words=vocab_size, oov_token=oov_tok)\n",
        "  tokenizer.fit_on_texts(train_sentences)\n",
        "  word_index = tokenizer.word_index\n",
        "\n",
        "  train_sequences = tokenizer.texts_to_sequences(train_sentences)\n",
        "  train_pad_trunc = tf.keras.preprocessing.sequence.pad_sequences(train_sequences, maxlen=max_length, padding=pad_type, truncating=trunc_type)\n",
        "  validation_sequences = tokenizer.texts_to_sequences(validation_sentences)\n",
        "  validation_pad_trunc = tf.keras.preprocessing.sequence.pad_sequences(validation_sequences, maxlen=max_length, padding=pad_type, truncating=trunc_type)\n",
        "\n",
        "  label_tokenizer = tf.keras.preprocessing.text.Tokenizer()\n",
        "  label_tokenizer.fit_on_texts(labels)    ## fit on all labels so that no label is missed.\n",
        "  label_word_index = label_tokenizer.word_index\n",
        "\n",
        "  training_label_seq = np.array(label_tokenizer.texts_to_sequences(train_labels))\n",
        "  validation_label_seq = np.array(label_tokenizer.texts_to_sequences(validation_labels))\n",
        "\n",
        "  print(f\"TRAIN INPUT SHAPE - {train_pad_trunc.shape}, LABELS SHAPE = {training_label_seq.shape}\")\n",
        "  print(f\"VALIDATION INPUT SHAPE - {validation_pad_trunc.shape}, LABELS SHAPE = {validation_label_seq.shape}\")\n",
        "\n",
        "\n",
        "  return train_pad_trunc, training_label_seq, validation_pad_trunc, validation_label_seq"
      ],
      "execution_count": 50,
      "outputs": []
    },
    {
      "cell_type": "markdown",
      "metadata": {
        "id": "WDuibubrK8LS"
      },
      "source": [
        "**Initial model**"
      ]
    },
    {
      "cell_type": "code",
      "metadata": {
        "id": "EvobOrpEzOBJ"
      },
      "source": [
        "vocab_size = 1000\n",
        "embedding_dim = 16\n",
        "max_length = 120\n",
        "trunc_type='post'\n",
        "padding_type='post'\n",
        "oov_tok = \"<OOV>\"\n",
        "training_portion = .8\n",
        "lr = 0.01\n",
        "num_epochs = 30\n",
        "loss = 'sparse_categorical_crossentropy'\n",
        "optimizer='adam'"
      ],
      "execution_count": 53,
      "outputs": []
    },
    {
      "cell_type": "code",
      "metadata": {
        "colab": {
          "base_uri": "https://localhost:8080/"
        },
        "id": "_nXpsDEMK7O-",
        "outputId": "09bd18f4-a828-4282-8a35-9bced85d1398"
      },
      "source": [
        "train_seq, train_labels, val_seq, val_labels = pre_processing(sentences, labels, vocab_size, embedding_dim, max_length, oov_tok, training_portion, trunc_type, padding_type)"
      ],
      "execution_count": 52,
      "outputs": [
        {
          "output_type": "stream",
          "text": [
            "Train samples count : 1780\n",
            "Validation samples count : 445\n",
            "TRAIN INPUT SHAPE - (1780, 120), LABELS SHAPE = (1780, 1)\n",
            "VALIDATION INPUT SHAPE - (445, 120), LABELS SHAPE = (445, 1)\n"
          ],
          "name": "stdout"
        }
      ]
    },
    {
      "cell_type": "code",
      "metadata": {
        "id": "BLPqEhhTKsOI"
      },
      "source": [
        "del history ## clearing variables\n",
        "del model\n",
        "tf.keras.backend.clear_session()\n",
        "model = tf.keras.Sequential([\n",
        "                              tf.keras.layers.Embedding(input_dim=vocab_size, output_dim=embedding_dim, input_length=max_length),\n",
        "                              tf.keras.layers.GlobalAveragePooling1D(),\n",
        "                              tf.keras.layers.Dense(24, activation='relu'),\n",
        "                              tf.keras.layers.Dense(6, activation='softmax')\n",
        "])"
      ],
      "execution_count": 42,
      "outputs": []
    },
    {
      "cell_type": "code",
      "metadata": {
        "id": "pacT5BwQKsOJ"
      },
      "source": [
        "model.compile(loss=loss, optimizer=optimizer, metrics=['accuracy'])"
      ],
      "execution_count": 54,
      "outputs": []
    },
    {
      "cell_type": "code",
      "metadata": {
        "colab": {
          "base_uri": "https://localhost:8080/"
        },
        "id": "CuqueJzwKVL1",
        "outputId": "d6a1ef3c-4b65-4c23-9e6a-8efb257b4258"
      },
      "source": [
        "history = model.fit(train_seq, train_labels, epochs=num_epochs, validation_data=(val_seq, val_labels), verbose=2)"
      ],
      "execution_count": 55,
      "outputs": [
        {
          "output_type": "stream",
          "text": [
            "Epoch 1/30\n",
            "56/56 - 1s - loss: 1.7654 - accuracy: 0.2725 - val_loss: 1.7257 - val_accuracy: 0.3528\n",
            "Epoch 2/30\n",
            "56/56 - 0s - loss: 1.6844 - accuracy: 0.3938 - val_loss: 1.6246 - val_accuracy: 0.4292\n",
            "Epoch 3/30\n",
            "56/56 - 0s - loss: 1.5731 - accuracy: 0.4730 - val_loss: 1.5036 - val_accuracy: 0.5371\n",
            "Epoch 4/30\n",
            "56/56 - 0s - loss: 1.4283 - accuracy: 0.5888 - val_loss: 1.3372 - val_accuracy: 0.6382\n",
            "Epoch 5/30\n",
            "56/56 - 0s - loss: 1.2222 - accuracy: 0.7281 - val_loss: 1.1184 - val_accuracy: 0.7618\n",
            "Epoch 6/30\n",
            "56/56 - 0s - loss: 0.9737 - accuracy: 0.8556 - val_loss: 0.8856 - val_accuracy: 0.8809\n",
            "Epoch 7/30\n",
            "56/56 - 0s - loss: 0.7415 - accuracy: 0.9202 - val_loss: 0.7023 - val_accuracy: 0.8899\n",
            "Epoch 8/30\n",
            "56/56 - 0s - loss: 0.5648 - accuracy: 0.9348 - val_loss: 0.5630 - val_accuracy: 0.9034\n",
            "Epoch 9/30\n",
            "56/56 - 0s - loss: 0.4379 - accuracy: 0.9466 - val_loss: 0.4673 - val_accuracy: 0.9101\n",
            "Epoch 10/30\n",
            "56/56 - 0s - loss: 0.3495 - accuracy: 0.9522 - val_loss: 0.4069 - val_accuracy: 0.9124\n",
            "Epoch 11/30\n",
            "56/56 - 0s - loss: 0.2852 - accuracy: 0.9635 - val_loss: 0.3581 - val_accuracy: 0.9191\n",
            "Epoch 12/30\n",
            "56/56 - 0s - loss: 0.2379 - accuracy: 0.9663 - val_loss: 0.3272 - val_accuracy: 0.9169\n",
            "Epoch 13/30\n",
            "56/56 - 0s - loss: 0.2024 - accuracy: 0.9713 - val_loss: 0.2978 - val_accuracy: 0.9191\n",
            "Epoch 14/30\n",
            "56/56 - 0s - loss: 0.1752 - accuracy: 0.9719 - val_loss: 0.2789 - val_accuracy: 0.9213\n",
            "Epoch 15/30\n",
            "56/56 - 0s - loss: 0.1526 - accuracy: 0.9781 - val_loss: 0.2658 - val_accuracy: 0.9213\n",
            "Epoch 16/30\n",
            "56/56 - 0s - loss: 0.1341 - accuracy: 0.9820 - val_loss: 0.2532 - val_accuracy: 0.9281\n",
            "Epoch 17/30\n",
            "56/56 - 0s - loss: 0.1185 - accuracy: 0.9860 - val_loss: 0.2523 - val_accuracy: 0.9258\n",
            "Epoch 18/30\n",
            "56/56 - 0s - loss: 0.1060 - accuracy: 0.9888 - val_loss: 0.2394 - val_accuracy: 0.9303\n",
            "Epoch 19/30\n",
            "56/56 - 0s - loss: 0.0942 - accuracy: 0.9876 - val_loss: 0.2378 - val_accuracy: 0.9303\n",
            "Epoch 20/30\n",
            "56/56 - 0s - loss: 0.0851 - accuracy: 0.9899 - val_loss: 0.2288 - val_accuracy: 0.9371\n",
            "Epoch 21/30\n",
            "56/56 - 0s - loss: 0.0759 - accuracy: 0.9927 - val_loss: 0.2223 - val_accuracy: 0.9393\n",
            "Epoch 22/30\n",
            "56/56 - 0s - loss: 0.0686 - accuracy: 0.9933 - val_loss: 0.2210 - val_accuracy: 0.9393\n",
            "Epoch 23/30\n",
            "56/56 - 0s - loss: 0.0616 - accuracy: 0.9933 - val_loss: 0.2187 - val_accuracy: 0.9326\n",
            "Epoch 24/30\n",
            "56/56 - 0s - loss: 0.0559 - accuracy: 0.9933 - val_loss: 0.2196 - val_accuracy: 0.9326\n",
            "Epoch 25/30\n",
            "56/56 - 0s - loss: 0.0504 - accuracy: 0.9933 - val_loss: 0.2146 - val_accuracy: 0.9393\n",
            "Epoch 26/30\n",
            "56/56 - 0s - loss: 0.0457 - accuracy: 0.9944 - val_loss: 0.2150 - val_accuracy: 0.9393\n",
            "Epoch 27/30\n",
            "56/56 - 0s - loss: 0.0414 - accuracy: 0.9961 - val_loss: 0.2140 - val_accuracy: 0.9416\n",
            "Epoch 28/30\n",
            "56/56 - 0s - loss: 0.0377 - accuracy: 0.9978 - val_loss: 0.2160 - val_accuracy: 0.9371\n",
            "Epoch 29/30\n",
            "56/56 - 0s - loss: 0.0341 - accuracy: 0.9978 - val_loss: 0.2146 - val_accuracy: 0.9371\n",
            "Epoch 30/30\n",
            "56/56 - 0s - loss: 0.0311 - accuracy: 0.9989 - val_loss: 0.2149 - val_accuracy: 0.9371\n"
          ],
          "name": "stdout"
        }
      ]
    },
    {
      "cell_type": "code",
      "metadata": {
        "colab": {
          "base_uri": "https://localhost:8080/",
          "height": 279
        },
        "id": "fNbwoYFAMid_",
        "outputId": "7b792492-6c23-4eb2-ea87-4c339e0aa895"
      },
      "source": [
        "plot_graphs(history, \"accuracy\")"
      ],
      "execution_count": 56,
      "outputs": [
        {
          "output_type": "display_data",
          "data": {
            "image/png": "[encoded data removed]",
            "text/plain": [
              "<Figure size 432x288 with 1 Axes>"
            ]
          },
          "metadata": {
            "tags": [],
            "needs_background": "light"
          }
        }
      ]
    },
    {
      "cell_type": "code",
      "metadata": {
        "colab": {
          "base_uri": "https://localhost:8080/",
          "height": 279
        },
        "id": "aNzrBZPSMoU5",
        "outputId": "74af28e8-fd00-4c8c-995d-c5bd86157c7a"
      },
      "source": [
        "plot_graphs(history, \"loss\")"
      ],
      "execution_count": 57,
      "outputs": [
        {
          "output_type": "display_data",
          "data": {
            "image/png": "[encoded data removed]",
            "text/plain": [
              "<Figure size 432x288 with 1 Axes>"
            ]
          },
          "metadata": {
            "tags": [],
            "needs_background": "light"
          }
        }
      ]
    },
    {
      "cell_type": "markdown",
      "metadata": {
        "id": "IwmH3mhPMwE1"
      },
      "source": [
        "**increase vocab size**"
      ]
    },
    {
      "cell_type": "code",
      "metadata": {
        "id": "GW69kbTWM9ok"
      },
      "source": [
        "vocab_size = 20000\n",
        "embedding_dim = 16\n",
        "max_length = 120\n",
        "trunc_type='post'\n",
        "padding_type='post'\n",
        "oov_tok = \"<OOV>\"\n",
        "training_portion = .8\n",
        "lr = 0.01\n",
        "num_epochs = 30\n",
        "loss = 'sparse_categorical_crossentropy'\n",
        "optimizer='adam'"
      ],
      "execution_count": 58,
      "outputs": []
    },
    {
      "cell_type": "code",
      "metadata": {
        "colab": {
          "base_uri": "https://localhost:8080/"
        },
        "id": "1R22M5KrM9o1",
        "outputId": "4ec6566d-d22e-4668-91bd-dc7d93c8eabb"
      },
      "source": [
        "train_seq, train_labels, val_seq, val_labels = pre_processing(sentences, labels, vocab_size, embedding_dim, max_length, oov_tok, training_portion, trunc_type, padding_type)"
      ],
      "execution_count": 59,
      "outputs": [
        {
          "output_type": "stream",
          "text": [
            "Train samples count : 1780\n",
            "Validation samples count : 445\n",
            "TRAIN INPUT SHAPE - (1780, 120), LABELS SHAPE = (1780, 1)\n",
            "VALIDATION INPUT SHAPE - (445, 120), LABELS SHAPE = (445, 1)\n"
          ],
          "name": "stdout"
        }
      ]
    },
    {
      "cell_type": "code",
      "metadata": {
        "id": "AmVQZS1oM9o2"
      },
      "source": [
        "del history ## clearing variables\n",
        "del model\n",
        "tf.keras.backend.clear_session()\n",
        "model = tf.keras.Sequential([\n",
        "                              tf.keras.layers.Embedding(input_dim=vocab_size, output_dim=embedding_dim, input_length=max_length),\n",
        "                              tf.keras.layers.GlobalAveragePooling1D(),\n",
        "                              tf.keras.layers.Dense(24, activation='relu'),\n",
        "                              tf.keras.layers.Dense(6, activation='softmax')\n",
        "])"
      ],
      "execution_count": 60,
      "outputs": []
    },
    {
      "cell_type": "code",
      "metadata": {
        "id": "OGQvHGqWM9o3"
      },
      "source": [
        "model.compile(loss=loss, optimizer=optimizer, metrics=['accuracy'])"
      ],
      "execution_count": 61,
      "outputs": []
    },
    {
      "cell_type": "code",
      "metadata": {
        "colab": {
          "base_uri": "https://localhost:8080/"
        },
        "id": "l2x2RpSGM9o3",
        "outputId": "c7aee4aa-37b7-4dc7-9741-8e68e0d3ae49"
      },
      "source": [
        "history = model.fit(train_seq, train_labels, epochs=num_epochs, validation_data=(val_seq, val_labels), verbose=2)"
      ],
      "execution_count": 62,
      "outputs": [
        {
          "output_type": "stream",
          "text": [
            "Epoch 1/30\n",
            "56/56 - 1s - loss: 1.7582 - accuracy: 0.2483 - val_loss: 1.7088 - val_accuracy: 0.2449\n",
            "Epoch 2/30\n",
            "56/56 - 0s - loss: 1.6290 - accuracy: 0.3966 - val_loss: 1.5310 - val_accuracy: 0.5551\n",
            "Epoch 3/30\n",
            "56/56 - 0s - loss: 1.3719 - accuracy: 0.8146 - val_loss: 1.2374 - val_accuracy: 0.8382\n",
            "Epoch 4/30\n",
            "56/56 - 0s - loss: 1.0031 - accuracy: 0.9410 - val_loss: 0.8891 - val_accuracy: 0.9169\n",
            "Epoch 5/30\n",
            "56/56 - 0s - loss: 0.6451 - accuracy: 0.9781 - val_loss: 0.6194 - val_accuracy: 0.9438\n",
            "Epoch 6/30\n",
            "56/56 - 0s - loss: 0.4000 - accuracy: 0.9888 - val_loss: 0.4498 - val_accuracy: 0.9483\n",
            "Epoch 7/30\n",
            "56/56 - 0s - loss: 0.2523 - accuracy: 0.9938 - val_loss: 0.3469 - val_accuracy: 0.9461\n",
            "Epoch 8/30\n",
            "56/56 - 0s - loss: 0.1650 - accuracy: 0.9949 - val_loss: 0.2841 - val_accuracy: 0.9551\n",
            "Epoch 9/30\n",
            "56/56 - 0s - loss: 0.1125 - accuracy: 0.9966 - val_loss: 0.2445 - val_accuracy: 0.9483\n",
            "Epoch 10/30\n",
            "56/56 - 0s - loss: 0.0800 - accuracy: 0.9983 - val_loss: 0.2202 - val_accuracy: 0.9551\n",
            "Epoch 11/30\n",
            "56/56 - 0s - loss: 0.0590 - accuracy: 0.9983 - val_loss: 0.2026 - val_accuracy: 0.9551\n",
            "Epoch 12/30\n",
            "56/56 - 0s - loss: 0.0448 - accuracy: 0.9983 - val_loss: 0.1901 - val_accuracy: 0.9551\n",
            "Epoch 13/30\n",
            "56/56 - 0s - loss: 0.0350 - accuracy: 0.9989 - val_loss: 0.1815 - val_accuracy: 0.9573\n",
            "Epoch 14/30\n",
            "56/56 - 0s - loss: 0.0278 - accuracy: 1.0000 - val_loss: 0.1746 - val_accuracy: 0.9573\n",
            "Epoch 15/30\n",
            "56/56 - 0s - loss: 0.0226 - accuracy: 1.0000 - val_loss: 0.1694 - val_accuracy: 0.9573\n",
            "Epoch 16/30\n",
            "56/56 - 0s - loss: 0.0187 - accuracy: 1.0000 - val_loss: 0.1653 - val_accuracy: 0.9596\n",
            "Epoch 17/30\n",
            "56/56 - 0s - loss: 0.0157 - accuracy: 1.0000 - val_loss: 0.1625 - val_accuracy: 0.9596\n",
            "Epoch 18/30\n",
            "56/56 - 0s - loss: 0.0133 - accuracy: 1.0000 - val_loss: 0.1596 - val_accuracy: 0.9596\n",
            "Epoch 19/30\n",
            "56/56 - 0s - loss: 0.0114 - accuracy: 1.0000 - val_loss: 0.1571 - val_accuracy: 0.9596\n",
            "Epoch 20/30\n",
            "56/56 - 0s - loss: 0.0099 - accuracy: 1.0000 - val_loss: 0.1556 - val_accuracy: 0.9596\n",
            "Epoch 21/30\n",
            "56/56 - 0s - loss: 0.0087 - accuracy: 1.0000 - val_loss: 0.1542 - val_accuracy: 0.9596\n",
            "Epoch 22/30\n",
            "56/56 - 0s - loss: 0.0076 - accuracy: 1.0000 - val_loss: 0.1528 - val_accuracy: 0.9596\n",
            "Epoch 23/30\n",
            "56/56 - 0s - loss: 0.0068 - accuracy: 1.0000 - val_loss: 0.1516 - val_accuracy: 0.9596\n",
            "Epoch 24/30\n",
            "56/56 - 0s - loss: 0.0060 - accuracy: 1.0000 - val_loss: 0.1507 - val_accuracy: 0.9596\n",
            "Epoch 25/30\n",
            "56/56 - 0s - loss: 0.0054 - accuracy: 1.0000 - val_loss: 0.1499 - val_accuracy: 0.9596\n",
            "Epoch 26/30\n",
            "56/56 - 0s - loss: 0.0049 - accuracy: 1.0000 - val_loss: 0.1492 - val_accuracy: 0.9596\n",
            "Epoch 27/30\n",
            "56/56 - 0s - loss: 0.0044 - accuracy: 1.0000 - val_loss: 0.1488 - val_accuracy: 0.9596\n",
            "Epoch 28/30\n",
            "56/56 - 0s - loss: 0.0040 - accuracy: 1.0000 - val_loss: 0.1482 - val_accuracy: 0.9596\n",
            "Epoch 29/30\n",
            "56/56 - 0s - loss: 0.0037 - accuracy: 1.0000 - val_loss: 0.1479 - val_accuracy: 0.9596\n",
            "Epoch 30/30\n",
            "56/56 - 0s - loss: 0.0034 - accuracy: 1.0000 - val_loss: 0.1475 - val_accuracy: 0.9596\n"
          ],
          "name": "stdout"
        }
      ]
    },
    {
      "cell_type": "code",
      "metadata": {
        "colab": {
          "base_uri": "https://localhost:8080/",
          "height": 279
        },
        "id": "tqAOrioWM9o4",
        "outputId": "248f1d39-4534-4513-828a-da752703e8c6"
      },
      "source": [
        "plot_graphs(history, \"accuracy\")"
      ],
      "execution_count": 63,
      "outputs": [
        {
          "output_type": "display_data",
          "data": {
            "image/png": "[encoded data removed]",
            "text/plain": [
              "<Figure size 432x288 with 1 Axes>"
            ]
          },
          "metadata": {
            "tags": [],
            "needs_background": "light"
          }
        }
      ]
    },
    {
      "cell_type": "code",
      "metadata": {
        "colab": {
          "base_uri": "https://localhost:8080/",
          "height": 279
        },
        "id": "MYH82lP5M9o4",
        "outputId": "e2e4a837-139c-4ccf-ebd3-d9c023fe9e96"
      },
      "source": [
        "plot_graphs(history, \"loss\")"
      ],
      "execution_count": 64,
      "outputs": [
        {
          "output_type": "display_data",
          "data": {
            "image/png": "[encoded data removed]",
            "text/plain": [
              "<Figure size 432x288 with 1 Axes>"
            ]
          },
          "metadata": {
            "tags": [],
            "needs_background": "light"
          }
        }
      ]
    },
    {
      "cell_type": "markdown",
      "metadata": {
        "id": "OuWXgX0uNRjw"
      },
      "source": [
        "RESULT - VALIDATION ACCURACY improved from 94.16 to 95.96"
      ]
    },
    {
      "cell_type": "markdown",
      "metadata": {
        "id": "MHpcXsYKNpET"
      },
      "source": [
        "**increase dimensions**"
      ]
    },
    {
      "cell_type": "code",
      "metadata": {
        "id": "ibTs9FfBNvxo"
      },
      "source": [
        "vocab_size = 20000\n",
        "embedding_dim = 160\n",
        "max_length = 120\n",
        "trunc_type='post'\n",
        "padding_type='post'\n",
        "oov_tok = \"<OOV>\"\n",
        "training_portion = .8\n",
        "lr = 0.01\n",
        "num_epochs = 30\n",
        "loss = 'sparse_categorical_crossentropy'\n",
        "optimizer='adam'"
      ],
      "execution_count": 79,
      "outputs": []
    },
    {
      "cell_type": "code",
      "metadata": {
        "colab": {
          "base_uri": "https://localhost:8080/"
        },
        "id": "gNd1b795Nvxr",
        "outputId": "1dd6e7ab-e634-4d2b-dae0-f3d920c56088"
      },
      "source": [
        "train_seq, train_labels, val_seq, val_labels = pre_processing(sentences, labels, vocab_size, embedding_dim, max_length, oov_tok, training_portion, trunc_type, padding_type)"
      ],
      "execution_count": 80,
      "outputs": [
        {
          "output_type": "stream",
          "text": [
            "Train samples count : 1780\n",
            "Validation samples count : 445\n",
            "TRAIN INPUT SHAPE - (1780, 120), LABELS SHAPE = (1780, 1)\n",
            "VALIDATION INPUT SHAPE - (445, 120), LABELS SHAPE = (445, 1)\n"
          ],
          "name": "stdout"
        }
      ]
    },
    {
      "cell_type": "code",
      "metadata": {
        "id": "tCC6DmYcNvxt"
      },
      "source": [
        "del history ## clearing variables\n",
        "del model\n",
        "tf.keras.backend.clear_session()\n",
        "model = tf.keras.Sequential([\n",
        "                              tf.keras.layers.Embedding(input_dim=vocab_size, output_dim=embedding_dim, input_length=max_length),\n",
        "                              tf.keras.layers.GlobalAveragePooling1D(),\n",
        "                              tf.keras.layers.Dense(24, activation='relu'),\n",
        "                              tf.keras.layers.Dense(6, activation='softmax')\n",
        "])"
      ],
      "execution_count": 81,
      "outputs": []
    },
    {
      "cell_type": "code",
      "metadata": {
        "id": "pPWy7CwHNvxu"
      },
      "source": [
        "model.compile(loss=loss, optimizer=optimizer, metrics=['accuracy'])"
      ],
      "execution_count": 82,
      "outputs": []
    },
    {
      "cell_type": "code",
      "metadata": {
        "colab": {
          "base_uri": "https://localhost:8080/"
        },
        "id": "W_uvtkIaNvxu",
        "outputId": "a627c6e4-adf0-4497-f793-60cb64bc6c54"
      },
      "source": [
        "history = model.fit(train_seq, train_labels, epochs=num_epochs, validation_data=(val_seq, val_labels), verbose=2)"
      ],
      "execution_count": 83,
      "outputs": [
        {
          "output_type": "stream",
          "text": [
            "Epoch 1/30\n",
            "56/56 - 2s - loss: 1.7006 - accuracy: 0.7230 - val_loss: 1.5258 - val_accuracy: 0.9101\n",
            "Epoch 2/30\n",
            "56/56 - 2s - loss: 1.1389 - accuracy: 0.9629 - val_loss: 0.7780 - val_accuracy: 0.9416\n",
            "Epoch 3/30\n",
            "56/56 - 2s - loss: 0.4089 - accuracy: 0.9843 - val_loss: 0.3343 - val_accuracy: 0.9528\n",
            "Epoch 4/30\n",
            "56/56 - 2s - loss: 0.1368 - accuracy: 0.9933 - val_loss: 0.2184 - val_accuracy: 0.9640\n",
            "Epoch 5/30\n",
            "56/56 - 2s - loss: 0.0616 - accuracy: 0.9978 - val_loss: 0.1743 - val_accuracy: 0.9663\n",
            "Epoch 6/30\n",
            "56/56 - 2s - loss: 0.0336 - accuracy: 1.0000 - val_loss: 0.1546 - val_accuracy: 0.9685\n",
            "Epoch 7/30\n",
            "56/56 - 2s - loss: 0.0209 - accuracy: 1.0000 - val_loss: 0.1427 - val_accuracy: 0.9685\n",
            "Epoch 8/30\n",
            "56/56 - 2s - loss: 0.0143 - accuracy: 1.0000 - val_loss: 0.1346 - val_accuracy: 0.9685\n",
            "Epoch 9/30\n",
            "56/56 - 2s - loss: 0.0104 - accuracy: 1.0000 - val_loss: 0.1294 - val_accuracy: 0.9708\n",
            "Epoch 10/30\n",
            "56/56 - 2s - loss: 0.0079 - accuracy: 1.0000 - val_loss: 0.1256 - val_accuracy: 0.9708\n",
            "Epoch 11/30\n",
            "56/56 - 2s - loss: 0.0062 - accuracy: 1.0000 - val_loss: 0.1233 - val_accuracy: 0.9708\n",
            "Epoch 12/30\n",
            "56/56 - 2s - loss: 0.0050 - accuracy: 1.0000 - val_loss: 0.1210 - val_accuracy: 0.9708\n",
            "Epoch 13/30\n",
            "56/56 - 2s - loss: 0.0041 - accuracy: 1.0000 - val_loss: 0.1197 - val_accuracy: 0.9708\n",
            "Epoch 14/30\n",
            "56/56 - 2s - loss: 0.0035 - accuracy: 1.0000 - val_loss: 0.1184 - val_accuracy: 0.9708\n",
            "Epoch 15/30\n",
            "56/56 - 2s - loss: 0.0030 - accuracy: 1.0000 - val_loss: 0.1173 - val_accuracy: 0.9708\n",
            "Epoch 16/30\n",
            "56/56 - 2s - loss: 0.0025 - accuracy: 1.0000 - val_loss: 0.1166 - val_accuracy: 0.9708\n",
            "Epoch 17/30\n",
            "56/56 - 2s - loss: 0.0022 - accuracy: 1.0000 - val_loss: 0.1161 - val_accuracy: 0.9708\n",
            "Epoch 18/30\n",
            "56/56 - 2s - loss: 0.0019 - accuracy: 1.0000 - val_loss: 0.1156 - val_accuracy: 0.9708\n",
            "Epoch 19/30\n",
            "56/56 - 2s - loss: 0.0017 - accuracy: 1.0000 - val_loss: 0.1152 - val_accuracy: 0.9708\n",
            "Epoch 20/30\n",
            "56/56 - 2s - loss: 0.0015 - accuracy: 1.0000 - val_loss: 0.1149 - val_accuracy: 0.9708\n",
            "Epoch 21/30\n",
            "56/56 - 2s - loss: 0.0014 - accuracy: 1.0000 - val_loss: 0.1147 - val_accuracy: 0.9708\n",
            "Epoch 22/30\n",
            "56/56 - 2s - loss: 0.0012 - accuracy: 1.0000 - val_loss: 0.1144 - val_accuracy: 0.9708\n",
            "Epoch 23/30\n",
            "56/56 - 2s - loss: 0.0011 - accuracy: 1.0000 - val_loss: 0.1142 - val_accuracy: 0.9730\n",
            "Epoch 24/30\n",
            "56/56 - 2s - loss: 0.0010 - accuracy: 1.0000 - val_loss: 0.1141 - val_accuracy: 0.9708\n",
            "Epoch 25/30\n",
            "56/56 - 2s - loss: 9.1848e-04 - accuracy: 1.0000 - val_loss: 0.1140 - val_accuracy: 0.9730\n",
            "Epoch 26/30\n",
            "56/56 - 2s - loss: 8.4040e-04 - accuracy: 1.0000 - val_loss: 0.1139 - val_accuracy: 0.9753\n",
            "Epoch 27/30\n",
            "56/56 - 2s - loss: 7.7066e-04 - accuracy: 1.0000 - val_loss: 0.1139 - val_accuracy: 0.9753\n",
            "Epoch 28/30\n",
            "56/56 - 2s - loss: 7.0914e-04 - accuracy: 1.0000 - val_loss: 0.1138 - val_accuracy: 0.9753\n",
            "Epoch 29/30\n",
            "56/56 - 2s - loss: 6.5398e-04 - accuracy: 1.0000 - val_loss: 0.1139 - val_accuracy: 0.9753\n",
            "Epoch 30/30\n",
            "56/56 - 2s - loss: 6.0502e-04 - accuracy: 1.0000 - val_loss: 0.1138 - val_accuracy: 0.9753\n"
          ],
          "name": "stdout"
        }
      ]
    },
    {
      "cell_type": "code",
      "metadata": {
        "colab": {
          "base_uri": "https://localhost:8080/",
          "height": 279
        },
        "id": "BJXGGoznNvxv",
        "outputId": "e9233531-4b16-42b6-a433-fffeec016942"
      },
      "source": [
        "plot_graphs(history, \"accuracy\")"
      ],
      "execution_count": 84,
      "outputs": [
        {
          "output_type": "display_data",
          "data": {
            "image/png": "[encoded data removed]",
            "text/plain": [
              "<Figure size 432x288 with 1 Axes>"
            ]
          },
          "metadata": {
            "tags": [],
            "needs_background": "light"
          }
        }
      ]
    },
    {
      "cell_type": "code",
      "metadata": {
        "colab": {
          "base_uri": "https://localhost:8080/",
          "height": 279
        },
        "id": "aces1sjbNvxv",
        "outputId": "836055a6-9774-4ef7-f8f3-8d377ce5649c"
      },
      "source": [
        "plot_graphs(history, \"loss\")"
      ],
      "execution_count": 85,
      "outputs": [
        {
          "output_type": "display_data",
          "data": {
            "image/png": "[encoded data removed]",
            "text/plain": [
              "<Figure size 432x288 with 1 Axes>"
            ]
          },
          "metadata": {
            "tags": [],
            "needs_background": "light"
          }
        }
      ]
    },
    {
      "cell_type": "markdown",
      "metadata": {
        "id": "GQyukKcCOB90"
      },
      "source": [
        "RESULT - VALIDATION ACCURACY started with 91.01 and reached 95.28 in 3 epochs itself AND improved from 95.96 to 97.53. TRAINING TIME increased"
      ]
    },
    {
      "cell_type": "markdown",
      "metadata": {
        "id": "MslI9OgJPN0u"
      },
      "source": [
        "**increase max length**"
      ]
    },
    {
      "cell_type": "code",
      "metadata": {
        "id": "Dkn_FZVHPY9i"
      },
      "source": [
        "vocab_size = 20000\n",
        "embedding_dim = 160\n",
        "max_length = 512\n",
        "trunc_type='post'\n",
        "padding_type='post'\n",
        "oov_tok = \"<OOV>\"\n",
        "training_portion = .8\n",
        "lr = 0.01\n",
        "num_epochs = 30\n",
        "loss = 'sparse_categorical_crossentropy'\n",
        "optimizer='adam'"
      ],
      "execution_count": 86,
      "outputs": []
    },
    {
      "cell_type": "code",
      "metadata": {
        "colab": {
          "base_uri": "https://localhost:8080/"
        },
        "id": "sSvMYI3LPY9x",
        "outputId": "cb9b197d-eddf-40e4-c89b-ec0aec549af4"
      },
      "source": [
        "train_seq, train_labels, val_seq, val_labels = pre_processing(sentences, labels, vocab_size, embedding_dim, max_length, oov_tok, training_portion, trunc_type, padding_type)"
      ],
      "execution_count": 87,
      "outputs": [
        {
          "output_type": "stream",
          "text": [
            "Train samples count : 1780\n",
            "Validation samples count : 445\n",
            "TRAIN INPUT SHAPE - (1780, 512), LABELS SHAPE = (1780, 1)\n",
            "VALIDATION INPUT SHAPE - (445, 512), LABELS SHAPE = (445, 1)\n"
          ],
          "name": "stdout"
        }
      ]
    },
    {
      "cell_type": "code",
      "metadata": {
        "id": "Y5LpQUEBPY9z"
      },
      "source": [
        "del history ## clearing variables\n",
        "del model\n",
        "tf.keras.backend.clear_session()\n",
        "model = tf.keras.Sequential([\n",
        "                              tf.keras.layers.Embedding(input_dim=vocab_size, output_dim=embedding_dim, input_length=max_length),\n",
        "                              tf.keras.layers.GlobalAveragePooling1D(),\n",
        "                              tf.keras.layers.Dense(24, activation='relu'),\n",
        "                              tf.keras.layers.Dense(6, activation='softmax')\n",
        "])"
      ],
      "execution_count": 101,
      "outputs": []
    },
    {
      "cell_type": "code",
      "metadata": {
        "id": "CpIUBFm2PY90"
      },
      "source": [
        "model.compile(loss=loss, optimizer=optimizer, metrics=['accuracy'])"
      ],
      "execution_count": 102,
      "outputs": []
    },
    {
      "cell_type": "code",
      "metadata": {
        "colab": {
          "base_uri": "https://localhost:8080/"
        },
        "id": "BdAbdLBePY90",
        "outputId": "4e2f7e66-2a90-460a-90a3-a796cc8ecc14"
      },
      "source": [
        "history = model.fit(train_seq, train_labels, epochs=num_epochs, validation_data=(val_seq, val_labels), verbose=2)"
      ],
      "execution_count": 103,
      "outputs": [
        {
          "output_type": "stream",
          "text": [
            "Epoch 1/30\n",
            "56/56 - 2s - loss: 1.7204 - accuracy: 0.2629 - val_loss: 1.6181 - val_accuracy: 0.2562\n",
            "Epoch 2/30\n",
            "56/56 - 2s - loss: 1.5104 - accuracy: 0.3702 - val_loss: 1.4004 - val_accuracy: 0.4292\n",
            "Epoch 3/30\n",
            "56/56 - 2s - loss: 1.2165 - accuracy: 0.6657 - val_loss: 1.0519 - val_accuracy: 0.8067\n",
            "Epoch 4/30\n",
            "56/56 - 2s - loss: 0.8191 - accuracy: 0.9135 - val_loss: 0.6978 - val_accuracy: 0.9191\n",
            "Epoch 5/30\n",
            "56/56 - 2s - loss: 0.4910 - accuracy: 0.9674 - val_loss: 0.4724 - val_accuracy: 0.9303\n",
            "Epoch 6/30\n",
            "56/56 - 2s - loss: 0.2997 - accuracy: 0.9809 - val_loss: 0.3486 - val_accuracy: 0.9348\n",
            "Epoch 7/30\n",
            "56/56 - 2s - loss: 0.1932 - accuracy: 0.9904 - val_loss: 0.2696 - val_accuracy: 0.9596\n",
            "Epoch 8/30\n",
            "56/56 - 2s - loss: 0.1323 - accuracy: 0.9944 - val_loss: 0.2184 - val_accuracy: 0.9640\n",
            "Epoch 9/30\n",
            "56/56 - 2s - loss: 0.0948 - accuracy: 0.9949 - val_loss: 0.1877 - val_accuracy: 0.9685\n",
            "Epoch 10/30\n",
            "56/56 - 2s - loss: 0.0692 - accuracy: 0.9972 - val_loss: 0.1666 - val_accuracy: 0.9685\n",
            "Epoch 11/30\n",
            "56/56 - 2s - loss: 0.0525 - accuracy: 0.9983 - val_loss: 0.1509 - val_accuracy: 0.9685\n",
            "Epoch 12/30\n",
            "56/56 - 2s - loss: 0.0405 - accuracy: 0.9989 - val_loss: 0.1415 - val_accuracy: 0.9685\n",
            "Epoch 13/30\n",
            "56/56 - 2s - loss: 0.0323 - accuracy: 0.9989 - val_loss: 0.1284 - val_accuracy: 0.9708\n",
            "Epoch 14/30\n",
            "56/56 - 2s - loss: 0.0260 - accuracy: 0.9994 - val_loss: 0.1255 - val_accuracy: 0.9685\n",
            "Epoch 15/30\n",
            "56/56 - 2s - loss: 0.0212 - accuracy: 1.0000 - val_loss: 0.1179 - val_accuracy: 0.9708\n",
            "Epoch 16/30\n",
            "56/56 - 2s - loss: 0.0175 - accuracy: 1.0000 - val_loss: 0.1133 - val_accuracy: 0.9685\n",
            "Epoch 17/30\n",
            "56/56 - 2s - loss: 0.0148 - accuracy: 1.0000 - val_loss: 0.1117 - val_accuracy: 0.9730\n",
            "Epoch 18/30\n",
            "56/56 - 2s - loss: 0.0128 - accuracy: 1.0000 - val_loss: 0.1060 - val_accuracy: 0.9730\n",
            "Epoch 19/30\n",
            "56/56 - 2s - loss: 0.0108 - accuracy: 1.0000 - val_loss: 0.1049 - val_accuracy: 0.9730\n",
            "Epoch 20/30\n",
            "56/56 - 2s - loss: 0.0093 - accuracy: 1.0000 - val_loss: 0.1015 - val_accuracy: 0.9730\n",
            "Epoch 21/30\n",
            "56/56 - 2s - loss: 0.0082 - accuracy: 1.0000 - val_loss: 0.1004 - val_accuracy: 0.9753\n",
            "Epoch 22/30\n",
            "56/56 - 2s - loss: 0.0072 - accuracy: 1.0000 - val_loss: 0.1009 - val_accuracy: 0.9753\n",
            "Epoch 23/30\n",
            "56/56 - 2s - loss: 0.0063 - accuracy: 1.0000 - val_loss: 0.0978 - val_accuracy: 0.9730\n",
            "Epoch 24/30\n",
            "56/56 - 2s - loss: 0.0057 - accuracy: 1.0000 - val_loss: 0.0954 - val_accuracy: 0.9753\n",
            "Epoch 25/30\n",
            "56/56 - 2s - loss: 0.0051 - accuracy: 1.0000 - val_loss: 0.0945 - val_accuracy: 0.9730\n",
            "Epoch 26/30\n",
            "56/56 - 2s - loss: 0.0046 - accuracy: 1.0000 - val_loss: 0.0936 - val_accuracy: 0.9753\n",
            "Epoch 27/30\n",
            "56/56 - 2s - loss: 0.0041 - accuracy: 1.0000 - val_loss: 0.0931 - val_accuracy: 0.9730\n",
            "Epoch 28/30\n",
            "56/56 - 2s - loss: 0.0037 - accuracy: 1.0000 - val_loss: 0.0923 - val_accuracy: 0.9753\n",
            "Epoch 29/30\n",
            "56/56 - 2s - loss: 0.0034 - accuracy: 1.0000 - val_loss: 0.0915 - val_accuracy: 0.9753\n",
            "Epoch 30/30\n",
            "56/56 - 2s - loss: 0.0031 - accuracy: 1.0000 - val_loss: 0.0910 - val_accuracy: 0.9753\n"
          ],
          "name": "stdout"
        }
      ]
    },
    {
      "cell_type": "code",
      "metadata": {
        "colab": {
          "base_uri": "https://localhost:8080/",
          "height": 279
        },
        "id": "wgnvKiXfPY91",
        "outputId": "9b77835d-5b19-4ccb-f82c-15b608a7a6c9"
      },
      "source": [
        "plot_graphs(history, \"accuracy\")"
      ],
      "execution_count": 99,
      "outputs": [
        {
          "output_type": "display_data",
          "data": {
            "image/png": "[encoded data removed]",
            "text/plain": [
              "<Figure size 432x288 with 1 Axes>"
            ]
          },
          "metadata": {
            "tags": [],
            "needs_background": "light"
          }
        }
      ]
    },
    {
      "cell_type": "code",
      "metadata": {
        "colab": {
          "base_uri": "https://localhost:8080/",
          "height": 279
        },
        "id": "7IzXqva2PY91",
        "outputId": "7c146c26-478a-4219-ff22-27f1a1aac9a6"
      },
      "source": [
        "plot_graphs(history, \"loss\")"
      ],
      "execution_count": 100,
      "outputs": [
        {
          "output_type": "display_data",
          "data": {
            "image/png": "[encoded data removed]",
            "text/plain": [
              "<Figure size 432x288 with 1 Axes>"
            ]
          },
          "metadata": {
            "tags": [],
            "needs_background": "light"
          }
        }
      ]
    },
    {
      "cell_type": "markdown",
      "metadata": {
        "id": "H7z_EFNWQ36W"
      },
      "source": [
        "RESULT - nothing much improved"
      ]
    },
    {
      "cell_type": "markdown",
      "metadata": {
        "id": "UrvoQ5avRTAi"
      },
      "source": [
        "**try `rmsprop` optimizer**"
      ]
    },
    {
      "cell_type": "code",
      "metadata": {
        "id": "NqrxwkrhRbdQ"
      },
      "source": [
        "vocab_size = 20000\n",
        "embedding_dim = 160\n",
        "max_length = 512\n",
        "trunc_type='post'\n",
        "padding_type='post'\n",
        "oov_tok = \"<OOV>\"\n",
        "training_portion = .8\n",
        "lr = 0.01\n",
        "num_epochs = 30\n",
        "loss = 'sparse_categorical_crossentropy'\n",
        "optimizer='rmsprop'"
      ],
      "execution_count": 104,
      "outputs": []
    },
    {
      "cell_type": "code",
      "metadata": {
        "colab": {
          "base_uri": "https://localhost:8080/"
        },
        "id": "wVr00TidRbdR",
        "outputId": "0e47aa4b-0eda-482f-b571-3c19538c6d54"
      },
      "source": [
        "train_seq, train_labels, val_seq, val_labels = pre_processing(sentences, labels, vocab_size, embedding_dim, max_length, oov_tok, training_portion, trunc_type, padding_type)"
      ],
      "execution_count": 105,
      "outputs": [
        {
          "output_type": "stream",
          "text": [
            "Train samples count : 1780\n",
            "Validation samples count : 445\n",
            "TRAIN INPUT SHAPE - (1780, 512), LABELS SHAPE = (1780, 1)\n",
            "VALIDATION INPUT SHAPE - (445, 512), LABELS SHAPE = (445, 1)\n"
          ],
          "name": "stdout"
        }
      ]
    },
    {
      "cell_type": "code",
      "metadata": {
        "id": "zTIhTwQyRbdS"
      },
      "source": [
        "del history ## clearing variables\n",
        "del model\n",
        "tf.keras.backend.clear_session()\n",
        "model = tf.keras.Sequential([\n",
        "                              tf.keras.layers.Embedding(input_dim=vocab_size, output_dim=embedding_dim, input_length=max_length),\n",
        "                              tf.keras.layers.GlobalAveragePooling1D(),\n",
        "                              tf.keras.layers.Dense(24, activation='relu'),\n",
        "                              tf.keras.layers.Dense(6, activation='softmax')\n",
        "])"
      ],
      "execution_count": 106,
      "outputs": []
    },
    {
      "cell_type": "code",
      "metadata": {
        "id": "7IfALGEmRbdT"
      },
      "source": [
        "model.compile(loss=loss, optimizer=optimizer, metrics=['accuracy'])"
      ],
      "execution_count": 107,
      "outputs": []
    },
    {
      "cell_type": "code",
      "metadata": {
        "colab": {
          "base_uri": "https://localhost:8080/"
        },
        "id": "Th2K1daiRbdT",
        "outputId": "b15116a2-04eb-427a-bfbe-70c9385329bd"
      },
      "source": [
        "history = model.fit(train_seq, train_labels, epochs=num_epochs, validation_data=(val_seq, val_labels), verbose=2)"
      ],
      "execution_count": 108,
      "outputs": [
        {
          "output_type": "stream",
          "text": [
            "Epoch 1/30\n",
            "56/56 - 1s - loss: 1.7340 - accuracy: 0.3910 - val_loss: 1.6585 - val_accuracy: 0.4944\n",
            "Epoch 2/30\n",
            "56/56 - 1s - loss: 1.5463 - accuracy: 0.5573 - val_loss: 1.4329 - val_accuracy: 0.6607\n",
            "Epoch 3/30\n",
            "56/56 - 1s - loss: 1.2699 - accuracy: 0.7382 - val_loss: 1.1321 - val_accuracy: 0.8562\n",
            "Epoch 4/30\n",
            "56/56 - 1s - loss: 0.9550 - accuracy: 0.8747 - val_loss: 0.8459 - val_accuracy: 0.9303\n",
            "Epoch 5/30\n",
            "56/56 - 1s - loss: 0.6815 - accuracy: 0.9449 - val_loss: 0.6310 - val_accuracy: 0.9236\n",
            "Epoch 6/30\n",
            "56/56 - 1s - loss: 0.4640 - accuracy: 0.9556 - val_loss: 0.4611 - val_accuracy: 0.9326\n",
            "Epoch 7/30\n",
            "56/56 - 1s - loss: 0.3070 - accuracy: 0.9680 - val_loss: 0.3280 - val_accuracy: 0.9596\n",
            "Epoch 8/30\n",
            "56/56 - 1s - loss: 0.2013 - accuracy: 0.9770 - val_loss: 0.2411 - val_accuracy: 0.9640\n",
            "Epoch 9/30\n",
            "56/56 - 1s - loss: 0.1323 - accuracy: 0.9882 - val_loss: 0.1920 - val_accuracy: 0.9730\n",
            "Epoch 10/30\n",
            "56/56 - 1s - loss: 0.0901 - accuracy: 0.9899 - val_loss: 0.1538 - val_accuracy: 0.9730\n",
            "Epoch 11/30\n",
            "56/56 - 1s - loss: 0.0605 - accuracy: 0.9955 - val_loss: 0.1271 - val_accuracy: 0.9775\n",
            "Epoch 12/30\n",
            "56/56 - 1s - loss: 0.0416 - accuracy: 0.9966 - val_loss: 0.1166 - val_accuracy: 0.9708\n",
            "Epoch 13/30\n",
            "56/56 - 1s - loss: 0.0289 - accuracy: 0.9983 - val_loss: 0.0974 - val_accuracy: 0.9775\n",
            "Epoch 14/30\n",
            "56/56 - 1s - loss: 0.0201 - accuracy: 0.9994 - val_loss: 0.0906 - val_accuracy: 0.9775\n",
            "Epoch 15/30\n",
            "56/56 - 1s - loss: 0.0142 - accuracy: 0.9994 - val_loss: 0.0875 - val_accuracy: 0.9820\n",
            "Epoch 16/30\n",
            "56/56 - 1s - loss: 0.0096 - accuracy: 0.9994 - val_loss: 0.0874 - val_accuracy: 0.9798\n",
            "Epoch 17/30\n",
            "56/56 - 1s - loss: 0.0064 - accuracy: 1.0000 - val_loss: 0.0867 - val_accuracy: 0.9798\n",
            "Epoch 18/30\n",
            "56/56 - 1s - loss: 0.0042 - accuracy: 1.0000 - val_loss: 0.0817 - val_accuracy: 0.9798\n",
            "Epoch 19/30\n",
            "56/56 - 1s - loss: 0.0030 - accuracy: 1.0000 - val_loss: 0.0861 - val_accuracy: 0.9753\n",
            "Epoch 20/30\n",
            "56/56 - 1s - loss: 0.0019 - accuracy: 1.0000 - val_loss: 0.0855 - val_accuracy: 0.9798\n",
            "Epoch 21/30\n",
            "56/56 - 1s - loss: 0.0013 - accuracy: 1.0000 - val_loss: 0.0821 - val_accuracy: 0.9820\n",
            "Epoch 22/30\n",
            "56/56 - 1s - loss: 8.6470e-04 - accuracy: 1.0000 - val_loss: 0.0839 - val_accuracy: 0.9820\n",
            "Epoch 23/30\n",
            "56/56 - 1s - loss: 5.6582e-04 - accuracy: 1.0000 - val_loss: 0.0936 - val_accuracy: 0.9775\n",
            "Epoch 24/30\n",
            "56/56 - 1s - loss: 3.9094e-04 - accuracy: 1.0000 - val_loss: 0.0904 - val_accuracy: 0.9775\n",
            "Epoch 25/30\n",
            "56/56 - 1s - loss: 2.6996e-04 - accuracy: 1.0000 - val_loss: 0.0891 - val_accuracy: 0.9820\n",
            "Epoch 26/30\n",
            "56/56 - 1s - loss: 1.6913e-04 - accuracy: 1.0000 - val_loss: 0.0915 - val_accuracy: 0.9798\n",
            "Epoch 27/30\n",
            "56/56 - 1s - loss: 1.1290e-04 - accuracy: 1.0000 - val_loss: 0.0905 - val_accuracy: 0.9820\n",
            "Epoch 28/30\n",
            "56/56 - 1s - loss: 7.6357e-05 - accuracy: 1.0000 - val_loss: 0.0960 - val_accuracy: 0.9753\n",
            "Epoch 29/30\n",
            "56/56 - 1s - loss: 4.8268e-05 - accuracy: 1.0000 - val_loss: 0.1002 - val_accuracy: 0.9775\n",
            "Epoch 30/30\n",
            "56/56 - 1s - loss: 2.9290e-05 - accuracy: 1.0000 - val_loss: 0.1042 - val_accuracy: 0.9775\n"
          ],
          "name": "stdout"
        }
      ]
    },
    {
      "cell_type": "code",
      "metadata": {
        "colab": {
          "base_uri": "https://localhost:8080/",
          "height": 279
        },
        "id": "kCDjk1bIRbdU",
        "outputId": "94b31a9e-fc69-475e-b75c-63b86733d3a7"
      },
      "source": [
        "plot_graphs(history, \"accuracy\")"
      ],
      "execution_count": 109,
      "outputs": [
        {
          "output_type": "display_data",
          "data": {
            "image/png": "[encoded data removed]",
            "text/plain": [
              "<Figure size 432x288 with 1 Axes>"
            ]
          },
          "metadata": {
            "tags": [],
            "needs_background": "light"
          }
        }
      ]
    },
    {
      "cell_type": "code",
      "metadata": {
        "colab": {
          "base_uri": "https://localhost:8080/",
          "height": 279
        },
        "id": "PVrHtdEyRbdV",
        "outputId": "223916a4-982d-454a-9cf6-960affe943c0"
      },
      "source": [
        "plot_graphs(history, \"loss\")"
      ],
      "execution_count": 110,
      "outputs": [
        {
          "output_type": "display_data",
          "data": {
            "image/png": "[encoded data removed]",
            "text/plain": [
              "<Figure size 432x288 with 1 Axes>"
            ]
          },
          "metadata": {
            "tags": [],
            "needs_background": "light"
          }
        }
      ]
    },
    {
      "cell_type": "markdown",
      "metadata": {
        "id": "ktcbsRMcRuws"
      },
      "source": [
        "RESULT - VALIDATION ACCURACY improved from 97.53 to 98.2 and a bit shaky AND TRAINING TIME decreased"
      ]
    },
    {
      "cell_type": "markdown",
      "metadata": {
        "id": "AumPl0ieSPi3"
      },
      "source": [
        "**increase neurons**"
      ]
    },
    {
      "cell_type": "code",
      "metadata": {
        "id": "AX5e_ki3SSGm"
      },
      "source": [
        "vocab_size = 20000\n",
        "embedding_dim = 160\n",
        "max_length = 512\n",
        "trunc_type='post'\n",
        "padding_type='post'\n",
        "oov_tok = \"<OOV>\"\n",
        "training_portion = .8\n",
        "lr = 0.01\n",
        "num_epochs = 30\n",
        "loss = 'sparse_categorical_crossentropy'\n",
        "optimizer='adam'"
      ],
      "execution_count": 111,
      "outputs": []
    },
    {
      "cell_type": "code",
      "metadata": {
        "colab": {
          "base_uri": "https://localhost:8080/"
        },
        "id": "VbekMVPnSSGo",
        "outputId": "33174dfd-b331-443e-d89a-d8acf0f3572e"
      },
      "source": [
        "train_seq, train_labels, val_seq, val_labels = pre_processing(sentences, labels, vocab_size, embedding_dim, max_length, oov_tok, training_portion, trunc_type, padding_type)"
      ],
      "execution_count": 112,
      "outputs": [
        {
          "output_type": "stream",
          "text": [
            "Train samples count : 1780\n",
            "Validation samples count : 445\n",
            "TRAIN INPUT SHAPE - (1780, 512), LABELS SHAPE = (1780, 1)\n",
            "VALIDATION INPUT SHAPE - (445, 512), LABELS SHAPE = (445, 1)\n"
          ],
          "name": "stdout"
        }
      ]
    },
    {
      "cell_type": "code",
      "metadata": {
        "id": "5W-iHEh_SSGr"
      },
      "source": [
        "del history ## clearing variables\n",
        "del model\n",
        "tf.keras.backend.clear_session()\n",
        "model = tf.keras.Sequential([\n",
        "                              tf.keras.layers.Embedding(input_dim=vocab_size, output_dim=embedding_dim, input_length=max_length),\n",
        "                              tf.keras.layers.GlobalAveragePooling1D(),\n",
        "                              tf.keras.layers.Dense(64, activation='relu'),\n",
        "                              tf.keras.layers.Dense(6, activation='softmax')\n",
        "])"
      ],
      "execution_count": 116,
      "outputs": []
    },
    {
      "cell_type": "code",
      "metadata": {
        "id": "Vo7CxMijSSGs"
      },
      "source": [
        "model.compile(loss=loss, optimizer=optimizer, metrics=['accuracy'])"
      ],
      "execution_count": 117,
      "outputs": []
    },
    {
      "cell_type": "code",
      "metadata": {
        "colab": {
          "base_uri": "https://localhost:8080/"
        },
        "id": "26p5YnQYSSGs",
        "outputId": "dbcbdfce-e5a7-4248-a387-5a0601968788"
      },
      "source": [
        "history = model.fit(train_seq, train_labels, epochs=num_epochs, validation_data=(val_seq, val_labels), verbose=2)"
      ],
      "execution_count": 118,
      "outputs": [
        {
          "output_type": "stream",
          "text": [
            "Epoch 1/30\n",
            "56/56 - 2s - loss: 1.7021 - accuracy: 0.2910 - val_loss: 1.5787 - val_accuracy: 0.4562\n",
            "Epoch 2/30\n",
            "56/56 - 2s - loss: 1.4171 - accuracy: 0.5685 - val_loss: 1.2394 - val_accuracy: 0.6584\n",
            "Epoch 3/30\n",
            "56/56 - 2s - loss: 0.9744 - accuracy: 0.8725 - val_loss: 0.7691 - val_accuracy: 0.9326\n",
            "Epoch 4/30\n",
            "56/56 - 2s - loss: 0.5167 - accuracy: 0.9601 - val_loss: 0.4323 - val_accuracy: 0.9640\n",
            "Epoch 5/30\n",
            "56/56 - 2s - loss: 0.2580 - accuracy: 0.9798 - val_loss: 0.2823 - val_accuracy: 0.9708\n",
            "Epoch 6/30\n",
            "56/56 - 2s - loss: 0.1426 - accuracy: 0.9927 - val_loss: 0.2108 - val_accuracy: 0.9753\n",
            "Epoch 7/30\n",
            "56/56 - 2s - loss: 0.0869 - accuracy: 0.9961 - val_loss: 0.1673 - val_accuracy: 0.9730\n",
            "Epoch 8/30\n",
            "56/56 - 2s - loss: 0.0568 - accuracy: 0.9978 - val_loss: 0.1414 - val_accuracy: 0.9775\n",
            "Epoch 9/30\n",
            "56/56 - 2s - loss: 0.0399 - accuracy: 0.9994 - val_loss: 0.1258 - val_accuracy: 0.9798\n",
            "Epoch 10/30\n",
            "56/56 - 2s - loss: 0.0286 - accuracy: 0.9994 - val_loss: 0.1146 - val_accuracy: 0.9775\n",
            "Epoch 11/30\n",
            "56/56 - 2s - loss: 0.0215 - accuracy: 1.0000 - val_loss: 0.1070 - val_accuracy: 0.9775\n",
            "Epoch 12/30\n",
            "56/56 - 2s - loss: 0.0165 - accuracy: 1.0000 - val_loss: 0.1026 - val_accuracy: 0.9730\n",
            "Epoch 13/30\n",
            "56/56 - 2s - loss: 0.0131 - accuracy: 1.0000 - val_loss: 0.0958 - val_accuracy: 0.9730\n",
            "Epoch 14/30\n",
            "56/56 - 2s - loss: 0.0106 - accuracy: 1.0000 - val_loss: 0.0942 - val_accuracy: 0.9730\n",
            "Epoch 15/30\n",
            "56/56 - 2s - loss: 0.0087 - accuracy: 1.0000 - val_loss: 0.0915 - val_accuracy: 0.9775\n",
            "Epoch 16/30\n",
            "56/56 - 2s - loss: 0.0073 - accuracy: 1.0000 - val_loss: 0.0882 - val_accuracy: 0.9775\n",
            "Epoch 17/30\n",
            "56/56 - 2s - loss: 0.0063 - accuracy: 1.0000 - val_loss: 0.0876 - val_accuracy: 0.9753\n",
            "Epoch 18/30\n",
            "56/56 - 2s - loss: 0.0054 - accuracy: 1.0000 - val_loss: 0.0846 - val_accuracy: 0.9798\n",
            "Epoch 19/30\n",
            "56/56 - 2s - loss: 0.0046 - accuracy: 1.0000 - val_loss: 0.0841 - val_accuracy: 0.9775\n",
            "Epoch 20/30\n",
            "56/56 - 2s - loss: 0.0041 - accuracy: 1.0000 - val_loss: 0.0828 - val_accuracy: 0.9798\n",
            "Epoch 21/30\n",
            "56/56 - 2s - loss: 0.0036 - accuracy: 1.0000 - val_loss: 0.0816 - val_accuracy: 0.9775\n",
            "Epoch 22/30\n",
            "56/56 - 2s - loss: 0.0032 - accuracy: 1.0000 - val_loss: 0.0820 - val_accuracy: 0.9775\n",
            "Epoch 23/30\n",
            "56/56 - 2s - loss: 0.0028 - accuracy: 1.0000 - val_loss: 0.0800 - val_accuracy: 0.9775\n",
            "Epoch 24/30\n",
            "56/56 - 2s - loss: 0.0025 - accuracy: 1.0000 - val_loss: 0.0794 - val_accuracy: 0.9798\n",
            "Epoch 25/30\n",
            "56/56 - 2s - loss: 0.0023 - accuracy: 1.0000 - val_loss: 0.0788 - val_accuracy: 0.9820\n",
            "Epoch 26/30\n",
            "56/56 - 2s - loss: 0.0021 - accuracy: 1.0000 - val_loss: 0.0785 - val_accuracy: 0.9775\n",
            "Epoch 27/30\n",
            "56/56 - 2s - loss: 0.0019 - accuracy: 1.0000 - val_loss: 0.0783 - val_accuracy: 0.9820\n",
            "Epoch 28/30\n",
            "56/56 - 2s - loss: 0.0017 - accuracy: 1.0000 - val_loss: 0.0776 - val_accuracy: 0.9798\n",
            "Epoch 29/30\n",
            "56/56 - 2s - loss: 0.0016 - accuracy: 1.0000 - val_loss: 0.0774 - val_accuracy: 0.9798\n",
            "Epoch 30/30\n",
            "56/56 - 2s - loss: 0.0014 - accuracy: 1.0000 - val_loss: 0.0769 - val_accuracy: 0.9798\n"
          ],
          "name": "stdout"
        }
      ]
    },
    {
      "cell_type": "code",
      "metadata": {
        "colab": {
          "base_uri": "https://localhost:8080/",
          "height": 279
        },
        "id": "8W8RLRTsSSGt",
        "outputId": "3f5cb0ff-bff2-4bd3-a05d-fcb91d8fee8f"
      },
      "source": [
        "plot_graphs(history, \"accuracy\")"
      ],
      "execution_count": 119,
      "outputs": [
        {
          "output_type": "display_data",
          "data": {
            "image/png": "[encoded data removed]",
            "text/plain": [
              "<Figure size 432x288 with 1 Axes>"
            ]
          },
          "metadata": {
            "tags": [],
            "needs_background": "light"
          }
        }
      ]
    },
    {
      "cell_type": "code",
      "metadata": {
        "colab": {
          "base_uri": "https://localhost:8080/",
          "height": 279
        },
        "id": "Scs_EyxrSSGu",
        "outputId": "577008a9-bb64-4d04-ed40-1f9054f5ec08"
      },
      "source": [
        "plot_graphs(history, \"loss\")"
      ],
      "execution_count": 120,
      "outputs": [
        {
          "output_type": "display_data",
          "data": {
            "image/png": "[encoded data removed]",
            "text/plain": [
              "<Figure size 432x288 with 1 Axes>"
            ]
          },
          "metadata": {
            "tags": [],
            "needs_background": "light"
          }
        }
      ]
    },
    {
      "cell_type": "markdown",
      "metadata": {
        "id": "1P8VPx7-S4m1"
      },
      "source": [
        "RESULT - nothing improved but VALIDATION ACCURACY graph is a bit smoother"
      ]
    },
    {
      "cell_type": "markdown",
      "metadata": {
        "id": "0xp4IfDZTZ7x"
      },
      "source": [
        "**add layers**"
      ]
    },
    {
      "cell_type": "code",
      "metadata": {
        "id": "pSqyiyK0TYvn"
      },
      "source": [
        "vocab_size = 20000\n",
        "embedding_dim = 160\n",
        "max_length = 512\n",
        "trunc_type='post'\n",
        "padding_type='post'\n",
        "oov_tok = \"<OOV>\"\n",
        "training_portion = .8\n",
        "lr = 0.01\n",
        "num_epochs = 30\n",
        "loss = 'sparse_categorical_crossentropy'\n",
        "optimizer='rmsprop'"
      ],
      "execution_count": 135,
      "outputs": []
    },
    {
      "cell_type": "code",
      "metadata": {
        "colab": {
          "base_uri": "https://localhost:8080/"
        },
        "id": "EQlEq7aUTYv2",
        "outputId": "d8fddd56-42cb-4ca0-b51c-2eae4469ae29"
      },
      "source": [
        "train_seq, train_labels, val_seq, val_labels = pre_processing(sentences, labels, vocab_size, embedding_dim, max_length, oov_tok, training_portion, trunc_type, padding_type)"
      ],
      "execution_count": 136,
      "outputs": [
        {
          "output_type": "stream",
          "text": [
            "Train samples count : 1780\n",
            "Validation samples count : 445\n",
            "TRAIN INPUT SHAPE - (1780, 512), LABELS SHAPE = (1780, 1)\n",
            "VALIDATION INPUT SHAPE - (445, 512), LABELS SHAPE = (445, 1)\n"
          ],
          "name": "stdout"
        }
      ]
    },
    {
      "cell_type": "code",
      "metadata": {
        "id": "YNR6R0plTYv3"
      },
      "source": [
        "del history ## clearing variables\n",
        "del model\n",
        "tf.keras.backend.clear_session()\n",
        "model = tf.keras.Sequential([\n",
        "                              tf.keras.layers.Embedding(input_dim=vocab_size, output_dim=embedding_dim, input_length=max_length),\n",
        "                              tf.keras.layers.GlobalAveragePooling1D(),\n",
        "                              tf.keras.layers.Dense(64, activation='relu'),\n",
        "                              tf.keras.layers.Dense(32, activation='relu'),\n",
        "                              tf.keras.layers.Dense(6, activation='softmax')\n",
        "])"
      ],
      "execution_count": 137,
      "outputs": []
    },
    {
      "cell_type": "code",
      "metadata": {
        "id": "pfB1BN6OTYv3"
      },
      "source": [
        "model.compile(loss=loss, optimizer=optimizer, metrics=['accuracy'])"
      ],
      "execution_count": 138,
      "outputs": []
    },
    {
      "cell_type": "code",
      "metadata": {
        "colab": {
          "base_uri": "https://localhost:8080/"
        },
        "id": "K2UvSCaoTYv4",
        "outputId": "4898a166-2d2f-4cab-9927-caaf26582382"
      },
      "source": [
        "history = model.fit(train_seq, train_labels, epochs=num_epochs, validation_data=(val_seq, val_labels), verbose=2)"
      ],
      "execution_count": 139,
      "outputs": [
        {
          "output_type": "stream",
          "text": [
            "Epoch 1/30\n",
            "56/56 - 2s - loss: 1.6876 - accuracy: 0.3640 - val_loss: 1.5449 - val_accuracy: 0.3910\n",
            "Epoch 2/30\n",
            "56/56 - 1s - loss: 1.3930 - accuracy: 0.5140 - val_loss: 1.2429 - val_accuracy: 0.6315\n",
            "Epoch 3/30\n",
            "56/56 - 1s - loss: 1.0339 - accuracy: 0.6787 - val_loss: 0.8795 - val_accuracy: 0.8494\n",
            "Epoch 4/30\n",
            "56/56 - 1s - loss: 0.6735 - accuracy: 0.8770 - val_loss: 0.5777 - val_accuracy: 0.9079\n",
            "Epoch 5/30\n",
            "56/56 - 1s - loss: 0.3846 - accuracy: 0.9663 - val_loss: 0.4055 - val_accuracy: 0.8899\n",
            "Epoch 6/30\n",
            "56/56 - 1s - loss: 0.1957 - accuracy: 0.9809 - val_loss: 0.2581 - val_accuracy: 0.9258\n",
            "Epoch 7/30\n",
            "56/56 - 1s - loss: 0.1013 - accuracy: 0.9876 - val_loss: 0.1821 - val_accuracy: 0.9506\n",
            "Epoch 8/30\n",
            "56/56 - 1s - loss: 0.0558 - accuracy: 0.9910 - val_loss: 0.1436 - val_accuracy: 0.9596\n",
            "Epoch 9/30\n",
            "56/56 - 1s - loss: 0.0315 - accuracy: 0.9961 - val_loss: 0.1433 - val_accuracy: 0.9461\n",
            "Epoch 10/30\n",
            "56/56 - 1s - loss: 0.0200 - accuracy: 0.9966 - val_loss: 0.1098 - val_accuracy: 0.9640\n",
            "Epoch 11/30\n",
            "56/56 - 1s - loss: 0.0121 - accuracy: 0.9983 - val_loss: 0.1115 - val_accuracy: 0.9640\n",
            "Epoch 12/30\n",
            "56/56 - 1s - loss: 0.0074 - accuracy: 0.9989 - val_loss: 0.1015 - val_accuracy: 0.9730\n",
            "Epoch 13/30\n",
            "56/56 - 1s - loss: 0.0039 - accuracy: 0.9994 - val_loss: 0.1136 - val_accuracy: 0.9596\n",
            "Epoch 14/30\n",
            "56/56 - 1s - loss: 0.0023 - accuracy: 0.9994 - val_loss: 0.0908 - val_accuracy: 0.9753\n",
            "Epoch 15/30\n",
            "56/56 - 1s - loss: 0.0012 - accuracy: 1.0000 - val_loss: 0.0997 - val_accuracy: 0.9775\n",
            "Epoch 16/30\n",
            "56/56 - 1s - loss: 4.7407e-04 - accuracy: 1.0000 - val_loss: 0.0999 - val_accuracy: 0.9685\n",
            "Epoch 17/30\n",
            "56/56 - 1s - loss: 1.9410e-04 - accuracy: 1.0000 - val_loss: 0.1073 - val_accuracy: 0.9708\n",
            "Epoch 18/30\n",
            "56/56 - 1s - loss: 9.6483e-05 - accuracy: 1.0000 - val_loss: 0.1128 - val_accuracy: 0.9685\n",
            "Epoch 19/30\n",
            "56/56 - 1s - loss: 5.1141e-05 - accuracy: 1.0000 - val_loss: 0.1338 - val_accuracy: 0.9640\n",
            "Epoch 20/30\n",
            "56/56 - 1s - loss: 1.7941e-05 - accuracy: 1.0000 - val_loss: 0.1123 - val_accuracy: 0.9753\n",
            "Epoch 21/30\n",
            "56/56 - 1s - loss: 1.4373e-05 - accuracy: 1.0000 - val_loss: 0.1386 - val_accuracy: 0.9640\n",
            "Epoch 22/30\n",
            "56/56 - 1s - loss: 4.6710e-06 - accuracy: 1.0000 - val_loss: 0.1187 - val_accuracy: 0.9708\n",
            "Epoch 23/30\n",
            "56/56 - 1s - loss: 2.3424e-06 - accuracy: 1.0000 - val_loss: 0.1272 - val_accuracy: 0.9663\n",
            "Epoch 24/30\n",
            "56/56 - 1s - loss: 2.1080e-06 - accuracy: 1.0000 - val_loss: 0.1253 - val_accuracy: 0.9753\n",
            "Epoch 25/30\n",
            "56/56 - 1s - loss: 8.7039e-07 - accuracy: 1.0000 - val_loss: 0.1326 - val_accuracy: 0.9775\n",
            "Epoch 26/30\n",
            "56/56 - 1s - loss: 5.8162e-07 - accuracy: 1.0000 - val_loss: 0.1365 - val_accuracy: 0.9708\n",
            "Epoch 27/30\n",
            "56/56 - 1s - loss: 5.2822e-07 - accuracy: 1.0000 - val_loss: 0.1349 - val_accuracy: 0.9775\n",
            "Epoch 28/30\n",
            "56/56 - 1s - loss: 2.3165e-07 - accuracy: 1.0000 - val_loss: 0.1385 - val_accuracy: 0.9708\n",
            "Epoch 29/30\n",
            "56/56 - 1s - loss: 1.5082e-07 - accuracy: 1.0000 - val_loss: 0.1421 - val_accuracy: 0.9685\n",
            "Epoch 30/30\n",
            "56/56 - 1s - loss: 8.4652e-08 - accuracy: 1.0000 - val_loss: 0.1807 - val_accuracy: 0.9663\n"
          ],
          "name": "stdout"
        }
      ]
    },
    {
      "cell_type": "code",
      "metadata": {
        "colab": {
          "base_uri": "https://localhost:8080/",
          "height": 279
        },
        "id": "kLtq7J2gTYv4",
        "outputId": "8b3a22dd-2bc9-4f3b-a95a-92db10182574"
      },
      "source": [
        "plot_graphs(history, \"accuracy\")"
      ],
      "execution_count": 140,
      "outputs": [
        {
          "output_type": "display_data",
          "data": {
            "image/png": "[encoded data removed]",
            "text/plain": [
              "<Figure size 432x288 with 1 Axes>"
            ]
          },
          "metadata": {
            "tags": [],
            "needs_background": "light"
          }
        }
      ]
    },
    {
      "cell_type": "code",
      "metadata": {
        "colab": {
          "base_uri": "https://localhost:8080/",
          "height": 281
        },
        "id": "xX4ar6pcTYv5",
        "outputId": "8e47df8d-b9d1-4d29-960e-c4da76aafb48"
      },
      "source": [
        "plot_graphs(history, \"loss\")"
      ],
      "execution_count": 141,
      "outputs": [
        {
          "output_type": "display_data",
          "data": {
            "image/png": "[encoded data removed]",
            "text/plain": [
              "<Figure size 432x288 with 1 Axes>"
            ]
          },
          "metadata": {
            "tags": [],
            "needs_background": "light"
          }
        }
      ]
    },
    {
      "cell_type": "code",
      "metadata": {
        "id": "jv8GRL_hTicl"
      },
      "source": [
        ""
      ],
      "execution_count": 141,
      "outputs": []
    }
  ]
}
