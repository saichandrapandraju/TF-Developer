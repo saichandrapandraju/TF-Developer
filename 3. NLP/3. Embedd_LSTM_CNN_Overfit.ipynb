{
  "nbformat": 4,
  "nbformat_minor": 0,
  "metadata": {
    "colab": {
      "name": "3. Embedd_LSTM_CNN_Overfit.ipynb",
      "provenance": [],
      "collapsed_sections": [],
      "include_colab_link": true
    },
    "kernelspec": {
      "name": "python3",
      "display_name": "Python 3"
    },
    "language_info": {
      "name": "python"
    },
    "accelerator": "GPU",
    "widgets": {
      "application/vnd.jupyter.widget-state+json": {
        "25914989136f47e9a16f3c5d381e3a14": {
          "model_module": "@jupyter-widgets/controls",
          "model_name": "HBoxModel",
          "state": {
            "_view_name": "HBoxView",
            "_dom_classes": [],
            "_model_name": "HBoxModel",
            "_view_module": "@jupyter-widgets/controls",
            "_model_module_version": "1.5.0",
            "_view_count": null,
            "_view_module_version": "1.5.0",
            "box_style": "",
            "layout": "IPY_MODEL_872bcf88647b410c882b5b692ffa662e",
            "_model_module": "@jupyter-widgets/controls",
            "children": [
              "IPY_MODEL_000e154d9875408d9b26927bc1a716d0",
              "IPY_MODEL_889ff9820fad4a28b619899689598bd3"
            ]
          }
        },
        "872bcf88647b410c882b5b692ffa662e": {
          "model_module": "@jupyter-widgets/base",
          "model_name": "LayoutModel",
          "state": {
            "_view_name": "LayoutView",
            "grid_template_rows": null,
            "right": null,
            "justify_content": null,
            "_view_module": "@jupyter-widgets/base",
            "overflow": null,
            "_model_module_version": "1.2.0",
            "_view_count": null,
            "flex_flow": null,
            "width": null,
            "min_width": null,
            "border": null,
            "align_items": null,
            "bottom": null,
            "_model_module": "@jupyter-widgets/base",
            "top": null,
            "grid_column": null,
            "overflow_y": null,
            "overflow_x": null,
            "grid_auto_flow": null,
            "grid_area": null,
            "grid_template_columns": null,
            "flex": null,
            "_model_name": "LayoutModel",
            "justify_items": null,
            "grid_row": null,
            "max_height": null,
            "align_content": null,
            "visibility": null,
            "align_self": null,
            "height": null,
            "min_height": null,
            "padding": null,
            "grid_auto_rows": null,
            "grid_gap": null,
            "max_width": null,
            "order": null,
            "_view_module_version": "1.2.0",
            "grid_template_areas": null,
            "object_position": null,
            "object_fit": null,
            "grid_auto_columns": null,
            "margin": null,
            "display": null,
            "left": null
          }
        },
        "000e154d9875408d9b26927bc1a716d0": {
          "model_module": "@jupyter-widgets/controls",
          "model_name": "FloatProgressModel",
          "state": {
            "_view_name": "ProgressView",
            "style": "IPY_MODEL_e45f8086046f4808974ef353ad65113b",
            "_dom_classes": [],
            "description": "",
            "_model_name": "FloatProgressModel",
            "bar_style": "success",
            "max": 1,
            "_view_module": "@jupyter-widgets/controls",
            "_model_module_version": "1.5.0",
            "value": 1,
            "_view_count": null,
            "_view_module_version": "1.5.0",
            "orientation": "horizontal",
            "min": 0,
            "description_tooltip": null,
            "_model_module": "@jupyter-widgets/controls",
            "layout": "IPY_MODEL_19bc4a174ddb4ef988af6eb70d3bdcfb"
          }
        },
        "889ff9820fad4a28b619899689598bd3": {
          "model_module": "@jupyter-widgets/controls",
          "model_name": "HTMLModel",
          "state": {
            "_view_name": "HTMLView",
            "style": "IPY_MODEL_fd4dca01456f40c4ac621b9275dab0cb",
            "_dom_classes": [],
            "description": "",
            "_model_name": "HTMLModel",
            "placeholder": "​",
            "_view_module": "@jupyter-widgets/controls",
            "_model_module_version": "1.5.0",
            "value": " 1600000/? [00:42&lt;00:00, 38059.33it/s]",
            "_view_count": null,
            "_view_module_version": "1.5.0",
            "description_tooltip": null,
            "_model_module": "@jupyter-widgets/controls",
            "layout": "IPY_MODEL_d1667ef7f9864cf5837009b85993a557"
          }
        },
        "e45f8086046f4808974ef353ad65113b": {
          "model_module": "@jupyter-widgets/controls",
          "model_name": "ProgressStyleModel",
          "state": {
            "_view_name": "StyleView",
            "_model_name": "ProgressStyleModel",
            "description_width": "initial",
            "_view_module": "@jupyter-widgets/base",
            "_model_module_version": "1.5.0",
            "_view_count": null,
            "_view_module_version": "1.2.0",
            "bar_color": null,
            "_model_module": "@jupyter-widgets/controls"
          }
        },
        "19bc4a174ddb4ef988af6eb70d3bdcfb": {
          "model_module": "@jupyter-widgets/base",
          "model_name": "LayoutModel",
          "state": {
            "_view_name": "LayoutView",
            "grid_template_rows": null,
            "right": null,
            "justify_content": null,
            "_view_module": "@jupyter-widgets/base",
            "overflow": null,
            "_model_module_version": "1.2.0",
            "_view_count": null,
            "flex_flow": null,
            "width": null,
            "min_width": null,
            "border": null,
            "align_items": null,
            "bottom": null,
            "_model_module": "@jupyter-widgets/base",
            "top": null,
            "grid_column": null,
            "overflow_y": null,
            "overflow_x": null,
            "grid_auto_flow": null,
            "grid_area": null,
            "grid_template_columns": null,
            "flex": null,
            "_model_name": "LayoutModel",
            "justify_items": null,
            "grid_row": null,
            "max_height": null,
            "align_content": null,
            "visibility": null,
            "align_self": null,
            "height": null,
            "min_height": null,
            "padding": null,
            "grid_auto_rows": null,
            "grid_gap": null,
            "max_width": null,
            "order": null,
            "_view_module_version": "1.2.0",
            "grid_template_areas": null,
            "object_position": null,
            "object_fit": null,
            "grid_auto_columns": null,
            "margin": null,
            "display": null,
            "left": null
          }
        },
        "fd4dca01456f40c4ac621b9275dab0cb": {
          "model_module": "@jupyter-widgets/controls",
          "model_name": "DescriptionStyleModel",
          "state": {
            "_view_name": "StyleView",
            "_model_name": "DescriptionStyleModel",
            "description_width": "",
            "_view_module": "@jupyter-widgets/base",
            "_model_module_version": "1.5.0",
            "_view_count": null,
            "_view_module_version": "1.2.0",
            "_model_module": "@jupyter-widgets/controls"
          }
        },
        "d1667ef7f9864cf5837009b85993a557": {
          "model_module": "@jupyter-widgets/base",
          "model_name": "LayoutModel",
          "state": {
            "_view_name": "LayoutView",
            "grid_template_rows": null,
            "right": null,
            "justify_content": null,
            "_view_module": "@jupyter-widgets/base",
            "overflow": null,
            "_model_module_version": "1.2.0",
            "_view_count": null,
            "flex_flow": null,
            "width": null,
            "min_width": null,
            "border": null,
            "align_items": null,
            "bottom": null,
            "_model_module": "@jupyter-widgets/base",
            "top": null,
            "grid_column": null,
            "overflow_y": null,
            "overflow_x": null,
            "grid_auto_flow": null,
            "grid_area": null,
            "grid_template_columns": null,
            "flex": null,
            "_model_name": "LayoutModel",
            "justify_items": null,
            "grid_row": null,
            "max_height": null,
            "align_content": null,
            "visibility": null,
            "align_self": null,
            "height": null,
            "min_height": null,
            "padding": null,
            "grid_auto_rows": null,
            "grid_gap": null,
            "max_width": null,
            "order": null,
            "_view_module_version": "1.2.0",
            "grid_template_areas": null,
            "object_position": null,
            "object_fit": null,
            "grid_auto_columns": null,
            "margin": null,
            "display": null,
            "left": null
          }
        },
        "395592c723434d91bee1e155819fe172": {
          "model_module": "@jupyter-widgets/controls",
          "model_name": "HBoxModel",
          "state": {
            "_view_name": "HBoxView",
            "_dom_classes": [],
            "_model_name": "HBoxModel",
            "_view_module": "@jupyter-widgets/controls",
            "_model_module_version": "1.5.0",
            "_view_count": null,
            "_view_module_version": "1.5.0",
            "box_style": "",
            "layout": "IPY_MODEL_10caa1c89b0a48529c72ea26d6c07d8c",
            "_model_module": "@jupyter-widgets/controls",
            "children": [
              "IPY_MODEL_2016bcc2b15c4b3599dc0a9ded78c2e8",
              "IPY_MODEL_a6bd895f841c48c29897c77c260b5a41"
            ]
          }
        },
        "10caa1c89b0a48529c72ea26d6c07d8c": {
          "model_module": "@jupyter-widgets/base",
          "model_name": "LayoutModel",
          "state": {
            "_view_name": "LayoutView",
            "grid_template_rows": null,
            "right": null,
            "justify_content": null,
            "_view_module": "@jupyter-widgets/base",
            "overflow": null,
            "_model_module_version": "1.2.0",
            "_view_count": null,
            "flex_flow": null,
            "width": null,
            "min_width": null,
            "border": null,
            "align_items": null,
            "bottom": null,
            "_model_module": "@jupyter-widgets/base",
            "top": null,
            "grid_column": null,
            "overflow_y": null,
            "overflow_x": null,
            "grid_auto_flow": null,
            "grid_area": null,
            "grid_template_columns": null,
            "flex": null,
            "_model_name": "LayoutModel",
            "justify_items": null,
            "grid_row": null,
            "max_height": null,
            "align_content": null,
            "visibility": null,
            "align_self": null,
            "height": null,
            "min_height": null,
            "padding": null,
            "grid_auto_rows": null,
            "grid_gap": null,
            "max_width": null,
            "order": null,
            "_view_module_version": "1.2.0",
            "grid_template_areas": null,
            "object_position": null,
            "object_fit": null,
            "grid_auto_columns": null,
            "margin": null,
            "display": null,
            "left": null
          }
        },
        "2016bcc2b15c4b3599dc0a9ded78c2e8": {
          "model_module": "@jupyter-widgets/controls",
          "model_name": "FloatProgressModel",
          "state": {
            "_view_name": "ProgressView",
            "style": "IPY_MODEL_cddfcaeea323405f9803cad3e35cff74",
            "_dom_classes": [],
            "description": "100%",
            "_model_name": "FloatProgressModel",
            "bar_style": "success",
            "max": 1600000,
            "_view_module": "@jupyter-widgets/controls",
            "_model_module_version": "1.5.0",
            "value": 1600000,
            "_view_count": null,
            "_view_module_version": "1.5.0",
            "orientation": "horizontal",
            "min": 0,
            "description_tooltip": null,
            "_model_module": "@jupyter-widgets/controls",
            "layout": "IPY_MODEL_f6aea6a40edc409b8c3c9da0048f1589"
          }
        },
        "a6bd895f841c48c29897c77c260b5a41": {
          "model_module": "@jupyter-widgets/controls",
          "model_name": "HTMLModel",
          "state": {
            "_view_name": "HTMLView",
            "style": "IPY_MODEL_d635890141d34f8d9f51bc97f088d733",
            "_dom_classes": [],
            "description": "",
            "_model_name": "HTMLModel",
            "placeholder": "​",
            "_view_module": "@jupyter-widgets/controls",
            "_model_module_version": "1.5.0",
            "value": " 1600000/1600000 [00:02&lt;00:00, 671018.92it/s]",
            "_view_count": null,
            "_view_module_version": "1.5.0",
            "description_tooltip": null,
            "_model_module": "@jupyter-widgets/controls",
            "layout": "IPY_MODEL_746d8f0068054390b67da4d80d5b6ebf"
          }
        },
        "cddfcaeea323405f9803cad3e35cff74": {
          "model_module": "@jupyter-widgets/controls",
          "model_name": "ProgressStyleModel",
          "state": {
            "_view_name": "StyleView",
            "_model_name": "ProgressStyleModel",
            "description_width": "initial",
            "_view_module": "@jupyter-widgets/base",
            "_model_module_version": "1.5.0",
            "_view_count": null,
            "_view_module_version": "1.2.0",
            "bar_color": null,
            "_model_module": "@jupyter-widgets/controls"
          }
        },
        "f6aea6a40edc409b8c3c9da0048f1589": {
          "model_module": "@jupyter-widgets/base",
          "model_name": "LayoutModel",
          "state": {
            "_view_name": "LayoutView",
            "grid_template_rows": null,
            "right": null,
            "justify_content": null,
            "_view_module": "@jupyter-widgets/base",
            "overflow": null,
            "_model_module_version": "1.2.0",
            "_view_count": null,
            "flex_flow": null,
            "width": null,
            "min_width": null,
            "border": null,
            "align_items": null,
            "bottom": null,
            "_model_module": "@jupyter-widgets/base",
            "top": null,
            "grid_column": null,
            "overflow_y": null,
            "overflow_x": null,
            "grid_auto_flow": null,
            "grid_area": null,
            "grid_template_columns": null,
            "flex": null,
            "_model_name": "LayoutModel",
            "justify_items": null,
            "grid_row": null,
            "max_height": null,
            "align_content": null,
            "visibility": null,
            "align_self": null,
            "height": null,
            "min_height": null,
            "padding": null,
            "grid_auto_rows": null,
            "grid_gap": null,
            "max_width": null,
            "order": null,
            "_view_module_version": "1.2.0",
            "grid_template_areas": null,
            "object_position": null,
            "object_fit": null,
            "grid_auto_columns": null,
            "margin": null,
            "display": null,
            "left": null
          }
        },
        "d635890141d34f8d9f51bc97f088d733": {
          "model_module": "@jupyter-widgets/controls",
          "model_name": "DescriptionStyleModel",
          "state": {
            "_view_name": "StyleView",
            "_model_name": "DescriptionStyleModel",
            "description_width": "",
            "_view_module": "@jupyter-widgets/base",
            "_model_module_version": "1.5.0",
            "_view_count": null,
            "_view_module_version": "1.2.0",
            "_model_module": "@jupyter-widgets/controls"
          }
        },
        "746d8f0068054390b67da4d80d5b6ebf": {
          "model_module": "@jupyter-widgets/base",
          "model_name": "LayoutModel",
          "state": {
            "_view_name": "LayoutView",
            "grid_template_rows": null,
            "right": null,
            "justify_content": null,
            "_view_module": "@jupyter-widgets/base",
            "overflow": null,
            "_model_module_version": "1.2.0",
            "_view_count": null,
            "flex_flow": null,
            "width": null,
            "min_width": null,
            "border": null,
            "align_items": null,
            "bottom": null,
            "_model_module": "@jupyter-widgets/base",
            "top": null,
            "grid_column": null,
            "overflow_y": null,
            "overflow_x": null,
            "grid_auto_flow": null,
            "grid_area": null,
            "grid_template_columns": null,
            "flex": null,
            "_model_name": "LayoutModel",
            "justify_items": null,
            "grid_row": null,
            "max_height": null,
            "align_content": null,
            "visibility": null,
            "align_self": null,
            "height": null,
            "min_height": null,
            "padding": null,
            "grid_auto_rows": null,
            "grid_gap": null,
            "max_width": null,
            "order": null,
            "_view_module_version": "1.2.0",
            "grid_template_areas": null,
            "object_position": null,
            "object_fit": null,
            "grid_auto_columns": null,
            "margin": null,
            "display": null,
            "left": null
          }
        },
        "37702488807a409794c58dd14955455c": {
          "model_module": "@jupyter-widgets/controls",
          "model_name": "HBoxModel",
          "state": {
            "_view_name": "HBoxView",
            "_dom_classes": [],
            "_model_name": "HBoxModel",
            "_view_module": "@jupyter-widgets/controls",
            "_model_module_version": "1.5.0",
            "_view_count": null,
            "_view_module_version": "1.5.0",
            "box_style": "",
            "layout": "IPY_MODEL_22a4854055fd47da8e4e122d637d291e",
            "_model_module": "@jupyter-widgets/controls",
            "children": [
              "IPY_MODEL_39ec0a07cca149aba5affec8c7eaf9ef",
              "IPY_MODEL_9a4bba4bf8be4d8fa47d34b357c16501"
            ]
          }
        },
        "22a4854055fd47da8e4e122d637d291e": {
          "model_module": "@jupyter-widgets/base",
          "model_name": "LayoutModel",
          "state": {
            "_view_name": "LayoutView",
            "grid_template_rows": null,
            "right": null,
            "justify_content": null,
            "_view_module": "@jupyter-widgets/base",
            "overflow": null,
            "_model_module_version": "1.2.0",
            "_view_count": null,
            "flex_flow": null,
            "width": null,
            "min_width": null,
            "border": null,
            "align_items": null,
            "bottom": null,
            "_model_module": "@jupyter-widgets/base",
            "top": null,
            "grid_column": null,
            "overflow_y": null,
            "overflow_x": null,
            "grid_auto_flow": null,
            "grid_area": null,
            "grid_template_columns": null,
            "flex": null,
            "_model_name": "LayoutModel",
            "justify_items": null,
            "grid_row": null,
            "max_height": null,
            "align_content": null,
            "visibility": null,
            "align_self": null,
            "height": null,
            "min_height": null,
            "padding": null,
            "grid_auto_rows": null,
            "grid_gap": null,
            "max_width": null,
            "order": null,
            "_view_module_version": "1.2.0",
            "grid_template_areas": null,
            "object_position": null,
            "object_fit": null,
            "grid_auto_columns": null,
            "margin": null,
            "display": null,
            "left": null
          }
        },
        "39ec0a07cca149aba5affec8c7eaf9ef": {
          "model_module": "@jupyter-widgets/controls",
          "model_name": "FloatProgressModel",
          "state": {
            "_view_name": "ProgressView",
            "style": "IPY_MODEL_083b019a26f54aabac7ee18c401def3e",
            "_dom_classes": [],
            "description": "100%",
            "_model_name": "FloatProgressModel",
            "bar_style": "success",
            "max": 1440000,
            "_view_module": "@jupyter-widgets/controls",
            "_model_module_version": "1.5.0",
            "value": 1440000,
            "_view_count": null,
            "_view_module_version": "1.5.0",
            "orientation": "horizontal",
            "min": 0,
            "description_tooltip": null,
            "_model_module": "@jupyter-widgets/controls",
            "layout": "IPY_MODEL_58c200d564ba48f3aaf6719e66ffc3f3"
          }
        },
        "9a4bba4bf8be4d8fa47d34b357c16501": {
          "model_module": "@jupyter-widgets/controls",
          "model_name": "HTMLModel",
          "state": {
            "_view_name": "HTMLView",
            "style": "IPY_MODEL_2c0f0a39ff894b3296e2f0fa36a47455",
            "_dom_classes": [],
            "description": "",
            "_model_name": "HTMLModel",
            "placeholder": "​",
            "_view_module": "@jupyter-widgets/controls",
            "_model_module_version": "1.5.0",
            "value": " 1440000/1440000 [00:07&lt;00:00, 196565.80it/s]",
            "_view_count": null,
            "_view_module_version": "1.5.0",
            "description_tooltip": null,
            "_model_module": "@jupyter-widgets/controls",
            "layout": "IPY_MODEL_745924ae7ecd42c2afe9f920730607c4"
          }
        },
        "083b019a26f54aabac7ee18c401def3e": {
          "model_module": "@jupyter-widgets/controls",
          "model_name": "ProgressStyleModel",
          "state": {
            "_view_name": "StyleView",
            "_model_name": "ProgressStyleModel",
            "description_width": "initial",
            "_view_module": "@jupyter-widgets/base",
            "_model_module_version": "1.5.0",
            "_view_count": null,
            "_view_module_version": "1.2.0",
            "bar_color": null,
            "_model_module": "@jupyter-widgets/controls"
          }
        },
        "58c200d564ba48f3aaf6719e66ffc3f3": {
          "model_module": "@jupyter-widgets/base",
          "model_name": "LayoutModel",
          "state": {
            "_view_name": "LayoutView",
            "grid_template_rows": null,
            "right": null,
            "justify_content": null,
            "_view_module": "@jupyter-widgets/base",
            "overflow": null,
            "_model_module_version": "1.2.0",
            "_view_count": null,
            "flex_flow": null,
            "width": null,
            "min_width": null,
            "border": null,
            "align_items": null,
            "bottom": null,
            "_model_module": "@jupyter-widgets/base",
            "top": null,
            "grid_column": null,
            "overflow_y": null,
            "overflow_x": null,
            "grid_auto_flow": null,
            "grid_area": null,
            "grid_template_columns": null,
            "flex": null,
            "_model_name": "LayoutModel",
            "justify_items": null,
            "grid_row": null,
            "max_height": null,
            "align_content": null,
            "visibility": null,
            "align_self": null,
            "height": null,
            "min_height": null,
            "padding": null,
            "grid_auto_rows": null,
            "grid_gap": null,
            "max_width": null,
            "order": null,
            "_view_module_version": "1.2.0",
            "grid_template_areas": null,
            "object_position": null,
            "object_fit": null,
            "grid_auto_columns": null,
            "margin": null,
            "display": null,
            "left": null
          }
        },
        "2c0f0a39ff894b3296e2f0fa36a47455": {
          "model_module": "@jupyter-widgets/controls",
          "model_name": "DescriptionStyleModel",
          "state": {
            "_view_name": "StyleView",
            "_model_name": "DescriptionStyleModel",
            "description_width": "",
            "_view_module": "@jupyter-widgets/base",
            "_model_module_version": "1.5.0",
            "_view_count": null,
            "_view_module_version": "1.2.0",
            "_model_module": "@jupyter-widgets/controls"
          }
        },
        "745924ae7ecd42c2afe9f920730607c4": {
          "model_module": "@jupyter-widgets/base",
          "model_name": "LayoutModel",
          "state": {
            "_view_name": "LayoutView",
            "grid_template_rows": null,
            "right": null,
            "justify_content": null,
            "_view_module": "@jupyter-widgets/base",
            "overflow": null,
            "_model_module_version": "1.2.0",
            "_view_count": null,
            "flex_flow": null,
            "width": null,
            "min_width": null,
            "border": null,
            "align_items": null,
            "bottom": null,
            "_model_module": "@jupyter-widgets/base",
            "top": null,
            "grid_column": null,
            "overflow_y": null,
            "overflow_x": null,
            "grid_auto_flow": null,
            "grid_area": null,
            "grid_template_columns": null,
            "flex": null,
            "_model_name": "LayoutModel",
            "justify_items": null,
            "grid_row": null,
            "max_height": null,
            "align_content": null,
            "visibility": null,
            "align_self": null,
            "height": null,
            "min_height": null,
            "padding": null,
            "grid_auto_rows": null,
            "grid_gap": null,
            "max_width": null,
            "order": null,
            "_view_module_version": "1.2.0",
            "grid_template_areas": null,
            "object_position": null,
            "object_fit": null,
            "grid_auto_columns": null,
            "margin": null,
            "display": null,
            "left": null
          }
        },
        "0ac2818281054617ac8430dc24e55d7a": {
          "model_module": "@jupyter-widgets/controls",
          "model_name": "HBoxModel",
          "state": {
            "_view_name": "HBoxView",
            "_dom_classes": [],
            "_model_name": "HBoxModel",
            "_view_module": "@jupyter-widgets/controls",
            "_model_module_version": "1.5.0",
            "_view_count": null,
            "_view_module_version": "1.5.0",
            "box_style": "",
            "layout": "IPY_MODEL_aa67eb18311e48a598045e811caf4f45",
            "_model_module": "@jupyter-widgets/controls",
            "children": [
              "IPY_MODEL_4c9cb36ee08a4374b36e2eb628d47aa9",
              "IPY_MODEL_e7b532e706304d8bba63ffd6b2d2374d"
            ]
          }
        },
        "aa67eb18311e48a598045e811caf4f45": {
          "model_module": "@jupyter-widgets/base",
          "model_name": "LayoutModel",
          "state": {
            "_view_name": "LayoutView",
            "grid_template_rows": null,
            "right": null,
            "justify_content": null,
            "_view_module": "@jupyter-widgets/base",
            "overflow": null,
            "_model_module_version": "1.2.0",
            "_view_count": null,
            "flex_flow": null,
            "width": null,
            "min_width": null,
            "border": null,
            "align_items": null,
            "bottom": null,
            "_model_module": "@jupyter-widgets/base",
            "top": null,
            "grid_column": null,
            "overflow_y": null,
            "overflow_x": null,
            "grid_auto_flow": null,
            "grid_area": null,
            "grid_template_columns": null,
            "flex": null,
            "_model_name": "LayoutModel",
            "justify_items": null,
            "grid_row": null,
            "max_height": null,
            "align_content": null,
            "visibility": null,
            "align_self": null,
            "height": null,
            "min_height": null,
            "padding": null,
            "grid_auto_rows": null,
            "grid_gap": null,
            "max_width": null,
            "order": null,
            "_view_module_version": "1.2.0",
            "grid_template_areas": null,
            "object_position": null,
            "object_fit": null,
            "grid_auto_columns": null,
            "margin": null,
            "display": null,
            "left": null
          }
        },
        "4c9cb36ee08a4374b36e2eb628d47aa9": {
          "model_module": "@jupyter-widgets/controls",
          "model_name": "FloatProgressModel",
          "state": {
            "_view_name": "ProgressView",
            "style": "IPY_MODEL_726ce6d6a4a744e8b96d21bf671e169a",
            "_dom_classes": [],
            "description": "",
            "_model_name": "FloatProgressModel",
            "bar_style": "success",
            "max": 1,
            "_view_module": "@jupyter-widgets/controls",
            "_model_module_version": "1.5.0",
            "value": 1,
            "_view_count": null,
            "_view_module_version": "1.5.0",
            "orientation": "horizontal",
            "min": 0,
            "description_tooltip": null,
            "_model_module": "@jupyter-widgets/controls",
            "layout": "IPY_MODEL_1d2851a6c4a04bca93e6fcb74d2b4f96"
          }
        },
        "e7b532e706304d8bba63ffd6b2d2374d": {
          "model_module": "@jupyter-widgets/controls",
          "model_name": "HTMLModel",
          "state": {
            "_view_name": "HTMLView",
            "style": "IPY_MODEL_92995ac68e77420e8088d05953bea03e",
            "_dom_classes": [],
            "description": "",
            "_model_name": "HTMLModel",
            "placeholder": "​",
            "_view_module": "@jupyter-widgets/controls",
            "_model_module_version": "1.5.0",
            "value": " 400000/? [00:12&lt;00:00, 32464.44it/s]",
            "_view_count": null,
            "_view_module_version": "1.5.0",
            "description_tooltip": null,
            "_model_module": "@jupyter-widgets/controls",
            "layout": "IPY_MODEL_07038d4620aa415a9ff282ec71aca032"
          }
        },
        "726ce6d6a4a744e8b96d21bf671e169a": {
          "model_module": "@jupyter-widgets/controls",
          "model_name": "ProgressStyleModel",
          "state": {
            "_view_name": "StyleView",
            "_model_name": "ProgressStyleModel",
            "description_width": "initial",
            "_view_module": "@jupyter-widgets/base",
            "_model_module_version": "1.5.0",
            "_view_count": null,
            "_view_module_version": "1.2.0",
            "bar_color": null,
            "_model_module": "@jupyter-widgets/controls"
          }
        },
        "1d2851a6c4a04bca93e6fcb74d2b4f96": {
          "model_module": "@jupyter-widgets/base",
          "model_name": "LayoutModel",
          "state": {
            "_view_name": "LayoutView",
            "grid_template_rows": null,
            "right": null,
            "justify_content": null,
            "_view_module": "@jupyter-widgets/base",
            "overflow": null,
            "_model_module_version": "1.2.0",
            "_view_count": null,
            "flex_flow": null,
            "width": null,
            "min_width": null,
            "border": null,
            "align_items": null,
            "bottom": null,
            "_model_module": "@jupyter-widgets/base",
            "top": null,
            "grid_column": null,
            "overflow_y": null,
            "overflow_x": null,
            "grid_auto_flow": null,
            "grid_area": null,
            "grid_template_columns": null,
            "flex": null,
            "_model_name": "LayoutModel",
            "justify_items": null,
            "grid_row": null,
            "max_height": null,
            "align_content": null,
            "visibility": null,
            "align_self": null,
            "height": null,
            "min_height": null,
            "padding": null,
            "grid_auto_rows": null,
            "grid_gap": null,
            "max_width": null,
            "order": null,
            "_view_module_version": "1.2.0",
            "grid_template_areas": null,
            "object_position": null,
            "object_fit": null,
            "grid_auto_columns": null,
            "margin": null,
            "display": null,
            "left": null
          }
        },
        "92995ac68e77420e8088d05953bea03e": {
          "model_module": "@jupyter-widgets/controls",
          "model_name": "DescriptionStyleModel",
          "state": {
            "_view_name": "StyleView",
            "_model_name": "DescriptionStyleModel",
            "description_width": "",
            "_view_module": "@jupyter-widgets/base",
            "_model_module_version": "1.5.0",
            "_view_count": null,
            "_view_module_version": "1.2.0",
            "_model_module": "@jupyter-widgets/controls"
          }
        },
        "07038d4620aa415a9ff282ec71aca032": {
          "model_module": "@jupyter-widgets/base",
          "model_name": "LayoutModel",
          "state": {
            "_view_name": "LayoutView",
            "grid_template_rows": null,
            "right": null,
            "justify_content": null,
            "_view_module": "@jupyter-widgets/base",
            "overflow": null,
            "_model_module_version": "1.2.0",
            "_view_count": null,
            "flex_flow": null,
            "width": null,
            "min_width": null,
            "border": null,
            "align_items": null,
            "bottom": null,
            "_model_module": "@jupyter-widgets/base",
            "top": null,
            "grid_column": null,
            "overflow_y": null,
            "overflow_x": null,
            "grid_auto_flow": null,
            "grid_area": null,
            "grid_template_columns": null,
            "flex": null,
            "_model_name": "LayoutModel",
            "justify_items": null,
            "grid_row": null,
            "max_height": null,
            "align_content": null,
            "visibility": null,
            "align_self": null,
            "height": null,
            "min_height": null,
            "padding": null,
            "grid_auto_rows": null,
            "grid_gap": null,
            "max_width": null,
            "order": null,
            "_view_module_version": "1.2.0",
            "grid_template_areas": null,
            "object_position": null,
            "object_fit": null,
            "grid_auto_columns": null,
            "margin": null,
            "display": null,
            "left": null
          }
        },
        "6bf8db1acf884080b326162ae846532b": {
          "model_module": "@jupyter-widgets/controls",
          "model_name": "HBoxModel",
          "state": {
            "_view_name": "HBoxView",
            "_dom_classes": [],
            "_model_name": "HBoxModel",
            "_view_module": "@jupyter-widgets/controls",
            "_model_module_version": "1.5.0",
            "_view_count": null,
            "_view_module_version": "1.5.0",
            "box_style": "",
            "layout": "IPY_MODEL_43bd6d811e3a45cd8aabe0ca2e37b478",
            "_model_module": "@jupyter-widgets/controls",
            "children": [
              "IPY_MODEL_994341be14464a71bb639bc357aced88",
              "IPY_MODEL_3aa94d55b7394104bff2ecb3ecaee3dc"
            ]
          }
        },
        "43bd6d811e3a45cd8aabe0ca2e37b478": {
          "model_module": "@jupyter-widgets/base",
          "model_name": "LayoutModel",
          "state": {
            "_view_name": "LayoutView",
            "grid_template_rows": null,
            "right": null,
            "justify_content": null,
            "_view_module": "@jupyter-widgets/base",
            "overflow": null,
            "_model_module_version": "1.2.0",
            "_view_count": null,
            "flex_flow": null,
            "width": null,
            "min_width": null,
            "border": null,
            "align_items": null,
            "bottom": null,
            "_model_module": "@jupyter-widgets/base",
            "top": null,
            "grid_column": null,
            "overflow_y": null,
            "overflow_x": null,
            "grid_auto_flow": null,
            "grid_area": null,
            "grid_template_columns": null,
            "flex": null,
            "_model_name": "LayoutModel",
            "justify_items": null,
            "grid_row": null,
            "max_height": null,
            "align_content": null,
            "visibility": null,
            "align_self": null,
            "height": null,
            "min_height": null,
            "padding": null,
            "grid_auto_rows": null,
            "grid_gap": null,
            "max_width": null,
            "order": null,
            "_view_module_version": "1.2.0",
            "grid_template_areas": null,
            "object_position": null,
            "object_fit": null,
            "grid_auto_columns": null,
            "margin": null,
            "display": null,
            "left": null
          }
        },
        "994341be14464a71bb639bc357aced88": {
          "model_module": "@jupyter-widgets/controls",
          "model_name": "FloatProgressModel",
          "state": {
            "_view_name": "ProgressView",
            "style": "IPY_MODEL_a3fd299fb68249189b86932f2ac682c8",
            "_dom_classes": [],
            "description": "100%",
            "_model_name": "FloatProgressModel",
            "bar_style": "success",
            "max": 643940,
            "_view_module": "@jupyter-widgets/controls",
            "_model_module_version": "1.5.0",
            "value": 643940,
            "_view_count": null,
            "_view_module_version": "1.5.0",
            "orientation": "horizontal",
            "min": 0,
            "description_tooltip": null,
            "_model_module": "@jupyter-widgets/controls",
            "layout": "IPY_MODEL_b79917371c10461d936649a54c62075d"
          }
        },
        "3aa94d55b7394104bff2ecb3ecaee3dc": {
          "model_module": "@jupyter-widgets/controls",
          "model_name": "HTMLModel",
          "state": {
            "_view_name": "HTMLView",
            "style": "IPY_MODEL_b946370872f54a7abf09e54f85e6b1ed",
            "_dom_classes": [],
            "description": "",
            "_model_name": "HTMLModel",
            "placeholder": "​",
            "_view_module": "@jupyter-widgets/controls",
            "_model_module_version": "1.5.0",
            "value": " 643940/643940 [00:00&lt;00:00, 842390.54it/s]",
            "_view_count": null,
            "_view_module_version": "1.5.0",
            "description_tooltip": null,
            "_model_module": "@jupyter-widgets/controls",
            "layout": "IPY_MODEL_085def867047426f857a1c971e6b47c8"
          }
        },
        "a3fd299fb68249189b86932f2ac682c8": {
          "model_module": "@jupyter-widgets/controls",
          "model_name": "ProgressStyleModel",
          "state": {
            "_view_name": "StyleView",
            "_model_name": "ProgressStyleModel",
            "description_width": "initial",
            "_view_module": "@jupyter-widgets/base",
            "_model_module_version": "1.5.0",
            "_view_count": null,
            "_view_module_version": "1.2.0",
            "bar_color": null,
            "_model_module": "@jupyter-widgets/controls"
          }
        },
        "b79917371c10461d936649a54c62075d": {
          "model_module": "@jupyter-widgets/base",
          "model_name": "LayoutModel",
          "state": {
            "_view_name": "LayoutView",
            "grid_template_rows": null,
            "right": null,
            "justify_content": null,
            "_view_module": "@jupyter-widgets/base",
            "overflow": null,
            "_model_module_version": "1.2.0",
            "_view_count": null,
            "flex_flow": null,
            "width": null,
            "min_width": null,
            "border": null,
            "align_items": null,
            "bottom": null,
            "_model_module": "@jupyter-widgets/base",
            "top": null,
            "grid_column": null,
            "overflow_y": null,
            "overflow_x": null,
            "grid_auto_flow": null,
            "grid_area": null,
            "grid_template_columns": null,
            "flex": null,
            "_model_name": "LayoutModel",
            "justify_items": null,
            "grid_row": null,
            "max_height": null,
            "align_content": null,
            "visibility": null,
            "align_self": null,
            "height": null,
            "min_height": null,
            "padding": null,
            "grid_auto_rows": null,
            "grid_gap": null,
            "max_width": null,
            "order": null,
            "_view_module_version": "1.2.0",
            "grid_template_areas": null,
            "object_position": null,
            "object_fit": null,
            "grid_auto_columns": null,
            "margin": null,
            "display": null,
            "left": null
          }
        },
        "b946370872f54a7abf09e54f85e6b1ed": {
          "model_module": "@jupyter-widgets/controls",
          "model_name": "DescriptionStyleModel",
          "state": {
            "_view_name": "StyleView",
            "_model_name": "DescriptionStyleModel",
            "description_width": "",
            "_view_module": "@jupyter-widgets/base",
            "_model_module_version": "1.5.0",
            "_view_count": null,
            "_view_module_version": "1.2.0",
            "_model_module": "@jupyter-widgets/controls"
          }
        },
        "085def867047426f857a1c971e6b47c8": {
          "model_module": "@jupyter-widgets/base",
          "model_name": "LayoutModel",
          "state": {
            "_view_name": "LayoutView",
            "grid_template_rows": null,
            "right": null,
            "justify_content": null,
            "_view_module": "@jupyter-widgets/base",
            "overflow": null,
            "_model_module_version": "1.2.0",
            "_view_count": null,
            "flex_flow": null,
            "width": null,
            "min_width": null,
            "border": null,
            "align_items": null,
            "bottom": null,
            "_model_module": "@jupyter-widgets/base",
            "top": null,
            "grid_column": null,
            "overflow_y": null,
            "overflow_x": null,
            "grid_auto_flow": null,
            "grid_area": null,
            "grid_template_columns": null,
            "flex": null,
            "_model_name": "LayoutModel",
            "justify_items": null,
            "grid_row": null,
            "max_height": null,
            "align_content": null,
            "visibility": null,
            "align_self": null,
            "height": null,
            "min_height": null,
            "padding": null,
            "grid_auto_rows": null,
            "grid_gap": null,
            "max_width": null,
            "order": null,
            "_view_module_version": "1.2.0",
            "grid_template_areas": null,
            "object_position": null,
            "object_fit": null,
            "grid_auto_columns": null,
            "margin": null,
            "display": null,
            "left": null
          }
        }
      }
    }
  },
  "cells": [
    {
      "cell_type": "markdown",
      "metadata": {
        "id": "view-in-github",
        "colab_type": "text"
      },
      "source": [
        "<a href=\"https://colab.research.google.com/github/saichandrapandraju/TF-Developer/blob/main/3.%20NLP/3.%20Embedd_LSTM_CNN_Overfit.ipynb\" target=\"_parent\"><img src=\"https://colab.research.google.com/assets/colab-badge.svg\" alt=\"Open In Colab\"/></a>"
      ]
    },
    {
      "cell_type": "code",
      "metadata": {
        "colab": {
          "base_uri": "https://localhost:8080/"
        },
        "id": "EAmgq7nng8pI",
        "outputId": "812a617b-c25e-4a1f-f312-62c7da5a81fc"
      },
      "source": [
        "!nvidia-smi"
      ],
      "execution_count": 1,
      "outputs": [
        {
          "output_type": "stream",
          "text": [
            "Sun Apr 18 08:33:18 2021       \n",
            "+-----------------------------------------------------------------------------+\n",
            "| NVIDIA-SMI 460.67       Driver Version: 460.32.03    CUDA Version: 11.2     |\n",
            "|-------------------------------+----------------------+----------------------+\n",
            "| GPU  Name        Persistence-M| Bus-Id        Disp.A | Volatile Uncorr. ECC |\n",
            "| Fan  Temp  Perf  Pwr:Usage/Cap|         Memory-Usage | GPU-Util  Compute M. |\n",
            "|                               |                      |               MIG M. |\n",
            "|===============================+======================+======================|\n",
            "|   0  Tesla T4            Off  | 00000000:00:04.0 Off |                    0 |\n",
            "| N/A   62C    P8    11W /  70W |      0MiB / 15109MiB |      0%      Default |\n",
            "|                               |                      |                  N/A |\n",
            "+-------------------------------+----------------------+----------------------+\n",
            "                                                                               \n",
            "+-----------------------------------------------------------------------------+\n",
            "| Processes:                                                                  |\n",
            "|  GPU   GI   CI        PID   Type   Process name                  GPU Memory |\n",
            "|        ID   ID                                                   Usage      |\n",
            "|=============================================================================|\n",
            "|  No running processes found                                                 |\n",
            "+-----------------------------------------------------------------------------+\n"
          ],
          "name": "stdout"
        }
      ]
    },
    {
      "cell_type": "code",
      "metadata": {
        "id": "GHTraOvquxON"
      },
      "source": [
        "import csv\n",
        "from tqdm.notebook import tqdm\n",
        "import tensorflow as tf\n",
        "tf.random.set_seed(333)\n",
        "import numpy as np\n",
        "np.random.seed(333)\n",
        "import matplotlib.pyplot as plt\n",
        "import random\n",
        "random.seed(333)"
      ],
      "execution_count": 2,
      "outputs": []
    },
    {
      "cell_type": "code",
      "metadata": {
        "colab": {
          "base_uri": "https://localhost:8080/"
        },
        "id": "IpjQly7btj08",
        "outputId": "0856fb4b-d78d-4444-f098-7b78959bd374"
      },
      "source": [
        "!wget --no-check-certificate \\\n",
        "    https://storage.googleapis.com/laurencemoroney-blog.appspot.com/training_cleaned.csv \\\n",
        "    -O /tmp/training_cleaned.csv"
      ],
      "execution_count": 3,
      "outputs": [
        {
          "output_type": "stream",
          "text": [
            "--2021-04-18 08:33:22--  https://storage.googleapis.com/laurencemoroney-blog.appspot.com/training_cleaned.csv\n",
            "Resolving storage.googleapis.com (storage.googleapis.com)... 172.253.63.128, 142.250.31.128, 172.217.7.240, ...\n",
            "Connecting to storage.googleapis.com (storage.googleapis.com)|172.253.63.128|:443... connected.\n",
            "HTTP request sent, awaiting response... 200 OK\n",
            "Length: 238942690 (228M) [application/octet-stream]\n",
            "Saving to: ‘/tmp/training_cleaned.csv’\n",
            "\n",
            "/tmp/training_clean 100%[===================>] 227.87M   171MB/s    in 1.3s    \n",
            "\n",
            "2021-04-18 08:33:24 (171 MB/s) - ‘/tmp/training_cleaned.csv’ saved [238942690/238942690]\n",
            "\n"
          ],
          "name": "stdout"
        }
      ]
    },
    {
      "cell_type": "code",
      "metadata": {
        "colab": {
          "base_uri": "https://localhost:8080/",
          "height": 66,
          "referenced_widgets": [
            "25914989136f47e9a16f3c5d381e3a14",
            "872bcf88647b410c882b5b692ffa662e",
            "000e154d9875408d9b26927bc1a716d0",
            "889ff9820fad4a28b619899689598bd3",
            "e45f8086046f4808974ef353ad65113b",
            "19bc4a174ddb4ef988af6eb70d3bdcfb",
            "fd4dca01456f40c4ac621b9275dab0cb",
            "d1667ef7f9864cf5837009b85993a557"
          ]
        },
        "id": "nJD7MGietTmG",
        "outputId": "cfd5a379-4e44-494c-bca1-694a369373fb"
      },
      "source": [
        "data = []\n",
        "with open('/tmp/training_cleaned.csv') as f:\n",
        "  csv_reader = csv.reader(f, delimiter=',')\n",
        "  for row in tqdm(csv_reader):\n",
        "    data.append(row)"
      ],
      "execution_count": 4,
      "outputs": [
        {
          "output_type": "display_data",
          "data": {
            "application/vnd.jupyter.widget-view+json": {
              "model_id": "25914989136f47e9a16f3c5d381e3a14",
              "version_minor": 0,
              "version_major": 2
            },
            "text/plain": [
              "HBox(children=(FloatProgress(value=1.0, bar_style='info', max=1.0), HTML(value='')))"
            ]
          },
          "metadata": {
            "tags": []
          }
        },
        {
          "output_type": "stream",
          "text": [
            "\n"
          ],
          "name": "stdout"
        }
      ]
    },
    {
      "cell_type": "code",
      "metadata": {
        "id": "ekZ-l3ULuuGe"
      },
      "source": [
        "random.shuffle(data)"
      ],
      "execution_count": 5,
      "outputs": []
    },
    {
      "cell_type": "code",
      "metadata": {
        "colab": {
          "base_uri": "https://localhost:8080/",
          "height": 66,
          "referenced_widgets": [
            "395592c723434d91bee1e155819fe172",
            "10caa1c89b0a48529c72ea26d6c07d8c",
            "2016bcc2b15c4b3599dc0a9ded78c2e8",
            "a6bd895f841c48c29897c77c260b5a41",
            "cddfcaeea323405f9803cad3e35cff74",
            "f6aea6a40edc409b8c3c9da0048f1589",
            "d635890141d34f8d9f51bc97f088d733",
            "746d8f0068054390b67da4d80d5b6ebf"
          ]
        },
        "id": "1m2VbFt_u8Xl",
        "outputId": "f4dafb55-4731-4cb6-fd91-bbf58e4752ab"
      },
      "source": [
        "sentences, labels = [], []\n",
        "for sample in tqdm(data):\n",
        "  sentences.append(sample[5])\n",
        "  lbl = int(sample[0])\n",
        "  if lbl == 0: labels.append(0)    # unique labels in corpus are 0 and 4\n",
        "  else : labels.append(1)\n",
        "  "
      ],
      "execution_count": 6,
      "outputs": [
        {
          "output_type": "display_data",
          "data": {
            "application/vnd.jupyter.widget-view+json": {
              "model_id": "395592c723434d91bee1e155819fe172",
              "version_minor": 0,
              "version_major": 2
            },
            "text/plain": [
              "HBox(children=(FloatProgress(value=0.0, max=1600000.0), HTML(value='')))"
            ]
          },
          "metadata": {
            "tags": []
          }
        },
        {
          "output_type": "stream",
          "text": [
            "\n"
          ],
          "name": "stdout"
        }
      ]
    },
    {
      "cell_type": "code",
      "metadata": {
        "id": "389OltPwtuhX"
      },
      "source": [
        "## test pipeline on small data\n",
        "size = int(len(sentences) * 1)\n",
        "sentences = sentences[:size]\n",
        "labels = labels[:size]"
      ],
      "execution_count": 7,
      "outputs": []
    },
    {
      "cell_type": "code",
      "metadata": {
        "colab": {
          "base_uri": "https://localhost:8080/"
        },
        "id": "ycSzvtavTEbi",
        "outputId": "e81be6fa-454b-4401-e2b2-ac468eddd64d"
      },
      "source": [
        "size"
      ],
      "execution_count": 8,
      "outputs": [
        {
          "output_type": "execute_result",
          "data": {
            "text/plain": [
              "1600000"
            ]
          },
          "metadata": {
            "tags": []
          },
          "execution_count": 8
        }
      ]
    },
    {
      "cell_type": "code",
      "metadata": {
        "colab": {
          "base_uri": "https://localhost:8080/"
        },
        "id": "0iXrPih-FjB-",
        "outputId": "fea85bb4-aad8-40bb-f31f-fb8d4987df50"
      },
      "source": [
        "labels.count(0)"
      ],
      "execution_count": 9,
      "outputs": [
        {
          "output_type": "execute_result",
          "data": {
            "text/plain": [
              "800000"
            ]
          },
          "metadata": {
            "tags": []
          },
          "execution_count": 9
        }
      ]
    },
    {
      "cell_type": "code",
      "metadata": {
        "colab": {
          "base_uri": "https://localhost:8080/"
        },
        "id": "gOeXWhh7FmNu",
        "outputId": "f30293ce-60b7-4615-c900-765cb39d4418"
      },
      "source": [
        "labels.count(1)"
      ],
      "execution_count": 10,
      "outputs": [
        {
          "output_type": "execute_result",
          "data": {
            "text/plain": [
              "800000"
            ]
          },
          "metadata": {
            "tags": []
          },
          "execution_count": 10
        }
      ]
    },
    {
      "cell_type": "code",
      "metadata": {
        "id": "8SDaD5rTiEyA"
      },
      "source": [
        "train_size = int(len(sentences) * 0.9)\n",
        "train_sentences = sentences[:train_size]\n",
        "train_labels = labels[:train_size]\n",
        "\n",
        "val_sentences = sentences[train_size:]\n",
        "val_labels = labels[train_size:]"
      ],
      "execution_count": 11,
      "outputs": []
    },
    {
      "cell_type": "code",
      "metadata": {
        "id": "FXFIgZEFv7v3"
      },
      "source": [
        "tok = tf.keras.preprocessing.text.Tokenizer(oov_token='<OOV>')"
      ],
      "execution_count": 12,
      "outputs": []
    },
    {
      "cell_type": "code",
      "metadata": {
        "id": "DfvHJz9twTrP"
      },
      "source": [
        "tok.fit_on_texts(train_sentences)"
      ],
      "execution_count": 13,
      "outputs": []
    },
    {
      "cell_type": "code",
      "metadata": {
        "id": "sGOVHGobbYg7"
      },
      "source": [
        "word_index = tok.word_index"
      ],
      "execution_count": 14,
      "outputs": []
    },
    {
      "cell_type": "code",
      "metadata": {
        "colab": {
          "base_uri": "https://localhost:8080/"
        },
        "id": "Ycfu02X8xHML",
        "outputId": "b8dfe976-1fbb-495d-82b2-d6984b05b9f0"
      },
      "source": [
        "len(word_index)"
      ],
      "execution_count": 15,
      "outputs": [
        {
          "output_type": "execute_result",
          "data": {
            "text/plain": [
              "643940"
            ]
          },
          "metadata": {
            "tags": []
          },
          "execution_count": 15
        }
      ]
    },
    {
      "cell_type": "code",
      "metadata": {
        "id": "lnx6P4UDxNcN"
      },
      "source": [
        "vocab_size = len(word_index)"
      ],
      "execution_count": 16,
      "outputs": []
    },
    {
      "cell_type": "code",
      "metadata": {
        "colab": {
          "base_uri": "https://localhost:8080/",
          "height": 66,
          "referenced_widgets": [
            "37702488807a409794c58dd14955455c",
            "22a4854055fd47da8e4e122d637d291e",
            "39ec0a07cca149aba5affec8c7eaf9ef",
            "9a4bba4bf8be4d8fa47d34b357c16501",
            "083b019a26f54aabac7ee18c401def3e",
            "58c200d564ba48f3aaf6719e66ffc3f3",
            "2c0f0a39ff894b3296e2f0fa36a47455",
            "745924ae7ecd42c2afe9f920730607c4"
          ]
        },
        "id": "gw3RRreqxTlS",
        "outputId": "080351ee-5785-4e9a-b521-583970f947cf"
      },
      "source": [
        "train_sequences = tok.texts_to_sequences(train_sentences)\n",
        "max_len = []\n",
        "for i in tqdm(train_sequences):\n",
        "  max_len.append(len(i))"
      ],
      "execution_count": 17,
      "outputs": [
        {
          "output_type": "display_data",
          "data": {
            "application/vnd.jupyter.widget-view+json": {
              "model_id": "37702488807a409794c58dd14955455c",
              "version_minor": 0,
              "version_major": 2
            },
            "text/plain": [
              "HBox(children=(FloatProgress(value=0.0, max=1440000.0), HTML(value='')))"
            ]
          },
          "metadata": {
            "tags": []
          }
        },
        {
          "output_type": "stream",
          "text": [
            "\n"
          ],
          "name": "stdout"
        }
      ]
    },
    {
      "cell_type": "code",
      "metadata": {
        "colab": {
          "base_uri": "https://localhost:8080/"
        },
        "id": "ew1CoWLix3Kx",
        "outputId": "2af0037b-6ebc-45fb-dd20-573fc417fea6"
      },
      "source": [
        "max(max_len)"
      ],
      "execution_count": 18,
      "outputs": [
        {
          "output_type": "execute_result",
          "data": {
            "text/plain": [
              "118"
            ]
          },
          "metadata": {
            "tags": []
          },
          "execution_count": 18
        }
      ]
    },
    {
      "cell_type": "code",
      "metadata": {
        "id": "IungBOqldCaz"
      },
      "source": [
        "inp_length = 64"
      ],
      "execution_count": 19,
      "outputs": []
    },
    {
      "cell_type": "code",
      "metadata": {
        "id": "y377r3blx6mc"
      },
      "source": [
        "train_inp = tf.keras.preprocessing.sequence.pad_sequences(train_sequences, maxlen=inp_length, padding='post', truncating='post')"
      ],
      "execution_count": 20,
      "outputs": []
    },
    {
      "cell_type": "code",
      "metadata": {
        "id": "O-P4ckiCfUML"
      },
      "source": [
        "train_labels = np.array(train_labels)"
      ],
      "execution_count": 21,
      "outputs": []
    },
    {
      "cell_type": "code",
      "metadata": {
        "id": "ltuIJA0IyZDN"
      },
      "source": [
        "val_sequences = tok.texts_to_sequences(val_sentences)\n",
        "val_inp = tf.keras.preprocessing.sequence.pad_sequences(val_sequences, maxlen=inp_length, padding='post', truncating='post')"
      ],
      "execution_count": 22,
      "outputs": []
    },
    {
      "cell_type": "code",
      "metadata": {
        "id": "ujsK9ewjfZcA"
      },
      "source": [
        "val_labels = np.array(val_labels)"
      ],
      "execution_count": 23,
      "outputs": []
    },
    {
      "cell_type": "code",
      "metadata": {
        "colab": {
          "base_uri": "https://localhost:8080/"
        },
        "id": "GxsOB93Oyqv5",
        "outputId": "6b01f99c-1a95-4d2b-a986-dd80bb3e13d8"
      },
      "source": [
        "train_inp.shape, train_labels.shape, val_inp.shape, val_labels.shape"
      ],
      "execution_count": 24,
      "outputs": [
        {
          "output_type": "execute_result",
          "data": {
            "text/plain": [
              "((1440000, 64), (1440000,), (160000, 64), (160000,))"
            ]
          },
          "metadata": {
            "tags": []
          },
          "execution_count": 24
        }
      ]
    },
    {
      "cell_type": "code",
      "metadata": {
        "colab": {
          "base_uri": "https://localhost:8080/"
        },
        "id": "p4Xdv0tUy63p",
        "outputId": "3211b62e-0e6e-485e-cb49-523150aa399f"
      },
      "source": [
        "# Note this is the 100 dimension version of GloVe from Stanford\n",
        "# I unzipped and hosted it on my site to make this notebook easier\n",
        "!wget --no-check-certificate \\\n",
        "    https://storage.googleapis.com/test-for-future/glove.6B.100d.txt \\\n",
        "    -O /tmp/glove.6B.100d.txt"
      ],
      "execution_count": 25,
      "outputs": [
        {
          "output_type": "stream",
          "text": [
            "--2021-04-18 08:34:30--  https://storage.googleapis.com/test-for-future/glove.6B.100d.txt\n",
            "Resolving storage.googleapis.com (storage.googleapis.com)... 172.217.13.240, 172.217.15.80, 172.217.164.176, ...\n",
            "Connecting to storage.googleapis.com (storage.googleapis.com)|172.217.13.240|:443... connected.\n",
            "HTTP request sent, awaiting response... 200 OK\n",
            "Length: 347116733 (331M) [text/plain]\n",
            "Saving to: ‘/tmp/glove.6B.100d.txt’\n",
            "\n",
            "/tmp/glove.6B.100d. 100%[===================>] 331.04M   252MB/s    in 1.3s    \n",
            "\n",
            "2021-04-18 08:34:32 (252 MB/s) - ‘/tmp/glove.6B.100d.txt’ saved [347116733/347116733]\n",
            "\n"
          ],
          "name": "stdout"
        }
      ]
    },
    {
      "cell_type": "code",
      "metadata": {
        "colab": {
          "base_uri": "https://localhost:8080/",
          "height": 66,
          "referenced_widgets": [
            "0ac2818281054617ac8430dc24e55d7a",
            "aa67eb18311e48a598045e811caf4f45",
            "4c9cb36ee08a4374b36e2eb628d47aa9",
            "e7b532e706304d8bba63ffd6b2d2374d",
            "726ce6d6a4a744e8b96d21bf671e169a",
            "1d2851a6c4a04bca93e6fcb74d2b4f96",
            "92995ac68e77420e8088d05953bea03e",
            "07038d4620aa415a9ff282ec71aca032"
          ]
        },
        "id": "UTqch2JtVAHB",
        "outputId": "1b1e0823-ad59-4daf-bfa9-416df87fd2ea"
      },
      "source": [
        "# read GloVe file and form word to embed dict\n",
        "word_embeddings_glove = {}\n",
        "with open('/tmp/glove.6B.100d.txt') as f:\n",
        "  for line in tqdm(f):\n",
        "    line_list = line.split()\n",
        "    word = line_list[0]\n",
        "    embeddings = np.asarray(line_list[1:] , dtype='float32')\n",
        "    word_embeddings_glove[word] = embeddings"
      ],
      "execution_count": 26,
      "outputs": [
        {
          "output_type": "display_data",
          "data": {
            "application/vnd.jupyter.widget-view+json": {
              "model_id": "0ac2818281054617ac8430dc24e55d7a",
              "version_minor": 0,
              "version_major": 2
            },
            "text/plain": [
              "HBox(children=(FloatProgress(value=1.0, bar_style='info', max=1.0), HTML(value='')))"
            ]
          },
          "metadata": {
            "tags": []
          }
        },
        {
          "output_type": "stream",
          "text": [
            "\n"
          ],
          "name": "stdout"
        }
      ]
    },
    {
      "cell_type": "code",
      "metadata": {
        "colab": {
          "base_uri": "https://localhost:8080/"
        },
        "id": "hDJGhr7nXZRd",
        "outputId": "1b524dcd-505d-4e3a-fe23-ea7ce3c864d2"
      },
      "source": [
        "word_embeddings_glove['the']"
      ],
      "execution_count": 27,
      "outputs": [
        {
          "output_type": "execute_result",
          "data": {
            "text/plain": [
              "array([-0.038194, -0.24487 ,  0.72812 , -0.39961 ,  0.083172,  0.043953,\n",
              "       -0.39141 ,  0.3344  , -0.57545 ,  0.087459,  0.28787 , -0.06731 ,\n",
              "        0.30906 , -0.26384 , -0.13231 , -0.20757 ,  0.33395 , -0.33848 ,\n",
              "       -0.31743 , -0.48336 ,  0.1464  , -0.37304 ,  0.34577 ,  0.052041,\n",
              "        0.44946 , -0.46971 ,  0.02628 , -0.54155 , -0.15518 , -0.14107 ,\n",
              "       -0.039722,  0.28277 ,  0.14393 ,  0.23464 , -0.31021 ,  0.086173,\n",
              "        0.20397 ,  0.52624 ,  0.17164 , -0.082378, -0.71787 , -0.41531 ,\n",
              "        0.20335 , -0.12763 ,  0.41367 ,  0.55187 ,  0.57908 , -0.33477 ,\n",
              "       -0.36559 , -0.54857 , -0.062892,  0.26584 ,  0.30205 ,  0.99775 ,\n",
              "       -0.80481 , -3.0243  ,  0.01254 , -0.36942 ,  2.2167  ,  0.72201 ,\n",
              "       -0.24978 ,  0.92136 ,  0.034514,  0.46745 ,  1.1079  , -0.19358 ,\n",
              "       -0.074575,  0.23353 , -0.052062, -0.22044 ,  0.057162, -0.15806 ,\n",
              "       -0.30798 , -0.41625 ,  0.37972 ,  0.15006 , -0.53212 , -0.2055  ,\n",
              "       -1.2526  ,  0.071624,  0.70565 ,  0.49744 , -0.42063 ,  0.26148 ,\n",
              "       -1.538   , -0.30223 , -0.073438, -0.28312 ,  0.37104 , -0.25217 ,\n",
              "        0.016215, -0.017099, -0.38984 ,  0.87424 , -0.72569 , -0.51058 ,\n",
              "       -0.52028 , -0.1459  ,  0.8278  ,  0.27062 ], dtype=float32)"
            ]
          },
          "metadata": {
            "tags": []
          },
          "execution_count": 27
        }
      ]
    },
    {
      "cell_type": "code",
      "metadata": {
        "colab": {
          "base_uri": "https://localhost:8080/",
          "height": 66,
          "referenced_widgets": [
            "6bf8db1acf884080b326162ae846532b",
            "43bd6d811e3a45cd8aabe0ca2e37b478",
            "994341be14464a71bb639bc357aced88",
            "3aa94d55b7394104bff2ecb3ecaee3dc",
            "a3fd299fb68249189b86932f2ac682c8",
            "b79917371c10461d936649a54c62075d",
            "b946370872f54a7abf09e54f85e6b1ed",
            "085def867047426f857a1c971e6b47c8"
          ]
        },
        "id": "boNdfz-hZAux",
        "outputId": "d1be3e02-0315-474b-e974-87af997ecfd5"
      },
      "source": [
        "## form embedding matrix for our word corpus\n",
        "## word_index will have keys starting from 1 and don't have zeros. while creating emb_matrix, give +1 so that it won't give index error\n",
        "# eg. word_index have 1 to 1000, if we create np.zeros with 1000 as 1st dimension, and it expects inputs from 0 to 999 and as we reach 1000th in our word_index,\n",
        "## it'll throw error. so if we give 1000+1 as 1st dimension, though we won't use 0, it'll not throw any error\n",
        "\n",
        "emb_dimension = 100   ## because glove vectors are 100 dimensional\n",
        "embedding_matrix = np.zeros((vocab_size+1, emb_dimension))\n",
        "for word, i in tqdm(word_index.items()):\n",
        "  emb_vector = word_embeddings_glove.get(word)\n",
        "  if emb_vector is not None:\n",
        "    embedding_matrix[i] = emb_vector"
      ],
      "execution_count": 28,
      "outputs": [
        {
          "output_type": "display_data",
          "data": {
            "application/vnd.jupyter.widget-view+json": {
              "model_id": "6bf8db1acf884080b326162ae846532b",
              "version_minor": 0,
              "version_major": 2
            },
            "text/plain": [
              "HBox(children=(FloatProgress(value=0.0, max=643940.0), HTML(value='')))"
            ]
          },
          "metadata": {
            "tags": []
          }
        },
        {
          "output_type": "stream",
          "text": [
            "\n"
          ],
          "name": "stdout"
        }
      ]
    },
    {
      "cell_type": "code",
      "metadata": {
        "colab": {
          "base_uri": "https://localhost:8080/"
        },
        "id": "Z52EErd8cFtB",
        "outputId": "54748222-3884-4bf2-d659-21c48438d90e"
      },
      "source": [
        "print(embedding_matrix.shape)"
      ],
      "execution_count": 29,
      "outputs": [
        {
          "output_type": "stream",
          "text": [
            "(643941, 100)\n"
          ],
          "name": "stdout"
        }
      ]
    },
    {
      "cell_type": "code",
      "metadata": {
        "id": "rcGOIjD0gXX4"
      },
      "source": [
        "def plot_graphs(history, string):\n",
        "  plt.plot(history.history[string])\n",
        "  plt.plot(history.history['val_'+string])\n",
        "  plt.xlabel(\"Epochs\")\n",
        "  plt.ylabel(string)\n",
        "  plt.legend(['train_'+string, 'val_'+string])\n",
        "  plt.show()"
      ],
      "execution_count": 30,
      "outputs": []
    },
    {
      "cell_type": "markdown",
      "metadata": {
        "id": "CwjYJii9UWzs"
      },
      "source": [
        "model 1"
      ]
    },
    {
      "cell_type": "code",
      "metadata": {
        "colab": {
          "base_uri": "https://localhost:8080/"
        },
        "id": "Bb3-La8NclLr",
        "outputId": "5c93658e-efcc-4e88-bc7a-f91ebdca7e38"
      },
      "source": [
        "# create a model with non-trainable embedding layer\n",
        "tf.keras.backend.clear_session()\n",
        "model = tf.keras.Sequential([\n",
        "                             tf.keras.layers.Embedding(vocab_size+1, emb_dimension, input_length=inp_length, weights=[embedding_matrix], trainable=False),\n",
        "                             tf.keras.layers.Dense(32, activation='relu'),\n",
        "                             tf.keras.layers.Dense(1, activation='sigmoid')\n",
        "])\n",
        "\n",
        "model.compile(loss = 'binary_crossentropy', optimizer = 'adam', metrics = ['accuracy'])\n",
        "model.summary()"
      ],
      "execution_count": null,
      "outputs": [
        {
          "output_type": "stream",
          "text": [
            "Model: \"sequential\"\n",
            "_________________________________________________________________\n",
            "Layer (type)                 Output Shape              Param #   \n",
            "=================================================================\n",
            "embedding (Embedding)        (None, 64, 100)           12816000  \n",
            "_________________________________________________________________\n",
            "dense (Dense)                (None, 64, 32)            3232      \n",
            "_________________________________________________________________\n",
            "dense_1 (Dense)              (None, 64, 1)             33        \n",
            "=================================================================\n",
            "Total params: 12,819,265\n",
            "Trainable params: 3,265\n",
            "Non-trainable params: 12,816,000\n",
            "_________________________________________________________________\n"
          ],
          "name": "stdout"
        }
      ]
    },
    {
      "cell_type": "code",
      "metadata": {
        "colab": {
          "base_uri": "https://localhost:8080/"
        },
        "id": "a44K1e8hexJ4",
        "outputId": "1082f7ed-6844-4a5f-97f3-bdf77295e15b"
      },
      "source": [
        "history = model.fit(train_inp, train_labels, batch_size=128, epochs=20, validation_data=(val_inp, val_labels), validation_batch_size=128, verbose=1)"
      ],
      "execution_count": null,
      "outputs": [
        {
          "output_type": "stream",
          "text": [
            "Epoch 1/20\n",
            "1125/1125 [==============================] - 4s 3ms/step - loss: 0.6912 - accuracy: 0.5132 - val_loss: 0.6893 - val_accuracy: 0.5164\n",
            "Epoch 2/20\n",
            "1125/1125 [==============================] - 3s 3ms/step - loss: 0.6891 - accuracy: 0.5188 - val_loss: 0.6888 - val_accuracy: 0.5167\n",
            "Epoch 3/20\n",
            "1125/1125 [==============================] - 3s 3ms/step - loss: 0.6888 - accuracy: 0.5179 - val_loss: 0.6886 - val_accuracy: 0.5171\n",
            "Epoch 4/20\n",
            "1125/1125 [==============================] - 3s 3ms/step - loss: 0.6887 - accuracy: 0.5187 - val_loss: 0.6883 - val_accuracy: 0.5174\n",
            "Epoch 5/20\n",
            "1125/1125 [==============================] - 3s 3ms/step - loss: 0.6885 - accuracy: 0.5184 - val_loss: 0.6882 - val_accuracy: 0.5176\n",
            "Epoch 6/20\n",
            "1125/1125 [==============================] - 3s 3ms/step - loss: 0.6883 - accuracy: 0.5179 - val_loss: 0.6884 - val_accuracy: 0.5173\n",
            "Epoch 7/20\n",
            "1125/1125 [==============================] - 3s 3ms/step - loss: 0.6883 - accuracy: 0.5174 - val_loss: 0.6882 - val_accuracy: 0.5178\n",
            "Epoch 8/20\n",
            "1125/1125 [==============================] - 3s 3ms/step - loss: 0.6882 - accuracy: 0.5184 - val_loss: 0.6881 - val_accuracy: 0.5179\n",
            "Epoch 9/20\n",
            "1125/1125 [==============================] - 3s 3ms/step - loss: 0.6882 - accuracy: 0.5185 - val_loss: 0.6883 - val_accuracy: 0.5176\n",
            "Epoch 10/20\n",
            "1125/1125 [==============================] - 3s 3ms/step - loss: 0.6882 - accuracy: 0.5188 - val_loss: 0.6881 - val_accuracy: 0.5181\n",
            "Epoch 11/20\n",
            "1125/1125 [==============================] - 3s 3ms/step - loss: 0.6881 - accuracy: 0.5176 - val_loss: 0.6881 - val_accuracy: 0.5178\n",
            "Epoch 12/20\n",
            "1125/1125 [==============================] - 3s 3ms/step - loss: 0.6881 - accuracy: 0.5195 - val_loss: 0.6881 - val_accuracy: 0.5180\n",
            "Epoch 13/20\n",
            "1125/1125 [==============================] - 3s 3ms/step - loss: 0.6880 - accuracy: 0.5167 - val_loss: 0.6881 - val_accuracy: 0.5178\n",
            "Epoch 14/20\n",
            "1125/1125 [==============================] - 3s 3ms/step - loss: 0.6880 - accuracy: 0.5185 - val_loss: 0.6881 - val_accuracy: 0.5178\n",
            "Epoch 15/20\n",
            "1125/1125 [==============================] - 3s 3ms/step - loss: 0.6880 - accuracy: 0.5201 - val_loss: 0.6881 - val_accuracy: 0.5178\n",
            "Epoch 16/20\n",
            "1125/1125 [==============================] - 3s 3ms/step - loss: 0.6879 - accuracy: 0.5174 - val_loss: 0.6880 - val_accuracy: 0.5180\n",
            "Epoch 17/20\n",
            "1125/1125 [==============================] - 3s 3ms/step - loss: 0.6880 - accuracy: 0.5204 - val_loss: 0.6881 - val_accuracy: 0.5180\n",
            "Epoch 18/20\n",
            "1125/1125 [==============================] - 3s 3ms/step - loss: 0.6880 - accuracy: 0.5177 - val_loss: 0.6883 - val_accuracy: 0.5175\n",
            "Epoch 19/20\n",
            "1125/1125 [==============================] - 3s 3ms/step - loss: 0.6880 - accuracy: 0.5191 - val_loss: 0.6879 - val_accuracy: 0.5182\n",
            "Epoch 20/20\n",
            "1125/1125 [==============================] - 3s 3ms/step - loss: 0.6880 - accuracy: 0.5165 - val_loss: 0.6882 - val_accuracy: 0.5178\n"
          ],
          "name": "stdout"
        }
      ]
    },
    {
      "cell_type": "code",
      "metadata": {
        "colab": {
          "base_uri": "https://localhost:8080/",
          "height": 279
        },
        "id": "yhonb_jQe1Qa",
        "outputId": "20327938-c0c8-46e2-8dbd-ec83df2544f8"
      },
      "source": [
        "plot_graphs(history, \"accuracy\")"
      ],
      "execution_count": null,
      "outputs": [
        {
          "output_type": "display_data",
          "data": {
            "image/png": "[encoded data removed]",
            "text/plain": [
              "<Figure size 432x288 with 1 Axes>"
            ]
          },
          "metadata": {
            "tags": [],
            "needs_background": "light"
          }
        }
      ]
    },
    {
      "cell_type": "code",
      "metadata": {
        "colab": {
          "base_uri": "https://localhost:8080/",
          "height": 279
        },
        "id": "5X1igi2kgb8_",
        "outputId": "3e1d8417-6739-4666-cefd-222056650204"
      },
      "source": [
        "plot_graphs(history, \"loss\")"
      ],
      "execution_count": null,
      "outputs": [
        {
          "output_type": "display_data",
          "data": {
            "image/png": "[encoded data removed]",
            "text/plain": [
              "<Figure size 432x288 with 1 Axes>"
            ]
          },
          "metadata": {
            "tags": [],
            "needs_background": "light"
          }
        }
      ]
    },
    {
      "cell_type": "markdown",
      "metadata": {
        "id": "Om0WXnwzJWpp"
      },
      "source": [
        "**Model is not learning anything. So adding a bit more complexity.**"
      ]
    },
    {
      "cell_type": "markdown",
      "metadata": {
        "id": "6SA1wdwuJjpq"
      },
      "source": [
        "model 2"
      ]
    },
    {
      "cell_type": "code",
      "metadata": {
        "colab": {
          "base_uri": "https://localhost:8080/"
        },
        "id": "NJaplY98JjPx",
        "outputId": "99930f8b-9568-4956-9a88-e0382ca8424a"
      },
      "source": [
        "tf.keras.backend.clear_session()\n",
        "model2 = tf.keras.Sequential([\n",
        "    tf.keras.layers.Embedding(vocab_size+1, emb_dimension, input_length=inp_length, weights=[embedding_matrix], trainable=False),\n",
        "    tf.keras.layers.Bidirectional(tf.keras.layers.LSTM(128, return_sequences=True)),\n",
        "    tf.keras.layers.Bidirectional(tf.keras.layers.LSTM(64, return_sequences=True)),\n",
        "    tf.keras.layers.Bidirectional(tf.keras.layers.LSTM(32, return_sequences=True)),\n",
        "    tf.keras.layers.LSTM(32, return_sequences=True),\n",
        "    tf.keras.layers.Dense(1, activation='sigmoid')\n",
        "])\n",
        "model2.compile(loss = 'binary_crossentropy', optimizer = 'adam', metrics = ['accuracy'])\n",
        "model2.summary()"
      ],
      "execution_count": null,
      "outputs": [
        {
          "output_type": "stream",
          "text": [
            "Model: \"sequential\"\n",
            "_________________________________________________________________\n",
            "Layer (type)                 Output Shape              Param #   \n",
            "=================================================================\n",
            "embedding (Embedding)        (None, 64, 100)           12816000  \n",
            "_________________________________________________________________\n",
            "bidirectional (Bidirectional (None, 64, 256)           234496    \n",
            "_________________________________________________________________\n",
            "bidirectional_1 (Bidirection (None, 64, 128)           164352    \n",
            "_________________________________________________________________\n",
            "bidirectional_2 (Bidirection (None, 64, 64)            41216     \n",
            "_________________________________________________________________\n",
            "lstm_3 (LSTM)                (None, 64, 32)            12416     \n",
            "_________________________________________________________________\n",
            "dense (Dense)                (None, 64, 1)             33        \n",
            "=================================================================\n",
            "Total params: 13,268,513\n",
            "Trainable params: 452,513\n",
            "Non-trainable params: 12,816,000\n",
            "_________________________________________________________________\n"
          ],
          "name": "stdout"
        }
      ]
    },
    {
      "cell_type": "code",
      "metadata": {
        "colab": {
          "base_uri": "https://localhost:8080/"
        },
        "id": "06c3529wJ19N",
        "outputId": "68d34381-2aac-4af8-c234-149744a941bc"
      },
      "source": [
        "history2 = model2.fit(train_inp, train_labels, batch_size=256, epochs=20, validation_data=(val_inp, val_labels), validation_batch_size=256)"
      ],
      "execution_count": null,
      "outputs": [
        {
          "output_type": "stream",
          "text": [
            "Epoch 1/20\n",
            "563/563 [==============================] - 33s 45ms/step - loss: 0.5890 - accuracy: 0.6823 - val_loss: 0.5119 - val_accuracy: 0.7485\n",
            "Epoch 2/20\n",
            "563/563 [==============================] - 22s 39ms/step - loss: 0.4993 - accuracy: 0.7572 - val_loss: 0.4683 - val_accuracy: 0.7755\n",
            "Epoch 3/20\n",
            "563/563 [==============================] - 22s 39ms/step - loss: 0.4705 - accuracy: 0.7761 - val_loss: 0.4568 - val_accuracy: 0.7807\n",
            "Epoch 4/20\n",
            "563/563 [==============================] - 22s 39ms/step - loss: 0.4496 - accuracy: 0.7875 - val_loss: 0.4502 - val_accuracy: 0.7846\n",
            "Epoch 5/20\n",
            "563/563 [==============================] - 22s 40ms/step - loss: 0.4284 - accuracy: 0.8006 - val_loss: 0.4443 - val_accuracy: 0.7872\n",
            "Epoch 6/20\n",
            "563/563 [==============================] - 23s 40ms/step - loss: 0.4116 - accuracy: 0.8115 - val_loss: 0.4344 - val_accuracy: 0.7956\n",
            "Epoch 7/20\n",
            "563/563 [==============================] - 22s 40ms/step - loss: 0.3941 - accuracy: 0.8205 - val_loss: 0.4391 - val_accuracy: 0.7974\n",
            "Epoch 8/20\n",
            "563/563 [==============================] - 23s 40ms/step - loss: 0.3754 - accuracy: 0.8311 - val_loss: 0.4409 - val_accuracy: 0.7939\n",
            "Epoch 9/20\n",
            "563/563 [==============================] - 22s 40ms/step - loss: 0.3563 - accuracy: 0.8413 - val_loss: 0.4548 - val_accuracy: 0.7974\n",
            "Epoch 10/20\n",
            "563/563 [==============================] - 22s 40ms/step - loss: 0.3307 - accuracy: 0.8551 - val_loss: 0.4630 - val_accuracy: 0.7933\n",
            "Epoch 11/20\n",
            "563/563 [==============================] - 23s 40ms/step - loss: 0.3145 - accuracy: 0.8640 - val_loss: 0.4594 - val_accuracy: 0.7942\n",
            "Epoch 12/20\n",
            "563/563 [==============================] - 23s 40ms/step - loss: 0.2917 - accuracy: 0.8749 - val_loss: 0.4996 - val_accuracy: 0.7883\n",
            "Epoch 13/20\n",
            "563/563 [==============================] - 23s 40ms/step - loss: 0.2691 - accuracy: 0.8857 - val_loss: 0.5167 - val_accuracy: 0.7884\n",
            "Epoch 14/20\n",
            "563/563 [==============================] - 23s 40ms/step - loss: 0.2464 - accuracy: 0.8969 - val_loss: 0.5690 - val_accuracy: 0.7832\n",
            "Epoch 15/20\n",
            "563/563 [==============================] - 22s 40ms/step - loss: 0.2280 - accuracy: 0.9059 - val_loss: 0.5994 - val_accuracy: 0.7756\n",
            "Epoch 16/20\n",
            "563/563 [==============================] - 23s 40ms/step - loss: 0.2074 - accuracy: 0.9157 - val_loss: 0.6372 - val_accuracy: 0.7819\n",
            "Epoch 17/20\n",
            "563/563 [==============================] - 23s 40ms/step - loss: 0.1880 - accuracy: 0.9251 - val_loss: 0.6652 - val_accuracy: 0.7772\n",
            "Epoch 18/20\n",
            "563/563 [==============================] - 23s 40ms/step - loss: 0.1671 - accuracy: 0.9337 - val_loss: 0.7101 - val_accuracy: 0.7770\n",
            "Epoch 19/20\n",
            "563/563 [==============================] - 22s 40ms/step - loss: 0.1490 - accuracy: 0.9416 - val_loss: 0.7294 - val_accuracy: 0.7752\n",
            "Epoch 20/20\n",
            "563/563 [==============================] - 23s 40ms/step - loss: 0.1361 - accuracy: 0.9466 - val_loss: 0.7700 - val_accuracy: 0.7735\n"
          ],
          "name": "stdout"
        }
      ]
    },
    {
      "cell_type": "code",
      "metadata": {
        "colab": {
          "base_uri": "https://localhost:8080/",
          "height": 279
        },
        "id": "kOFLdnfMJ-kb",
        "outputId": "9c025d64-2034-4c0d-e6df-ba8daf274e7f"
      },
      "source": [
        "plot_graphs(history2, \"accuracy\")"
      ],
      "execution_count": null,
      "outputs": [
        {
          "output_type": "display_data",
          "data": {
            "image/png": "[encoded data removed]",
            "text/plain": [
              "<Figure size 432x288 with 1 Axes>"
            ]
          },
          "metadata": {
            "tags": [],
            "needs_background": "light"
          }
        }
      ]
    },
    {
      "cell_type": "code",
      "metadata": {
        "colab": {
          "base_uri": "https://localhost:8080/",
          "height": 283
        },
        "id": "T-JPETleKAW6",
        "outputId": "ca6a1b1b-5c51-45c7-dd65-454a395594cf"
      },
      "source": [
        "plot_graphs(history2, \"loss\")"
      ],
      "execution_count": null,
      "outputs": [
        {
          "output_type": "display_data",
          "data": {
            "image/png": "[encoded data removed]",
            "text/plain": [
              "<Figure size 432x288 with 1 Axes>"
            ]
          },
          "metadata": {
            "tags": [],
            "needs_background": "light"
          }
        }
      ]
    },
    {
      "cell_type": "markdown",
      "metadata": {
        "id": "64fIsAddLz4b"
      },
      "source": [
        "**Started overfitting ~7th epoch. But feels like train metrics can be improved if added a bit more cimplexity and train for a bit longer.**"
      ]
    },
    {
      "cell_type": "markdown",
      "metadata": {
        "id": "v_z2leiahsJD"
      },
      "source": [
        "model 3"
      ]
    },
    {
      "cell_type": "code",
      "metadata": {
        "id": "HLR3lqKMg1iP",
        "colab": {
          "base_uri": "https://localhost:8080/"
        },
        "outputId": "b1b03223-83a0-44de-afa6-52dc843861c9"
      },
      "source": [
        "tf.keras.backend.clear_session()\n",
        "model3 = tf.keras.Sequential([\n",
        "    tf.keras.layers.Embedding(vocab_size+1, emb_dimension, input_length=inp_length, weights=[embedding_matrix], trainable=False),\n",
        "    tf.keras.layers.Conv1D(128, 5, activation='relu'),\n",
        "    tf.keras.layers.MaxPooling1D(pool_size=4),\n",
        "    tf.keras.layers.Bidirectional(tf.keras.layers.LSTM(256, return_sequences=True)),\n",
        "    tf.keras.layers.Bidirectional(tf.keras.layers.LSTM(128, return_sequences=True)),\n",
        "    tf.keras.layers.Bidirectional(tf.keras.layers.LSTM(64, return_sequences=True)),\n",
        "    tf.keras.layers.Bidirectional(tf.keras.layers.LSTM(32, return_sequences=True)),\n",
        "    tf.keras.layers.LSTM(32, return_sequences=True),\n",
        "    tf.keras.layers.Dense(1, activation='sigmoid')\n",
        "])\n",
        "model3.compile(loss = 'binary_crossentropy', optimizer = 'adam', metrics = ['accuracy'])\n",
        "model3.summary()"
      ],
      "execution_count": null,
      "outputs": [
        {
          "output_type": "stream",
          "text": [
            "Model: \"sequential\"\n",
            "_________________________________________________________________\n",
            "Layer (type)                 Output Shape              Param #   \n",
            "=================================================================\n",
            "embedding (Embedding)        (None, 64, 100)           12816000  \n",
            "_________________________________________________________________\n",
            "conv1d (Conv1D)              (None, 60, 128)           64128     \n",
            "_________________________________________________________________\n",
            "max_pooling1d (MaxPooling1D) (None, 15, 128)           0         \n",
            "_________________________________________________________________\n",
            "bidirectional (Bidirectional (None, 15, 512)           788480    \n",
            "_________________________________________________________________\n",
            "bidirectional_1 (Bidirection (None, 15, 256)           656384    \n",
            "_________________________________________________________________\n",
            "bidirectional_2 (Bidirection (None, 15, 128)           164352    \n",
            "_________________________________________________________________\n",
            "bidirectional_3 (Bidirection (None, 15, 64)            41216     \n",
            "_________________________________________________________________\n",
            "lstm_4 (LSTM)                (None, 15, 32)            12416     \n",
            "_________________________________________________________________\n",
            "dense (Dense)                (None, 15, 1)             33        \n",
            "=================================================================\n",
            "Total params: 14,543,009\n",
            "Trainable params: 1,727,009\n",
            "Non-trainable params: 12,816,000\n",
            "_________________________________________________________________\n"
          ],
          "name": "stdout"
        }
      ]
    },
    {
      "cell_type": "code",
      "metadata": {
        "id": "DM-9nDZqhxgp",
        "colab": {
          "base_uri": "https://localhost:8080/"
        },
        "outputId": "65d37955-ef03-496c-da1e-4510e169ea95"
      },
      "source": [
        "history3 = model3.fit(train_inp, train_labels, batch_size=256, epochs=30, validation_data=(val_inp, val_labels), validation_batch_size=256)"
      ],
      "execution_count": null,
      "outputs": [
        {
          "output_type": "stream",
          "text": [
            "Epoch 1/30\n",
            "563/563 [==============================] - 31s 35ms/step - loss: 0.5819 - accuracy: 0.6846 - val_loss: 0.4988 - val_accuracy: 0.7607\n",
            "Epoch 2/30\n",
            "563/563 [==============================] - 17s 30ms/step - loss: 0.4776 - accuracy: 0.7717 - val_loss: 0.4697 - val_accuracy: 0.7732\n",
            "Epoch 3/30\n",
            "563/563 [==============================] - 17s 30ms/step - loss: 0.4437 - accuracy: 0.7915 - val_loss: 0.4677 - val_accuracy: 0.7771\n",
            "Epoch 4/30\n",
            "563/563 [==============================] - 17s 30ms/step - loss: 0.4112 - accuracy: 0.8095 - val_loss: 0.4769 - val_accuracy: 0.7708\n",
            "Epoch 5/30\n",
            "563/563 [==============================] - 17s 30ms/step - loss: 0.3911 - accuracy: 0.8238 - val_loss: 0.4738 - val_accuracy: 0.7729\n",
            "Epoch 6/30\n",
            "563/563 [==============================] - 17s 30ms/step - loss: 0.3665 - accuracy: 0.8373 - val_loss: 0.4846 - val_accuracy: 0.7755\n",
            "Epoch 7/30\n",
            "563/563 [==============================] - 17s 30ms/step - loss: 0.3462 - accuracy: 0.8469 - val_loss: 0.5037 - val_accuracy: 0.7715\n",
            "Epoch 8/30\n",
            "563/563 [==============================] - 17s 30ms/step - loss: 0.3244 - accuracy: 0.8585 - val_loss: 0.4999 - val_accuracy: 0.7678\n",
            "Epoch 9/30\n",
            "563/563 [==============================] - 17s 30ms/step - loss: 0.3044 - accuracy: 0.8700 - val_loss: 0.5570 - val_accuracy: 0.7703\n",
            "Epoch 10/30\n",
            "563/563 [==============================] - 17s 30ms/step - loss: 0.2825 - accuracy: 0.8802 - val_loss: 0.5554 - val_accuracy: 0.7593\n",
            "Epoch 11/30\n",
            "563/563 [==============================] - 17s 30ms/step - loss: 0.2631 - accuracy: 0.8901 - val_loss: 0.5729 - val_accuracy: 0.7513\n",
            "Epoch 12/30\n",
            "563/563 [==============================] - 17s 30ms/step - loss: 0.2416 - accuracy: 0.8998 - val_loss: 0.6490 - val_accuracy: 0.7611\n",
            "Epoch 13/30\n",
            "563/563 [==============================] - 17s 30ms/step - loss: 0.2156 - accuracy: 0.9130 - val_loss: 0.6565 - val_accuracy: 0.7607\n",
            "Epoch 14/30\n",
            "563/563 [==============================] - 17s 30ms/step - loss: 0.1911 - accuracy: 0.9241 - val_loss: 0.7582 - val_accuracy: 0.7566\n",
            "Epoch 15/30\n",
            "563/563 [==============================] - 17s 30ms/step - loss: 0.1695 - accuracy: 0.9328 - val_loss: 0.7322 - val_accuracy: 0.7563\n",
            "Epoch 16/30\n",
            "563/563 [==============================] - 17s 30ms/step - loss: 0.1466 - accuracy: 0.9427 - val_loss: 0.8344 - val_accuracy: 0.7567\n",
            "Epoch 17/30\n",
            "563/563 [==============================] - 17s 30ms/step - loss: 0.1286 - accuracy: 0.9502 - val_loss: 0.9205 - val_accuracy: 0.7532\n",
            "Epoch 18/30\n",
            "563/563 [==============================] - 17s 30ms/step - loss: 0.1158 - accuracy: 0.9554 - val_loss: 0.9506 - val_accuracy: 0.7511\n",
            "Epoch 19/30\n",
            "563/563 [==============================] - 17s 30ms/step - loss: 0.1010 - accuracy: 0.9612 - val_loss: 0.8524 - val_accuracy: 0.7357\n",
            "Epoch 20/30\n",
            "563/563 [==============================] - 17s 30ms/step - loss: 0.0879 - accuracy: 0.9663 - val_loss: 0.8851 - val_accuracy: 0.7507\n",
            "Epoch 21/30\n",
            "563/563 [==============================] - 17s 30ms/step - loss: 0.0783 - accuracy: 0.9699 - val_loss: 1.1984 - val_accuracy: 0.7457\n",
            "Epoch 22/30\n",
            "563/563 [==============================] - 17s 30ms/step - loss: 0.0726 - accuracy: 0.9717 - val_loss: 1.0866 - val_accuracy: 0.7471\n",
            "Epoch 23/30\n",
            "563/563 [==============================] - 17s 30ms/step - loss: 0.0665 - accuracy: 0.9745 - val_loss: 1.2013 - val_accuracy: 0.7453\n",
            "Epoch 24/30\n",
            "563/563 [==============================] - 17s 30ms/step - loss: 0.0578 - accuracy: 0.9778 - val_loss: 1.2412 - val_accuracy: 0.7446\n",
            "Epoch 25/30\n",
            "563/563 [==============================] - 17s 30ms/step - loss: 0.0553 - accuracy: 0.9792 - val_loss: 1.1445 - val_accuracy: 0.7442\n",
            "Epoch 26/30\n",
            "563/563 [==============================] - 17s 30ms/step - loss: 0.0495 - accuracy: 0.9816 - val_loss: 1.2121 - val_accuracy: 0.7519\n",
            "Epoch 27/30\n",
            "563/563 [==============================] - 17s 30ms/step - loss: 0.0473 - accuracy: 0.9822 - val_loss: 1.2258 - val_accuracy: 0.7518\n",
            "Epoch 28/30\n",
            "563/563 [==============================] - 17s 30ms/step - loss: 0.0428 - accuracy: 0.9836 - val_loss: 1.3423 - val_accuracy: 0.7496\n",
            "Epoch 29/30\n",
            "563/563 [==============================] - 17s 30ms/step - loss: 0.0437 - accuracy: 0.9834 - val_loss: 1.1651 - val_accuracy: 0.7443\n",
            "Epoch 30/30\n",
            "563/563 [==============================] - 17s 30ms/step - loss: 0.0431 - accuracy: 0.9838 - val_loss: 1.3100 - val_accuracy: 0.7502\n"
          ],
          "name": "stdout"
        }
      ]
    },
    {
      "cell_type": "code",
      "metadata": {
        "colab": {
          "base_uri": "https://localhost:8080/",
          "height": 279
        },
        "id": "CxvTU_aHoLKt",
        "outputId": "40575ea4-f79b-4ced-f433-a2a75acf05ba"
      },
      "source": [
        "plot_graphs(history3, \"accuracy\")"
      ],
      "execution_count": null,
      "outputs": [
        {
          "output_type": "display_data",
          "data": {
            "image/png": "[encoded data removed]",
            "text/plain": [
              "<Figure size 432x288 with 1 Axes>"
            ]
          },
          "metadata": {
            "tags": [],
            "needs_background": "light"
          }
        }
      ]
    },
    {
      "cell_type": "code",
      "metadata": {
        "colab": {
          "base_uri": "https://localhost:8080/",
          "height": 282
        },
        "id": "8XyYiz4poOcI",
        "outputId": "5d33d2f3-3033-4e50-bffd-950de533c335"
      },
      "source": [
        "plot_graphs(history3, \"loss\")"
      ],
      "execution_count": null,
      "outputs": [
        {
          "output_type": "display_data",
          "data": {
            "image/png": "[encoded data removed]",
            "text/plain": [
              "<Figure size 432x288 with 1 Axes>"
            ]
          },
          "metadata": {
            "tags": [],
            "needs_background": "light"
          }
        }
      ]
    },
    {
      "cell_type": "markdown",
      "metadata": {
        "id": "PG1tQ_y6RPOZ"
      },
      "source": [
        "**So now we clearly overfitted as expected. From now try regularizing, train on entire data and callbacks to improve Validation metrics.**"
      ]
    },
    {
      "cell_type": "markdown",
      "metadata": {
        "id": "RY3uGhLPRnZm"
      },
      "source": [
        "model 4"
      ]
    },
    {
      "cell_type": "code",
      "metadata": {
        "id": "mNIgYW1cy0lL"
      },
      "source": [
        "tf.keras.backend.clear_session()\n",
        "model4 = tf.keras.Sequential([\n",
        "    tf.keras.layers.Embedding(vocab_size+1, emb_dimension, input_length=inp_length, weights=[embedding_matrix], trainable=False),\n",
        "    tf.keras.layers.Dropout(0.2),\n",
        "    tf.keras.layers.Conv1D(128, 5, activation='relu'),\n",
        "    tf.keras.layers.MaxPooling1D(pool_size=4),\n",
        "    tf.keras.layers.Bidirectional(tf.keras.layers.LSTM(256, return_sequences=True)),\n",
        "    tf.keras.layers.Bidirectional(tf.keras.layers.LSTM(128, return_sequences=True)),\n",
        "    tf.keras.layers.Bidirectional(tf.keras.layers.LSTM(64, return_sequences=True)),\n",
        "    tf.keras.layers.Bidirectional(tf.keras.layers.LSTM(32, return_sequences=True)),\n",
        "    tf.keras.layers.LSTM(32, return_sequences=True),\n",
        "    tf.keras.layers.Dense(64, activation='relu'),\n",
        "    tf.keras.layers.Dense(32, activation='relu', kernel_regularizer=tf.keras.regularizers.L2(0.01)),\n",
        "    tf.keras.layers.Dropout(0.2),\n",
        "    tf.keras.layers.Dense(1, activation='sigmoid')\n",
        "])"
      ],
      "execution_count": 31,
      "outputs": []
    },
    {
      "cell_type": "code",
      "metadata": {
        "id": "QKBkaCPvz1PD"
      },
      "source": [
        "BATCH_SIZE = 1024"
      ],
      "execution_count": 46,
      "outputs": []
    },
    {
      "cell_type": "code",
      "metadata": {
        "id": "mL4xLxPbzj3l"
      },
      "source": [
        "STEPS_PER_EPOCH = train_inp.shape[0]//BATCH_SIZE"
      ],
      "execution_count": 47,
      "outputs": []
    },
    {
      "cell_type": "code",
      "metadata": {
        "colab": {
          "base_uri": "https://localhost:8080/"
        },
        "id": "nVqITChc0r-f",
        "outputId": "14576875-8077-4a7f-d682-26c600b5244f"
      },
      "source": [
        "STEPS_PER_EPOCH"
      ],
      "execution_count": 48,
      "outputs": [
        {
          "output_type": "execute_result",
          "data": {
            "text/plain": [
              "1406"
            ]
          },
          "metadata": {
            "tags": []
          },
          "execution_count": 48
        }
      ]
    },
    {
      "cell_type": "code",
      "metadata": {
        "id": "AxWYOl-0kWQa"
      },
      "source": [
        "lr_schedule = tf.keras.optimizers.schedules.InverseTimeDecay(\n",
        "  0.001,\n",
        "  decay_steps=STEPS_PER_EPOCH*10,\n",
        "  decay_rate=1,\n",
        "  staircase=False)\n",
        "\n",
        "def get_optimizer():\n",
        "  return tf.keras.optimizers.Adam(lr_schedule)"
      ],
      "execution_count": 49,
      "outputs": []
    },
    {
      "cell_type": "code",
      "metadata": {
        "id": "wgLulao8lHRY"
      },
      "source": [
        "opt = get_optimizer()"
      ],
      "execution_count": 50,
      "outputs": []
    },
    {
      "cell_type": "code",
      "metadata": {
        "colab": {
          "base_uri": "https://localhost:8080/"
        },
        "id": "bMIp-UUeeYqY",
        "outputId": "354fc8aa-1000-4978-9159-38e01a13fb61"
      },
      "source": [
        "model4.compile(loss = 'binary_crossentropy', optimizer = opt, metrics = ['accuracy'])\n",
        "model4.summary()"
      ],
      "execution_count": 51,
      "outputs": [
        {
          "output_type": "stream",
          "text": [
            "Model: \"sequential\"\n",
            "_________________________________________________________________\n",
            "Layer (type)                 Output Shape              Param #   \n",
            "=================================================================\n",
            "embedding (Embedding)        (None, 64, 100)           64394100  \n",
            "_________________________________________________________________\n",
            "dropout (Dropout)            (None, 64, 100)           0         \n",
            "_________________________________________________________________\n",
            "conv1d (Conv1D)              (None, 60, 128)           64128     \n",
            "_________________________________________________________________\n",
            "max_pooling1d (MaxPooling1D) (None, 15, 128)           0         \n",
            "_________________________________________________________________\n",
            "bidirectional (Bidirectional (None, 15, 512)           788480    \n",
            "_________________________________________________________________\n",
            "bidirectional_1 (Bidirection (None, 15, 256)           656384    \n",
            "_________________________________________________________________\n",
            "bidirectional_2 (Bidirection (None, 15, 128)           164352    \n",
            "_________________________________________________________________\n",
            "bidirectional_3 (Bidirection (None, 15, 64)            41216     \n",
            "_________________________________________________________________\n",
            "lstm_4 (LSTM)                (None, 15, 32)            12416     \n",
            "_________________________________________________________________\n",
            "dense (Dense)                (None, 15, 64)            2112      \n",
            "_________________________________________________________________\n",
            "dense_1 (Dense)              (None, 15, 32)            2080      \n",
            "_________________________________________________________________\n",
            "dropout_1 (Dropout)          (None, 15, 32)            0         \n",
            "_________________________________________________________________\n",
            "dense_2 (Dense)              (None, 15, 1)             33        \n",
            "=================================================================\n",
            "Total params: 66,125,301\n",
            "Trainable params: 1,731,201\n",
            "Non-trainable params: 64,394,100\n",
            "_________________________________________________________________\n"
          ],
          "name": "stdout"
        }
      ]
    },
    {
      "cell_type": "code",
      "metadata": {
        "id": "PcX-Ja6w2HTM"
      },
      "source": [
        "es=tf.keras.callbacks.EarlyStopping(monitor='val_loss', patience=5)"
      ],
      "execution_count": 52,
      "outputs": []
    },
    {
      "cell_type": "code",
      "metadata": {
        "id": "hwMx8T-72LxX"
      },
      "source": [
        "cb = [es]"
      ],
      "execution_count": 53,
      "outputs": []
    },
    {
      "cell_type": "code",
      "metadata": {
        "colab": {
          "base_uri": "https://localhost:8080/"
        },
        "id": "95rfidUUR8my",
        "outputId": "537025aa-8dc9-4a28-bfc8-6ce3640064a7"
      },
      "source": [
        "history4 = model4.fit(train_inp, train_labels, batch_size=BATCH_SIZE, epochs=15, validation_data=(val_inp, val_labels), callbacks=cb)"
      ],
      "execution_count": 55,
      "outputs": [
        {
          "output_type": "stream",
          "text": [
            "Epoch 1/15\n",
            "1407/1407 [==============================] - 120s 85ms/step - loss: 0.4465 - accuracy: 0.7904 - val_loss: 0.4275 - val_accuracy: 0.8003\n",
            "Epoch 2/15\n",
            "1407/1407 [==============================] - 120s 85ms/step - loss: 0.4381 - accuracy: 0.7951 - val_loss: 0.4212 - val_accuracy: 0.8050\n",
            "Epoch 3/15\n",
            "1407/1407 [==============================] - 120s 85ms/step - loss: 0.4320 - accuracy: 0.7988 - val_loss: 0.4179 - val_accuracy: 0.8066\n",
            "Epoch 4/15\n",
            "1407/1407 [==============================] - 120s 85ms/step - loss: 0.4264 - accuracy: 0.8021 - val_loss: 0.4147 - val_accuracy: 0.8074\n",
            "Epoch 5/15\n",
            "1407/1407 [==============================] - 120s 85ms/step - loss: 0.4217 - accuracy: 0.8045 - val_loss: 0.4147 - val_accuracy: 0.8100\n",
            "Epoch 6/15\n",
            "1407/1407 [==============================] - 120s 85ms/step - loss: 0.4169 - accuracy: 0.8075 - val_loss: 0.4117 - val_accuracy: 0.8100\n",
            "Epoch 7/15\n",
            "1407/1407 [==============================] - 120s 85ms/step - loss: 0.4127 - accuracy: 0.8098 - val_loss: 0.4109 - val_accuracy: 0.8101\n",
            "Epoch 8/15\n",
            "1407/1407 [==============================] - 120s 85ms/step - loss: 0.4088 - accuracy: 0.8121 - val_loss: 0.4106 - val_accuracy: 0.8111\n",
            "Epoch 9/15\n",
            "1407/1407 [==============================] - 120s 85ms/step - loss: 0.4049 - accuracy: 0.8140 - val_loss: 0.4121 - val_accuracy: 0.8119\n",
            "Epoch 10/15\n",
            "1407/1407 [==============================] - 120s 85ms/step - loss: 0.4007 - accuracy: 0.8163 - val_loss: 0.4086 - val_accuracy: 0.8125\n",
            "Epoch 11/15\n",
            "1407/1407 [==============================] - 120s 85ms/step - loss: 0.3978 - accuracy: 0.8180 - val_loss: 0.4111 - val_accuracy: 0.8123\n",
            "Epoch 12/15\n",
            "1407/1407 [==============================] - 120s 85ms/step - loss: 0.3944 - accuracy: 0.8198 - val_loss: 0.4132 - val_accuracy: 0.8105\n",
            "Epoch 13/15\n",
            "1407/1407 [==============================] - 120s 85ms/step - loss: 0.3908 - accuracy: 0.8214 - val_loss: 0.4141 - val_accuracy: 0.8109\n",
            "Epoch 14/15\n",
            "1407/1407 [==============================] - 120s 85ms/step - loss: 0.3875 - accuracy: 0.8233 - val_loss: 0.4172 - val_accuracy: 0.8117\n",
            "Epoch 15/15\n",
            "1407/1407 [==============================] - 120s 85ms/step - loss: 0.3849 - accuracy: 0.8245 - val_loss: 0.4169 - val_accuracy: 0.8114\n"
          ],
          "name": "stdout"
        }
      ]
    },
    {
      "cell_type": "code",
      "metadata": {
        "id": "JK6r84VPSCzv",
        "colab": {
          "base_uri": "https://localhost:8080/",
          "height": 279
        },
        "outputId": "b46365e7-2982-459d-aad5-18fda596809c"
      },
      "source": [
        "plot_graphs(history4, \"accuracy\")"
      ],
      "execution_count": 56,
      "outputs": [
        {
          "output_type": "display_data",
          "data": {
            "image/png": "[encoded data removed]",
            "text/plain": [
              "<Figure size 432x288 with 1 Axes>"
            ]
          },
          "metadata": {
            "tags": [],
            "needs_background": "light"
          }
        }
      ]
    },
    {
      "cell_type": "code",
      "metadata": {
        "id": "xHZ8OMSMSFuY",
        "colab": {
          "base_uri": "https://localhost:8080/",
          "height": 279
        },
        "outputId": "64c5ad8a-4328-4f7e-919c-48f19637e575"
      },
      "source": [
        "plot_graphs(history4, \"loss\")"
      ],
      "execution_count": 57,
      "outputs": [
        {
          "output_type": "display_data",
          "data": {
            "image/png": "[encoded data removed]",
            "text/plain": [
              "<Figure size 432x288 with 1 Axes>"
            ]
          },
          "metadata": {
            "tags": [],
            "needs_background": "light"
          }
        }
      ]
    },
    {
      "cell_type": "markdown",
      "metadata": {
        "id": "kZziNzqhQbPO"
      },
      "source": [
        "**Decent if not great..**"
      ]
    }
  ]
}