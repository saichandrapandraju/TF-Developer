{
  "nbformat": 4,
  "nbformat_minor": 0,
  "metadata": {
    "colab": {
      "name": "4. Generate text.ipynb",
      "provenance": [],
      "collapsed_sections": [],
      "authorship_tag": "ABX9TyM3noLKLj1sEeWGQ4y+67li",
      "include_colab_link": true
    },
    "kernelspec": {
      "name": "python3",
      "display_name": "Python 3"
    },
    "language_info": {
      "name": "python"
    }
  },
  "cells": [
    {
      "cell_type": "markdown",
      "metadata": {
        "id": "view-in-github",
        "colab_type": "text"
      },
      "source": [
        "<a href=\"https://colab.research.google.com/github/saichandrapandraju/TF-Developer/blob/main/3.%20NLP/4_Generate_text.ipynb\" target=\"_parent\"><img src=\"https://colab.research.google.com/assets/colab-badge.svg\" alt=\"Open In Colab\"/></a>"
      ]
    },
    {
      "cell_type": "code",
      "metadata": {
        "id": "158I3HiwiLKE"
      },
      "source": [
        "import tensorflow as tf\n",
        "tf.random.set_seed(333)\n",
        "import numpy as np \n",
        "np.random.seed(333)"
      ],
      "execution_count": 2,
      "outputs": []
    },
    {
      "cell_type": "code",
      "metadata": {
        "colab": {
          "base_uri": "https://localhost:8080/"
        },
        "id": "qDvMonRZmC-q",
        "outputId": "8c6f37fb-33de-4dbb-ebde-1be6e7b0e88c"
      },
      "source": [
        "!wget --no-check-certificate \\\n",
        "    https://storage.googleapis.com/laurencemoroney-blog.appspot.com/sonnets.txt \\\n",
        "    -O /tmp/sonnets.txt"
      ],
      "execution_count": 3,
      "outputs": [
        {
          "output_type": "stream",
          "text": [
            "--2021-04-18 06:08:57--  https://storage.googleapis.com/laurencemoroney-blog.appspot.com/sonnets.txt\n",
            "Resolving storage.googleapis.com (storage.googleapis.com)... 108.177.112.128, 74.125.124.128, 172.217.214.128, ...\n",
            "Connecting to storage.googleapis.com (storage.googleapis.com)|108.177.112.128|:443... connected.\n",
            "HTTP request sent, awaiting response... 200 OK\n",
            "Length: 93578 (91K) [text/plain]\n",
            "Saving to: ‘/tmp/sonnets.txt’\n",
            "\n",
            "\r/tmp/sonnets.txt      0%[                    ]       0  --.-KB/s               \r/tmp/sonnets.txt    100%[===================>]  91.38K  --.-KB/s    in 0.001s  \n",
            "\n",
            "2021-04-18 06:08:57 (70.7 MB/s) - ‘/tmp/sonnets.txt’ saved [93578/93578]\n",
            "\n"
          ],
          "name": "stdout"
        }
      ]
    },
    {
      "cell_type": "markdown",
      "metadata": {
        "id": "y1KgkjgQmQqB"
      },
      "source": [
        "**Read the data**"
      ]
    },
    {
      "cell_type": "code",
      "metadata": {
        "id": "Ne1gwYwImKbK"
      },
      "source": [
        "corpus = open('/tmp/sonnets.txt').read().lower().split('\\n')"
      ],
      "execution_count": 5,
      "outputs": []
    },
    {
      "cell_type": "code",
      "metadata": {
        "colab": {
          "base_uri": "https://localhost:8080/"
        },
        "id": "x-ztbF_2mmTM",
        "outputId": "8b7d11d3-0858-4b18-c0d9-17ad45d2334c"
      },
      "source": [
        "len(corpus)"
      ],
      "execution_count": 7,
      "outputs": [
        {
          "output_type": "execute_result",
          "data": {
            "text/plain": [
              "2159"
            ]
          },
          "metadata": {
            "tags": []
          },
          "execution_count": 7
        }
      ]
    },
    {
      "cell_type": "code",
      "metadata": {
        "id": "2zY-1r_rmrfv"
      },
      "source": [
        "tok = tf.keras.preprocessing.text.Tokenizer(oov_token='<OOV>')\n",
        "tok.fit_on_texts(corpus)\n",
        "total_words = len(tok.word_index)+1"
      ],
      "execution_count": 8,
      "outputs": []
    },
    {
      "cell_type": "code",
      "metadata": {
        "colab": {
          "base_uri": "https://localhost:8080/"
        },
        "id": "N3an7fGmnYDf",
        "outputId": "323586b9-301b-4f45-f201-687897085928"
      },
      "source": [
        "total_words"
      ],
      "execution_count": 9,
      "outputs": [
        {
          "output_type": "execute_result",
          "data": {
            "text/plain": [
              "3212"
            ]
          },
          "metadata": {
            "tags": []
          },
          "execution_count": 9
        }
      ]
    },
    {
      "cell_type": "code",
      "metadata": {
        "colab": {
          "base_uri": "https://localhost:8080/"
        },
        "id": "DLBtItS7nZkC",
        "outputId": "0c349034-3005-499b-e199-f025a688866c"
      },
      "source": [
        "input_sequences = []\n",
        "for line in corpus:\n",
        "  token_list = tok.texts_to_sequences([line])[0]\n",
        "  print(token_list)\n",
        "  for i in range(1, len(token_list)):\n",
        "    n_gram_sequence = token_list[:i+1]\n",
        "    print(n_gram_sequence)\n",
        "  break"
      ],
      "execution_count": 12,
      "outputs": [
        {
          "output_type": "stream",
          "text": [
            "[35, 418, 878, 167, 214, 518]\n",
            "[35, 418]\n",
            "[35, 418, 878]\n",
            "[35, 418, 878, 167]\n",
            "[35, 418, 878, 167, 214]\n",
            "[35, 418, 878, 167, 214, 518]\n"
          ],
          "name": "stdout"
        }
      ]
    },
    {
      "cell_type": "code",
      "metadata": {
        "id": "7RbAIUZ7nkZl"
      },
      "source": [
        "input_sequences = []\n",
        "for line in corpus:\n",
        "\ttoken_list = tok.texts_to_sequences([line])[0]\n",
        "\tfor i in range(1, len(token_list)):\n",
        "\t\tn_gram_sequence = token_list[:i+1]\n",
        "\t\tinput_sequences.append(n_gram_sequence)"
      ],
      "execution_count": 14,
      "outputs": []
    },
    {
      "cell_type": "code",
      "metadata": {
        "id": "5yYrYmw3nzSl"
      },
      "source": [
        "max_len = max([len(x) for x in input_sequences])"
      ],
      "execution_count": 15,
      "outputs": []
    },
    {
      "cell_type": "code",
      "metadata": {
        "colab": {
          "base_uri": "https://localhost:8080/"
        },
        "id": "rouwO600n8rX",
        "outputId": "3b7b3418-3922-49f5-fbba-95e64674d293"
      },
      "source": [
        "max_len"
      ],
      "execution_count": 16,
      "outputs": [
        {
          "output_type": "execute_result",
          "data": {
            "text/plain": [
              "11"
            ]
          },
          "metadata": {
            "tags": []
          },
          "execution_count": 16
        }
      ]
    },
    {
      "cell_type": "code",
      "metadata": {
        "id": "FQeJolfdn94j"
      },
      "source": [
        "input_sequences = np.array(tf.keras.preprocessing.sequence.pad_sequences(input_sequences, maxlen=max_len, padding='pre'))"
      ],
      "execution_count": 17,
      "outputs": []
    },
    {
      "cell_type": "code",
      "metadata": {
        "colab": {
          "base_uri": "https://localhost:8080/"
        },
        "id": "jRFOhCuXoHL2",
        "outputId": "a3c85954-3198-4e72-f48d-ae9a5b2f6308"
      },
      "source": [
        "input_sequences[:6]"
      ],
      "execution_count": 20,
      "outputs": [
        {
          "output_type": "execute_result",
          "data": {
            "text/plain": [
              "array([[  0,   0,   0,   0,   0,   0,   0,   0,   0,  35, 418],\n",
              "       [  0,   0,   0,   0,   0,   0,   0,   0,  35, 418, 878],\n",
              "       [  0,   0,   0,   0,   0,   0,   0,  35, 418, 878, 167],\n",
              "       [  0,   0,   0,   0,   0,   0,  35, 418, 878, 167, 214],\n",
              "       [  0,   0,   0,   0,   0,  35, 418, 878, 167, 214, 518],\n",
              "       [  0,   0,   0,   0,   0,   0,   0,   0,   0,   9, 879]],\n",
              "      dtype=int32)"
            ]
          },
          "metadata": {
            "tags": []
          },
          "execution_count": 20
        }
      ]
    },
    {
      "cell_type": "code",
      "metadata": {
        "id": "lmgSuHP4oJDb"
      },
      "source": [
        "xs, labels = input_sequences[:, :-1], input_sequences[:, -1]"
      ],
      "execution_count": 21,
      "outputs": []
    },
    {
      "cell_type": "code",
      "metadata": {
        "colab": {
          "base_uri": "https://localhost:8080/"
        },
        "id": "uE9-L_fiohXs",
        "outputId": "ed9973e1-6e26-4d6d-aafa-a2abea010040"
      },
      "source": [
        "xs[:6], labels[:6]"
      ],
      "execution_count": 22,
      "outputs": [
        {
          "output_type": "execute_result",
          "data": {
            "text/plain": [
              "(array([[  0,   0,   0,   0,   0,   0,   0,   0,   0,  35],\n",
              "        [  0,   0,   0,   0,   0,   0,   0,   0,  35, 418],\n",
              "        [  0,   0,   0,   0,   0,   0,   0,  35, 418, 878],\n",
              "        [  0,   0,   0,   0,   0,   0,  35, 418, 878, 167],\n",
              "        [  0,   0,   0,   0,   0,  35, 418, 878, 167, 214],\n",
              "        [  0,   0,   0,   0,   0,   0,   0,   0,   0,   9]], dtype=int32),\n",
              " array([418, 878, 167, 214, 518, 879], dtype=int32))"
            ]
          },
          "metadata": {
            "tags": []
          },
          "execution_count": 22
        }
      ]
    },
    {
      "cell_type": "code",
      "metadata": {
        "id": "_w5Dr10womWl"
      },
      "source": [
        "ys = tf.keras.utils.to_categorical(labels, num_classes=total_words)"
      ],
      "execution_count": 23,
      "outputs": []
    },
    {
      "cell_type": "code",
      "metadata": {
        "id": "ys7DBeu6o6U4"
      },
      "source": [
        "tf.keras.backend.clear_session()\n",
        "model = tf.keras.Sequential([\n",
        "                             tf.keras.layers.Embedding(total_words, 100, input_length=max_len-1),\n",
        "                             tf.keras.layers.Bidirectional(tf.keras.layers.LSTM(128, return_sequences=True)),\n",
        "                             tf.keras.layers.LSTM(64),\n",
        "                             tf.keras.layers.Dense(1024, activation='relu'),\n",
        "                             tf.keras.layers.Dense(total_words, activation='softmax')\n",
        "])"
      ],
      "execution_count": 31,
      "outputs": []
    },
    {
      "cell_type": "code",
      "metadata": {
        "colab": {
          "base_uri": "https://localhost:8080/"
        },
        "id": "4K0YZJV-qLrx",
        "outputId": "34dc69d1-5915-4d65-9d31-4b29bff24f05"
      },
      "source": [
        "model.compile(optimizer='adam', loss='categorical_crossentropy', metrics=['accuracy'])\n",
        "model.summary()"
      ],
      "execution_count": 32,
      "outputs": [
        {
          "output_type": "stream",
          "text": [
            "Model: \"sequential\"\n",
            "_________________________________________________________________\n",
            "Layer (type)                 Output Shape              Param #   \n",
            "=================================================================\n",
            "embedding (Embedding)        (None, 10, 100)           321200    \n",
            "_________________________________________________________________\n",
            "bidirectional (Bidirectional (None, 10, 256)           234496    \n",
            "_________________________________________________________________\n",
            "lstm_1 (LSTM)                (None, 64)                82176     \n",
            "_________________________________________________________________\n",
            "dense (Dense)                (None, 1024)              66560     \n",
            "_________________________________________________________________\n",
            "dense_1 (Dense)              (None, 3212)              3292300   \n",
            "=================================================================\n",
            "Total params: 3,996,732\n",
            "Trainable params: 3,996,732\n",
            "Non-trainable params: 0\n",
            "_________________________________________________________________\n"
          ],
          "name": "stdout"
        }
      ]
    },
    {
      "cell_type": "code",
      "metadata": {
        "colab": {
          "base_uri": "https://localhost:8080/"
        },
        "id": "7jgoC4B2qIy_",
        "outputId": "e8d8c17e-b37b-4cd1-fd0e-d5c3b32cdbe9"
      },
      "source": [
        "history = model.fit(xs, ys, epochs=33, verbose=1)"
      ],
      "execution_count": 33,
      "outputs": [
        {
          "output_type": "stream",
          "text": [
            "Epoch 1/33\n",
            "484/484 [==============================] - 45s 81ms/step - loss: 7.0244 - accuracy: 0.0206\n",
            "Epoch 2/33\n",
            "484/484 [==============================] - 40s 83ms/step - loss: 6.4348 - accuracy: 0.0306\n",
            "Epoch 3/33\n",
            "484/484 [==============================] - 40s 83ms/step - loss: 6.1891 - accuracy: 0.0383\n",
            "Epoch 4/33\n",
            "484/484 [==============================] - 40s 83ms/step - loss: 5.9750 - accuracy: 0.0431\n",
            "Epoch 5/33\n",
            "484/484 [==============================] - 40s 83ms/step - loss: 5.7595 - accuracy: 0.0510\n",
            "Epoch 6/33\n",
            "484/484 [==============================] - 40s 83ms/step - loss: 5.5078 - accuracy: 0.0668\n",
            "Epoch 7/33\n",
            "484/484 [==============================] - 41s 84ms/step - loss: 5.2765 - accuracy: 0.0717\n",
            "Epoch 8/33\n",
            "484/484 [==============================] - 40s 82ms/step - loss: 5.0586 - accuracy: 0.0844\n",
            "Epoch 9/33\n",
            "484/484 [==============================] - 41s 84ms/step - loss: 4.8277 - accuracy: 0.0958\n",
            "Epoch 10/33\n",
            "484/484 [==============================] - 41s 85ms/step - loss: 4.5504 - accuracy: 0.1091\n",
            "Epoch 11/33\n",
            "484/484 [==============================] - 40s 83ms/step - loss: 4.2747 - accuracy: 0.1362\n",
            "Epoch 12/33\n",
            "484/484 [==============================] - 40s 84ms/step - loss: 4.0053 - accuracy: 0.1634\n",
            "Epoch 13/33\n",
            "484/484 [==============================] - 40s 83ms/step - loss: 3.7108 - accuracy: 0.1969\n",
            "Epoch 14/33\n",
            "484/484 [==============================] - 40s 83ms/step - loss: 3.4094 - accuracy: 0.2479\n",
            "Epoch 15/33\n",
            "484/484 [==============================] - 41s 84ms/step - loss: 3.0948 - accuracy: 0.3075\n",
            "Epoch 16/33\n",
            "484/484 [==============================] - 40s 84ms/step - loss: 2.8235 - accuracy: 0.3637\n",
            "Epoch 17/33\n",
            "484/484 [==============================] - 42s 86ms/step - loss: 2.5874 - accuracy: 0.4007\n",
            "Epoch 18/33\n",
            "484/484 [==============================] - 40s 83ms/step - loss: 2.3445 - accuracy: 0.4522\n",
            "Epoch 19/33\n",
            "484/484 [==============================] - 40s 82ms/step - loss: 2.1250 - accuracy: 0.5106\n",
            "Epoch 20/33\n",
            "484/484 [==============================] - 40s 83ms/step - loss: 1.9513 - accuracy: 0.5414\n",
            "Epoch 21/33\n",
            "484/484 [==============================] - 40s 82ms/step - loss: 1.7689 - accuracy: 0.5900\n",
            "Epoch 22/33\n",
            "484/484 [==============================] - 40s 84ms/step - loss: 1.6139 - accuracy: 0.6205\n",
            "Epoch 23/33\n",
            "484/484 [==============================] - 40s 84ms/step - loss: 1.5057 - accuracy: 0.6450\n",
            "Epoch 24/33\n",
            "484/484 [==============================] - 40s 83ms/step - loss: 1.3588 - accuracy: 0.6793\n",
            "Epoch 25/33\n",
            "484/484 [==============================] - 41s 84ms/step - loss: 1.2588 - accuracy: 0.7014\n",
            "Epoch 26/33\n",
            "484/484 [==============================] - 40s 83ms/step - loss: 1.1434 - accuracy: 0.7276\n",
            "Epoch 27/33\n",
            "484/484 [==============================] - 41s 84ms/step - loss: 1.1119 - accuracy: 0.7339\n",
            "Epoch 28/33\n",
            "484/484 [==============================] - 40s 83ms/step - loss: 0.9912 - accuracy: 0.7616\n",
            "Epoch 29/33\n",
            "484/484 [==============================] - 41s 85ms/step - loss: 0.9650 - accuracy: 0.7664\n",
            "Epoch 30/33\n",
            "484/484 [==============================] - 41s 84ms/step - loss: 0.8947 - accuracy: 0.7789\n",
            "Epoch 31/33\n",
            "484/484 [==============================] - 40s 83ms/step - loss: 0.8443 - accuracy: 0.7962\n",
            "Epoch 32/33\n",
            "484/484 [==============================] - 41s 86ms/step - loss: 0.8603 - accuracy: 0.7863\n",
            "Epoch 33/33\n",
            "484/484 [==============================] - 40s 84ms/step - loss: 0.7916 - accuracy: 0.8021\n"
          ],
          "name": "stdout"
        }
      ]
    },
    {
      "cell_type": "code",
      "metadata": {
        "colab": {
          "base_uri": "https://localhost:8080/",
          "height": 545
        },
        "id": "3gIw0Mwpqgr0",
        "outputId": "b040bd83-4218-4263-aadc-68444073a897"
      },
      "source": [
        "import matplotlib.pyplot as plt\n",
        "acc = history.history['accuracy']\n",
        "loss = history.history['loss']\n",
        "\n",
        "epochs = range(len(acc))\n",
        "\n",
        "plt.plot(epochs, acc, 'b', label='Training accuracy')\n",
        "plt.title('Training accuracy')\n",
        "\n",
        "plt.figure()\n",
        "\n",
        "plt.plot(epochs, loss, 'b', label='Training Loss')\n",
        "plt.title('Training loss')\n",
        "plt.legend()\n",
        "\n",
        "plt.show()"
      ],
      "execution_count": 34,
      "outputs": [
        {
          "output_type": "display_data",
          "data": {
            "image/png": "[encoded data removed]",
            "text/plain": [
              "<Figure size 432x288 with 1 Axes>"
            ]
          },
          "metadata": {
            "tags": [],
            "needs_background": "light"
          }
        },
        {
          "output_type": "display_data",
          "data": {
            "image/png": "[encoded data removed]",
            "text/plain": [
              "<Figure size 432x288 with 1 Axes>"
            ]
          },
          "metadata": {
            "tags": [],
            "needs_background": "light"
          }
        }
      ]
    },
    {
      "cell_type": "code",
      "metadata": {
        "id": "cb0ogt-wqqGc"
      },
      "source": [
        "seed_text = \"Help me Obi Wan Kenobi, you're my only hope\"\n",
        "next_words = 10"
      ],
      "execution_count": 35,
      "outputs": []
    },
    {
      "cell_type": "code",
      "metadata": {
        "colab": {
          "base_uri": "https://localhost:8080/"
        },
        "id": "M_kTedjbq0qK",
        "outputId": "1e206fe7-19c6-4503-859a-d78073e020c8"
      },
      "source": [
        "for _ in range(next_words):\n",
        "\ttoken_list = tok.texts_to_sequences([seed_text])[0]\n",
        "\ttoken_list = tf.keras.preprocessing.sequence.pad_sequences([token_list], maxlen=max_len-1, padding='pre')\n",
        "\tpredicted = model.predict_classes(token_list, verbose=0)\n",
        "\toutput_word = \"\"\n",
        "\tfor word, index in tok.word_index.items():\n",
        "\t\tif index == predicted:\n",
        "\t\t\toutput_word = word\n",
        "\t\t\tbreak\n",
        "\tseed_text += \" \" + output_word\n",
        "print(seed_text)"
      ],
      "execution_count": 38,
      "outputs": [
        {
          "output_type": "stream",
          "text": [
            "/usr/local/lib/python3.7/dist-packages/tensorflow/python/keras/engine/sequential.py:450: UserWarning: `model.predict_classes()` is deprecated and will be removed after 2021-01-01. Please use instead:* `np.argmax(model.predict(x), axis=-1)`,   if your model does multi-class classification   (e.g. if it uses a `softmax` last-layer activation).* `(model.predict(x) > 0.5).astype(\"int32\")`,   if your model does binary classification   (e.g. if it uses a `sigmoid` last-layer activation).\n",
            "  warnings.warn('`model.predict_classes()` is deprecated and '\n"
          ],
          "name": "stderr"
        },
        {
          "output_type": "stream",
          "text": [
            "Help me Obi Wan Kenobi, you're my only hope my mind grow'st sheds ' my gain of love back\n"
          ],
          "name": "stdout"
        }
      ]
    },
    {
      "cell_type": "code",
      "metadata": {
        "id": "BKhYIZ-kq6of"
      },
      "source": [
        ""
      ],
      "execution_count": null,
      "outputs": []
    }
  ]
}
