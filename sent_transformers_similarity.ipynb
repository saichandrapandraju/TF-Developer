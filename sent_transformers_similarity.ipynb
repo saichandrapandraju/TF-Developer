{
  "nbformat": 4,
  "nbformat_minor": 0,
  "metadata": {
    "colab": {
      "name": "sent-transformers-similarity.ipynb",
      "provenance": [],
      "collapsed_sections": [],
      "authorship_tag": "ABX9TyMK5edte7rYk5lfzoGBV80s",
      "include_colab_link": true
    },
    "kernelspec": {
      "name": "python3",
      "display_name": "Python 3"
    },
    "language_info": {
      "name": "python"
    },
    "widgets": {
      "application/vnd.jupyter.widget-state+json": {
        "e3cd23f5120942038ac759d36ec6c4ad": {
          "model_module": "@jupyter-widgets/controls",
          "model_name": "HBoxModel",
          "state": {
            "_view_name": "HBoxView",
            "_dom_classes": [],
            "_model_name": "HBoxModel",
            "_view_module": "@jupyter-widgets/controls",
            "_model_module_version": "1.5.0",
            "_view_count": null,
            "_view_module_version": "1.5.0",
            "box_style": "",
            "layout": "IPY_MODEL_5fafe39c03fa43ecaca454ff5213a860",
            "_model_module": "@jupyter-widgets/controls",
            "children": [
              "IPY_MODEL_9efeab298a1241e58d9d002105bd7837",
              "IPY_MODEL_06fc463410bd44c79c0973ed59a1cda0"
            ]
          }
        },
        "5fafe39c03fa43ecaca454ff5213a860": {
          "model_module": "@jupyter-widgets/base",
          "model_name": "LayoutModel",
          "state": {
            "_view_name": "LayoutView",
            "grid_template_rows": null,
            "right": null,
            "justify_content": null,
            "_view_module": "@jupyter-widgets/base",
            "overflow": null,
            "_model_module_version": "1.2.0",
            "_view_count": null,
            "flex_flow": null,
            "width": null,
            "min_width": null,
            "border": null,
            "align_items": null,
            "bottom": null,
            "_model_module": "@jupyter-widgets/base",
            "top": null,
            "grid_column": null,
            "overflow_y": null,
            "overflow_x": null,
            "grid_auto_flow": null,
            "grid_area": null,
            "grid_template_columns": null,
            "flex": null,
            "_model_name": "LayoutModel",
            "justify_items": null,
            "grid_row": null,
            "max_height": null,
            "align_content": null,
            "visibility": null,
            "align_self": null,
            "height": null,
            "min_height": null,
            "padding": null,
            "grid_auto_rows": null,
            "grid_gap": null,
            "max_width": null,
            "order": null,
            "_view_module_version": "1.2.0",
            "grid_template_areas": null,
            "object_position": null,
            "object_fit": null,
            "grid_auto_columns": null,
            "margin": null,
            "display": null,
            "left": null
          }
        },
        "9efeab298a1241e58d9d002105bd7837": {
          "model_module": "@jupyter-widgets/controls",
          "model_name": "FloatProgressModel",
          "state": {
            "_view_name": "ProgressView",
            "style": "IPY_MODEL_9359f757bf8e4c4cac79d767235d3582",
            "_dom_classes": [],
            "description": "100%",
            "_model_name": "FloatProgressModel",
            "bar_style": "success",
            "max": 1243516997,
            "_view_module": "@jupyter-widgets/controls",
            "_model_module_version": "1.5.0",
            "value": 1243516997,
            "_view_count": null,
            "_view_module_version": "1.5.0",
            "orientation": "horizontal",
            "min": 0,
            "description_tooltip": null,
            "_model_module": "@jupyter-widgets/controls",
            "layout": "IPY_MODEL_73b199a9846b4e3e8262f50ea45318f4"
          }
        },
        "06fc463410bd44c79c0973ed59a1cda0": {
          "model_module": "@jupyter-widgets/controls",
          "model_name": "HTMLModel",
          "state": {
            "_view_name": "HTMLView",
            "style": "IPY_MODEL_95b4e8aba0ca4523b5d07d3fff8b9f8c",
            "_dom_classes": [],
            "description": "",
            "_model_name": "HTMLModel",
            "placeholder": "​",
            "_view_module": "@jupyter-widgets/controls",
            "_model_module_version": "1.5.0",
            "value": " 1.24G/1.24G [01:03&lt;00:00, 19.7MB/s]",
            "_view_count": null,
            "_view_module_version": "1.5.0",
            "description_tooltip": null,
            "_model_module": "@jupyter-widgets/controls",
            "layout": "IPY_MODEL_deb86e1982c741728cb0ee9ddd50392d"
          }
        },
        "9359f757bf8e4c4cac79d767235d3582": {
          "model_module": "@jupyter-widgets/controls",
          "model_name": "ProgressStyleModel",
          "state": {
            "_view_name": "StyleView",
            "_model_name": "ProgressStyleModel",
            "description_width": "initial",
            "_view_module": "@jupyter-widgets/base",
            "_model_module_version": "1.5.0",
            "_view_count": null,
            "_view_module_version": "1.2.0",
            "bar_color": null,
            "_model_module": "@jupyter-widgets/controls"
          }
        },
        "73b199a9846b4e3e8262f50ea45318f4": {
          "model_module": "@jupyter-widgets/base",
          "model_name": "LayoutModel",
          "state": {
            "_view_name": "LayoutView",
            "grid_template_rows": null,
            "right": null,
            "justify_content": null,
            "_view_module": "@jupyter-widgets/base",
            "overflow": null,
            "_model_module_version": "1.2.0",
            "_view_count": null,
            "flex_flow": null,
            "width": null,
            "min_width": null,
            "border": null,
            "align_items": null,
            "bottom": null,
            "_model_module": "@jupyter-widgets/base",
            "top": null,
            "grid_column": null,
            "overflow_y": null,
            "overflow_x": null,
            "grid_auto_flow": null,
            "grid_area": null,
            "grid_template_columns": null,
            "flex": null,
            "_model_name": "LayoutModel",
            "justify_items": null,
            "grid_row": null,
            "max_height": null,
            "align_content": null,
            "visibility": null,
            "align_self": null,
            "height": null,
            "min_height": null,
            "padding": null,
            "grid_auto_rows": null,
            "grid_gap": null,
            "max_width": null,
            "order": null,
            "_view_module_version": "1.2.0",
            "grid_template_areas": null,
            "object_position": null,
            "object_fit": null,
            "grid_auto_columns": null,
            "margin": null,
            "display": null,
            "left": null
          }
        },
        "95b4e8aba0ca4523b5d07d3fff8b9f8c": {
          "model_module": "@jupyter-widgets/controls",
          "model_name": "DescriptionStyleModel",
          "state": {
            "_view_name": "StyleView",
            "_model_name": "DescriptionStyleModel",
            "description_width": "",
            "_view_module": "@jupyter-widgets/base",
            "_model_module_version": "1.5.0",
            "_view_count": null,
            "_view_module_version": "1.2.0",
            "_model_module": "@jupyter-widgets/controls"
          }
        },
        "deb86e1982c741728cb0ee9ddd50392d": {
          "model_module": "@jupyter-widgets/base",
          "model_name": "LayoutModel",
          "state": {
            "_view_name": "LayoutView",
            "grid_template_rows": null,
            "right": null,
            "justify_content": null,
            "_view_module": "@jupyter-widgets/base",
            "overflow": null,
            "_model_module_version": "1.2.0",
            "_view_count": null,
            "flex_flow": null,
            "width": null,
            "min_width": null,
            "border": null,
            "align_items": null,
            "bottom": null,
            "_model_module": "@jupyter-widgets/base",
            "top": null,
            "grid_column": null,
            "overflow_y": null,
            "overflow_x": null,
            "grid_auto_flow": null,
            "grid_area": null,
            "grid_template_columns": null,
            "flex": null,
            "_model_name": "LayoutModel",
            "justify_items": null,
            "grid_row": null,
            "max_height": null,
            "align_content": null,
            "visibility": null,
            "align_self": null,
            "height": null,
            "min_height": null,
            "padding": null,
            "grid_auto_rows": null,
            "grid_gap": null,
            "max_width": null,
            "order": null,
            "_view_module_version": "1.2.0",
            "grid_template_areas": null,
            "object_position": null,
            "object_fit": null,
            "grid_auto_columns": null,
            "margin": null,
            "display": null,
            "left": null
          }
        }
      }
    }
  },
  "cells": [
    {
      "cell_type": "markdown",
      "metadata": {
        "id": "view-in-github",
        "colab_type": "text"
      },
      "source": [
        "<a href=\"https://colab.research.google.com/github/saichandrapandraju/TF-Developer/blob/main/sent_transformers_similarity.ipynb\" target=\"_parent\"><img src=\"https://colab.research.google.com/assets/colab-badge.svg\" alt=\"Open In Colab\"/></a>"
      ]
    },
    {
      "cell_type": "code",
      "metadata": {
        "id": "rjJblhkayYfA"
      },
      "source": [
        "!pip install sentence-transformers"
      ],
      "execution_count": null,
      "outputs": []
    },
    {
      "cell_type": "code",
      "metadata": {
        "id": "jWwH6QX84NGD"
      },
      "source": [
        "model_name = 'stsb-bert-large'"
      ],
      "execution_count": null,
      "outputs": []
    },
    {
      "cell_type": "code",
      "metadata": {
        "id": "zQCpI7_CW6kz"
      },
      "source": [
        "from scipy.spatial import distance"
      ],
      "execution_count": null,
      "outputs": []
    },
    {
      "cell_type": "code",
      "metadata": {
        "colab": {
          "base_uri": "https://localhost:8080/",
          "height": 66,
          "referenced_widgets": [
            "e3cd23f5120942038ac759d36ec6c4ad",
            "5fafe39c03fa43ecaca454ff5213a860",
            "9efeab298a1241e58d9d002105bd7837",
            "06fc463410bd44c79c0973ed59a1cda0",
            "9359f757bf8e4c4cac79d767235d3582",
            "73b199a9846b4e3e8262f50ea45318f4",
            "95b4e8aba0ca4523b5d07d3fff8b9f8c",
            "deb86e1982c741728cb0ee9ddd50392d"
          ]
        },
        "id": "3pLlOfDM1jpe",
        "outputId": "c0e69e80-89d8-4d9c-f2c7-cb9881f3162d"
      },
      "source": [
        "from sentence_transformers import SentenceTransformer, util\n",
        "model = SentenceTransformer(model_name)"
      ],
      "execution_count": null,
      "outputs": [
        {
          "output_type": "display_data",
          "data": {
            "application/vnd.jupyter.widget-view+json": {
              "model_id": "e3cd23f5120942038ac759d36ec6c4ad",
              "version_minor": 0,
              "version_major": 2
            },
            "text/plain": [
              "HBox(children=(FloatProgress(value=0.0, max=1243516997.0), HTML(value='')))"
            ]
          },
          "metadata": {
            "tags": []
          }
        },
        {
          "output_type": "stream",
          "text": [
            "\n"
          ],
          "name": "stdout"
        }
      ]
    },
    {
      "cell_type": "code",
      "metadata": {
        "colab": {
          "base_uri": "https://localhost:8080/"
        },
        "id": "jBjyzfoY2h2v",
        "outputId": "ef67cf88-b682-47cd-df66-f0cc5804b885"
      },
      "source": [
        "#Compute embedding for both lists\n",
        "embeddings_t1 = model.encode(['imposed by'], convert_to_tensor=True)\n",
        "embeddings_t2 = model.encode(['with'], convert_to_tensor=True)\n",
        "\n",
        "#Compute cosine-similarits\n",
        "cosine_scores_t = util.pytorch_cos_sim(embeddings_t1, embeddings_t2)\n",
        "1-cosine_scores_t[0][0]"
      ],
      "execution_count": null,
      "outputs": [
        {
          "output_type": "execute_result",
          "data": {
            "text/plain": [
              "tensor(0.5495)"
            ]
          },
          "metadata": {
            "tags": []
          },
          "execution_count": 20
        }
      ]
    },
    {
      "cell_type": "code",
      "metadata": {
        "colab": {
          "base_uri": "https://localhost:8080/"
        },
        "id": "qlwiCBqPjxg4",
        "outputId": "11c74945-b346-4707-a4d1-b925bf608a18"
      },
      "source": [
        "distance.cdist(embeddings_t1, embeddings_t2, 'cosine')"
      ],
      "execution_count": null,
      "outputs": [
        {
          "output_type": "execute_result",
          "data": {
            "text/plain": [
              "array([[0.63540354]])"
            ]
          },
          "metadata": {
            "tags": []
          },
          "execution_count": 18
        }
      ]
    },
    {
      "cell_type": "code",
      "metadata": {
        "id": "nMW2OzvTzKlR"
      },
      "source": [
        "phrase_list =['approval of the',\n",
        "  'of action of',\n",
        "  'are detected because of',\n",
        "  'severe forms of',\n",
        "  'in 100% of  was capable to',\n",
        "  'in the acute treatment of',\n",
        "  'the successes of',\n",
        "  'to prevent dissemited',\n",
        "  'concluded that the',\n",
        "  '(summary last modified',\n",
        "  'The diagnosis of',\n",
        "  'effect of activated',\n",
        "  'involved in chemotherapy',\n",
        "  'or other serious',\n",
        "  'CONCLUSIONS:',\n",
        "  'is superior to',\n",
        "  'to onset of',\n",
        "  'in combition with',\n",
        "  'in patients with',\n",
        "  'in patients who',\n",
        "  'is recommended with',\n",
        "  '+ , particularly',\n",
        "  'fevers, weight loss,',\n",
        "  'after cessation of',\n",
        "  'In patients with',\n",
        "  'Treatment, emergency.',\n",
        "  'active in the in',\n",
        "  'was assessed with',\n",
        "  'of the remaining',\n",
        "  'prior to treatment,',\n",
        "  'vaccines prevent persistent',\n",
        "  'illustrate the key role of',\n",
        "  'and correct use of',\n",
        "  'large number of',\n",
        "  'have shown that',\n",
        "  'studied chronic pain:',\n",
        "  'were evaluated in 30 patients with',\n",
        "  ': a controlled',\n",
        "  '; consider',\n",
        "  'mortality in severe']\n",
        "mapped_list = ['allowed by',\n",
        "  'actuate',\n",
        "  'prevented by',\n",
        "  'high risk of',\n",
        "  'confirmed',\n",
        "  'symptoms',\n",
        "  'encouraged by',\n",
        "  'preventing',\n",
        "  'resulting in',\n",
        "  'results from',\n",
        "  'symptoms',\n",
        "  'actuate',\n",
        "  'symptoms',\n",
        "  'confirmed',\n",
        "  'results from',\n",
        "  'lead',\n",
        "  'impose',\n",
        "  'associated with',\n",
        "  'symptoms',\n",
        "  'symptoms',\n",
        "  'promoted by',\n",
        "  'because of',\n",
        "  'decreased by',\n",
        "  'reduce risk of',\n",
        "  'therapy with',\n",
        "  'symptoms',\n",
        "  'actuate',\n",
        "  'confirmed',\n",
        "  'prevents',\n",
        "  'instigate',\n",
        "  'preventing',\n",
        "  'inspire',\n",
        "  'because of',\n",
        "  'increased by',\n",
        "  'presented by',\n",
        "  'symptoms',\n",
        "  'treatment with',\n",
        "  'confirmed',\n",
        "  'decide',\n",
        "  'high risk of']\n",
        "score_list = [0.252712355,\n",
        "  0.274786871,\n",
        "  0.278728523,\n",
        "  0.288139184,\n",
        "  0.298116817,\n",
        "  0.307864458,\n",
        "  0.316422923,\n",
        "  0.318347344,\n",
        "  0.323418107,\n",
        "  0.325701044,\n",
        "  0.326886127,\n",
        "  0.329138781,\n",
        "  0.329630338,\n",
        "  0.334765593,\n",
        "  0.340955867,\n",
        "  0.341312466,\n",
        "  0.345221822,\n",
        "  0.349533808,\n",
        "  0.349788379,\n",
        "  0.349788379,\n",
        "  0.358796228,\n",
        "  0.360865459,\n",
        "  0.363420494,\n",
        "  0.365085005,\n",
        "  0.367321543,\n",
        "  0.372313104,\n",
        "  0.375378209,\n",
        "  0.378427875,\n",
        "  0.380169899,\n",
        "  0.386616138,\n",
        "  0.389193017,\n",
        "  0.390550574,\n",
        "  0.39471231,\n",
        "  0.394724975,\n",
        "  0.395007168,\n",
        "  0.395750093,\n",
        "  0.398803928,\n",
        "  0.405292049,\n",
        "  0.405413197,\n",
        "  0.406181506]"
      ],
      "execution_count": null,
      "outputs": []
    },
    {
      "cell_type": "code",
      "metadata": {
        "id": "Yfs9sZ1ny-5q"
      },
      "source": [
        "#Compute embedding for both lists\n",
        "embeddings1 = model.encode(phrase_list, convert_to_tensor=True)\n",
        "embeddings2 = model.encode(mapped_list, convert_to_tensor=True)\n",
        "\n",
        "#Compute cosine-similarits\n",
        "cosine_scores = util.pytorch_cos_sim(embeddings1, embeddings2)"
      ],
      "execution_count": null,
      "outputs": []
    },
    {
      "cell_type": "code",
      "metadata": {
        "id": "U-2w-u1n9Uma"
      },
      "source": [
        "csv_name = model_name.split('/')[-1]+'.csv'\n",
        "with open(csv_name,'w') as f:\n",
        "  f.write('{}, {}, {}, {}\\n'.format('Phrase','mapped','used','pred with '+model_name)) \n",
        "  for i in range(len(phrase_list)):\n",
        "      f.write(\"{}, {}, {}, {}\\n\".format(phrase_list[i], mapped_list[i], str(score_list[i]), str(1-float(cosine_scores[i][i]))))"
      ],
      "execution_count": null,
      "outputs": []
    },
    {
      "cell_type": "code",
      "metadata": {
        "colab": {
          "base_uri": "https://localhost:8080/"
        },
        "id": "dI6785HS2XZZ",
        "outputId": "f938f863-ebc4-4068-f0d8-a0af40e926c2"
      },
      "source": [
        "print('{:50s} {:30s} {:15s} {}\\n'.format('Phrase','mapped','used','pred with '+model_name)) \n",
        "for i in range(len(phrase_list)):\n",
        "    print(\"{:50s} {:30s} {:15s} {}\\n\".format(phrase_list[i], mapped_list[i], str(score_list[i]), str(1-float(cosine_scores[i][i]))))"
      ],
      "execution_count": null,
      "outputs": [
        {
          "output_type": "stream",
          "text": [
            "Phrase                                             mapped                         used            pred with stsb-roberta-large\n",
            "\n",
            "approval of the                                    allowed by                     0.252712355     0.33155345916748047\n",
            "\n",
            "of action of                                       actuate                        0.274786871     0.25941288471221924\n",
            "\n",
            "are detected because of                            prevented by                   0.278728523     0.6321745812892914\n",
            "\n",
            "severe forms of                                    high risk of                   0.288139184     0.26858770847320557\n",
            "\n",
            "in 100% of  was capable to                         confirmed                      0.298116817     0.36922430992126465\n",
            "\n",
            "in the acute treatment of                          symptoms                       0.307864458     0.38599085807800293\n",
            "\n",
            "the successes of                                   encouraged by                  0.316422923     0.34070146083831787\n",
            "\n",
            "to prevent dissemited                              preventing                     0.318347344     0.3590618371963501\n",
            "\n",
            "concluded that the                                 resulting in                   0.323418107     0.2510101795196533\n",
            "\n",
            "(summary last modified                             results from                   0.325701044     0.3830908536911011\n",
            "\n",
            "The diagnosis of                                   symptoms                       0.326886127     0.33694541454315186\n",
            "\n",
            "effect of activated                                actuate                        0.329138781     0.44509297609329224\n",
            "\n",
            "involved in chemotherapy                           symptoms                       0.329630338     0.36533522605895996\n",
            "\n",
            "or other serious                                   confirmed                      0.334765593     0.6540297865867615\n",
            "\n",
            "CONCLUSIONS:                                       results from                   0.340955867     0.2984418272972107\n",
            "\n",
            "is superior to                                     lead                           0.341312466     0.3071015477180481\n",
            "\n",
            "to onset of                                        impose                         0.345221822     0.4686880111694336\n",
            "\n",
            "in combition with                                  associated with                0.349533808     0.4304501414299011\n",
            "\n",
            "in patients with                                   symptoms                       0.349788379     0.3919997811317444\n",
            "\n",
            "in patients who                                    symptoms                       0.349788379     0.5140162110328674\n",
            "\n",
            "is recommended with                                promoted by                    0.358796228     0.3655950427055359\n",
            "\n",
            "+ , particularly                                   because of                     0.360865459     0.43462270498275757\n",
            "\n",
            "fevers, weight loss,                               decreased by                   0.363420494     0.5337324440479279\n",
            "\n",
            "after cessation of                                 reduce risk of                 0.365085005     0.4757079482078552\n",
            "\n",
            "In patients with                                   therapy with                   0.367321543     0.3432543873786926\n",
            "\n",
            "Treatment, emergency.                              symptoms                       0.372313104     0.452984094619751\n",
            "\n",
            "active in the in                                   actuate                        0.375378209     0.42510271072387695\n",
            "\n",
            "was assessed with                                  confirmed                      0.378427875     0.4147951602935791\n",
            "\n",
            "of the remaining                                   prevents                       0.380169899     0.5054254531860352\n",
            "\n",
            "prior to treatment,                                instigate                      0.386616138     0.44436436891555786\n",
            "\n",
            "vaccines prevent persistent                        preventing                     0.389193017     0.38919270038604736\n",
            "\n",
            "illustrate the key role of                         inspire                        0.390550574     0.4106718897819519\n",
            "\n",
            "and correct use of                                 because of                     0.39471231      0.43495702743530273\n",
            "\n",
            "large number of                                    increased by                   0.394724975     0.41794049739837646\n",
            "\n",
            "have shown that                                    presented by                   0.395007168     0.42413419485092163\n",
            "\n",
            "studied chronic pain:                              symptoms                       0.395750093     0.3850266933441162\n",
            "\n",
            "were evaluated in 30 patients with                 treatment with                 0.398803928     0.6863923668861389\n",
            "\n",
            ": a controlled                                     confirmed                      0.405292049     0.4222292900085449\n",
            "\n",
            "; consider                                         decide                         0.405413197     0.4315205216407776\n",
            "\n",
            "mortality in severe                                high risk of                   0.406181506     0.4569355249404907\n",
            "\n"
          ],
          "name": "stdout"
        }
      ]
    },
    {
      "cell_type": "code",
      "metadata": {
        "colab": {
          "base_uri": "https://localhost:8080/"
        },
        "id": "jn3GkN9pHwSr",
        "outputId": "6d8fdef6-9928-43c2-eb05-b03d9442547a"
      },
      "source": [
        "embeddings_choice_list = model.encode(mapped_list, convert_to_tensor=True)\n",
        "embeddings_infer = model.encode(['have shown that'], convert_to_tensor=True)\n",
        "\n",
        "#Compute cosine-similarits\n",
        "cos_scores = distance.cdist(embeddings_infer,embeddings_choice_list, 'cosine')\n",
        "cos_scores.shape"
      ],
      "execution_count": null,
      "outputs": [
        {
          "output_type": "execute_result",
          "data": {
            "text/plain": [
              "(1, 40)"
            ]
          },
          "metadata": {
            "tags": []
          },
          "execution_count": 242
        }
      ]
    },
    {
      "cell_type": "code",
      "metadata": {
        "colab": {
          "base_uri": "https://localhost:8080/"
        },
        "id": "TwshbvvdUyZE",
        "outputId": "d7ac18a3-a929-4592-d40a-93d8a6294d89"
      },
      "source": [
        "cos_scores"
      ],
      "execution_count": null,
      "outputs": [
        {
          "output_type": "execute_result",
          "data": {
            "text/plain": [
              "array([[0.31782147, 0.37471401, 0.27765988, 0.32620346, 0.35275482,\n",
              "        0.40810488, 0.30981205, 0.33298895, 0.18834466, 0.29246796,\n",
              "        0.40810488, 0.37471401, 0.40810488, 0.35275482, 0.29246796,\n",
              "        0.34458698, 0.31526626, 0.25422246, 0.40810488, 0.40810488,\n",
              "        0.32058377, 0.20889535, 0.23765616, 0.31850195, 0.28407098,\n",
              "        0.40810488, 0.37471401, 0.35275482, 0.31591547, 0.35378608,\n",
              "        0.33298895, 0.35192407, 0.20889535, 0.2429764 , 0.31885868,\n",
              "        0.40810488, 0.29167474, 0.35275482, 0.40131525, 0.32620346]])"
            ]
          },
          "metadata": {
            "tags": []
          },
          "execution_count": 243
        }
      ]
    },
    {
      "cell_type": "code",
      "metadata": {
        "id": "ovq2Y_kvTLa0"
      },
      "source": [
        "results = zip(range(len(cos_scores[0])), cos_scores[0])\n",
        "results = sorted(results, key=lambda x: x[1])"
      ],
      "execution_count": null,
      "outputs": []
    },
    {
      "cell_type": "code",
      "metadata": {
        "colab": {
          "base_uri": "https://localhost:8080/"
        },
        "id": "7_AVH5iQU1SE",
        "outputId": "dfb5b4a1-7238-4885-87f3-15a55c8e0036"
      },
      "source": [
        "results[0]"
      ],
      "execution_count": null,
      "outputs": [
        {
          "output_type": "execute_result",
          "data": {
            "text/plain": [
              "(8, 0.18834465722848814)"
            ]
          },
          "metadata": {
            "tags": []
          },
          "execution_count": 245
        }
      ]
    },
    {
      "cell_type": "code",
      "metadata": {
        "colab": {
          "base_uri": "https://localhost:8080/",
          "height": 35
        },
        "id": "k-VxcpiUU8B7",
        "outputId": "2969ddec-b0c6-450c-90e7-c1af77074611"
      },
      "source": [
        "mapped_list[results[0][0]]"
      ],
      "execution_count": null,
      "outputs": [
        {
          "output_type": "execute_result",
          "data": {
            "application/vnd.google.colaboratory.intrinsic+json": {
              "type": "string"
            },
            "text/plain": [
              "'resulting in'"
            ]
          },
          "metadata": {
            "tags": []
          },
          "execution_count": 246
        }
      ]
    },
    {
      "cell_type": "code",
      "metadata": {
        "id": "mmpgBLlUVpEI"
      },
      "source": [
        ""
      ],
      "execution_count": null,
      "outputs": []
    }
  ]
}